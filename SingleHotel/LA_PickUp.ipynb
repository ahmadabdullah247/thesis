{
 "metadata": {
  "language_info": {
   "codemirror_mode": {
    "name": "ipython",
    "version": 3
   },
   "file_extension": ".py",
   "mimetype": "text/x-python",
   "name": "python",
   "nbconvert_exporter": "python",
   "pygments_lexer": "ipython3",
   "version": "3.7.3-final"
  },
  "orig_nbformat": 2,
  "kernelspec": {
   "name": "Python 3.7.3 64-bit ('.venv': venv)",
   "display_name": "Python 3.7.3 64-bit ('.venv': venv)",
   "metadata": {
    "interpreter": {
     "hash": "4810ec6d65b77fb2a3661a37eb9fe343e3c0a3374161c2728fa14e5416b710cf"
    }
   }
  }
 },
 "nbformat": 4,
 "nbformat_minor": 2,
 "cells": [
  {
   "cell_type": "code",
   "execution_count": 1,
   "metadata": {
    "tags": []
   },
   "outputs": [
    {
     "output_type": "stream",
     "name": "stdout",
     "text": "/Users/ahmadabdullahtariq/Documents/Projects/Thesis/.venv/bin/python\n"
    }
   ],
   "source": [
    "!which python"
   ]
  },
  {
   "cell_type": "code",
   "execution_count": 2,
   "metadata": {},
   "outputs": [],
   "source": [
    "import pandas as pd\n",
    "import numpy as np \n",
    "import plotly.graph_objects as go"
   ]
  },
  {
   "cell_type": "code",
   "execution_count": 25,
   "metadata": {},
   "outputs": [],
   "source": [
    "df = pd.read_pickle('../dataset/preprocessed/284_imputed.pkl')"
   ]
  },
  {
   "cell_type": "code",
   "execution_count": 26,
   "metadata": {
    "tags": []
   },
   "outputs": [
    {
     "output_type": "stream",
     "name": "stdout",
     "text": "TargetDate      0\nDefinitive      0\nRooms           0\nSnapshotDate    0\nLAR             0\ndtype: int64\nTargetDate      datetime64[ns]\nDefinitive             float64\nRooms                  float64\nSnapshotDate    datetime64[ns]\nLAR                    float64\ndtype: object\n"
    }
   ],
   "source": [
    "print(df.isna().sum())\n",
    "print(df.dtypes)"
   ]
  },
  {
   "source": [
    "# Pick Up Model \n",
    "**Idea:** Classicial model also known as advance booking models. They use development of bookings over time for stay date to predict final date. The key concept here is how much the value has increased over time, and this gives us the trend for increments over time for prediction.\n",
    "<br><br>\n",
    "**Types**: There are two types of pick-up models.<br>\n",
    "1. Additive <br>\n",
    "2. Multiplicative <br>\n",
    "\n",
    "## Additive\n",
    "\\begin{gather*} \n",
    "ROH_{0,t} = ROH_{today} + P_{i,t}\\\\\n",
    "P_{i,t} = \\frac{\\sum_{i=1}^{n}{True_t-ROH_{0,t}}}{n}\n",
    "\\end{gather*}"
   ],
   "cell_type": "markdown",
   "metadata": {}
  },
  {
   "cell_type": "code",
   "execution_count": 27,
   "metadata": {},
   "outputs": [],
   "source": [
    "df['LeadTime'] = (df['TargetDate']-df['SnapshotDate']).dt.days\n",
    "# df['DOW'] = df.TargetDate.dt.dayofweek\n",
    "df = df.drop(columns=['LAR','SnapshotDate'])\n",
    "# just rearrange columns \n",
    "df = df[['TargetDate','LeadTime','Rooms','Definitive']]"
   ]
  },
  {
   "cell_type": "code",
   "execution_count": 28,
   "metadata": {},
   "outputs": [
    {
     "output_type": "execute_result",
     "data": {
      "text/plain": "  TargetDate  LeadTime  Rooms  Definitive\n0 2018-01-01        88  290.0        58.0\n1 2018-01-01        87  290.0        58.0\n2 2018-01-01        85  290.0        58.0\n3 2018-01-01        81  290.0        63.0\n4 2018-01-01        80  290.0        62.0",
      "text/html": "<div>\n<style scoped>\n    .dataframe tbody tr th:only-of-type {\n        vertical-align: middle;\n    }\n\n    .dataframe tbody tr th {\n        vertical-align: top;\n    }\n\n    .dataframe thead th {\n        text-align: right;\n    }\n</style>\n<table border=\"1\" class=\"dataframe\">\n  <thead>\n    <tr style=\"text-align: right;\">\n      <th></th>\n      <th>TargetDate</th>\n      <th>LeadTime</th>\n      <th>Rooms</th>\n      <th>Definitive</th>\n    </tr>\n  </thead>\n  <tbody>\n    <tr>\n      <th>0</th>\n      <td>2018-01-01</td>\n      <td>88</td>\n      <td>290.0</td>\n      <td>58.0</td>\n    </tr>\n    <tr>\n      <th>1</th>\n      <td>2018-01-01</td>\n      <td>87</td>\n      <td>290.0</td>\n      <td>58.0</td>\n    </tr>\n    <tr>\n      <th>2</th>\n      <td>2018-01-01</td>\n      <td>85</td>\n      <td>290.0</td>\n      <td>58.0</td>\n    </tr>\n    <tr>\n      <th>3</th>\n      <td>2018-01-01</td>\n      <td>81</td>\n      <td>290.0</td>\n      <td>63.0</td>\n    </tr>\n    <tr>\n      <th>4</th>\n      <td>2018-01-01</td>\n      <td>80</td>\n      <td>290.0</td>\n      <td>62.0</td>\n    </tr>\n  </tbody>\n</table>\n</div>"
     },
     "metadata": {},
     "execution_count": 28
    }
   ],
   "source": [
    "df.head()"
   ]
  },
  {
   "cell_type": "code",
   "execution_count": 29,
   "metadata": {},
   "outputs": [],
   "source": [
    "df = df.pivot(index='TargetDate',columns='LeadTime',values='Definitive')\n",
    "df = df.ffill(axis=1).bfill(axis=1)\n",
    "# Consider only 2018 and 2019\n",
    "df = df.iloc[:719]"
   ]
  },
  {
   "cell_type": "code",
   "execution_count": 30,
   "metadata": {},
   "outputs": [
    {
     "output_type": "execute_result",
     "data": {
      "text/plain": "LeadTime       0      1      2      3      4      5      6      7      8   \\\nTargetDate                                                                  \n2018-01-01  209.0  206.0  206.0  198.0  204.0  198.0  196.0  199.0  197.0   \n2018-01-02  223.0  214.0  209.0  209.0  201.0  203.0  188.0  183.0  184.0   \n2018-01-03  238.0  218.0  212.0  207.0  207.0  194.0  195.0  174.0  168.0   \n2018-01-04  234.0  222.0  211.0  208.0  203.0  203.0  189.0  186.0  161.0   \n2018-01-05  261.0  238.0  223.0  212.0  210.0  207.0  207.0  194.0  185.0   \n\nLeadTime       9   ...    80    81    82    83    84    85    86    87    88  \\\nTargetDate         ...                                                         \n2018-01-01  189.0  ...  62.0  63.0  63.0  63.0  63.0  58.0  58.0  58.0  58.0   \n2018-01-02  185.0  ...  52.0  50.0  51.0  51.0  51.0  51.0  49.0  49.0  48.0   \n2018-01-03  169.0  ...  40.0  40.0  39.0  39.0  39.0  39.0  39.0  36.0  36.0   \n2018-01-04  152.0  ...  35.0  33.0  33.0  33.0  33.0  33.0  33.0  33.0  32.0   \n2018-01-05  158.0  ...  29.0  29.0  27.0  27.0  27.0  27.0  27.0  27.0  27.0   \n\nLeadTime      89  \nTargetDate        \n2018-01-01  58.0  \n2018-01-02  48.0  \n2018-01-03  36.0  \n2018-01-04  32.0  \n2018-01-05  26.0  \n\n[5 rows x 90 columns]",
      "text/html": "<div>\n<style scoped>\n    .dataframe tbody tr th:only-of-type {\n        vertical-align: middle;\n    }\n\n    .dataframe tbody tr th {\n        vertical-align: top;\n    }\n\n    .dataframe thead th {\n        text-align: right;\n    }\n</style>\n<table border=\"1\" class=\"dataframe\">\n  <thead>\n    <tr style=\"text-align: right;\">\n      <th>LeadTime</th>\n      <th>0</th>\n      <th>1</th>\n      <th>2</th>\n      <th>3</th>\n      <th>4</th>\n      <th>5</th>\n      <th>6</th>\n      <th>7</th>\n      <th>8</th>\n      <th>9</th>\n      <th>...</th>\n      <th>80</th>\n      <th>81</th>\n      <th>82</th>\n      <th>83</th>\n      <th>84</th>\n      <th>85</th>\n      <th>86</th>\n      <th>87</th>\n      <th>88</th>\n      <th>89</th>\n    </tr>\n    <tr>\n      <th>TargetDate</th>\n      <th></th>\n      <th></th>\n      <th></th>\n      <th></th>\n      <th></th>\n      <th></th>\n      <th></th>\n      <th></th>\n      <th></th>\n      <th></th>\n      <th></th>\n      <th></th>\n      <th></th>\n      <th></th>\n      <th></th>\n      <th></th>\n      <th></th>\n      <th></th>\n      <th></th>\n      <th></th>\n      <th></th>\n    </tr>\n  </thead>\n  <tbody>\n    <tr>\n      <th>2018-01-01</th>\n      <td>209.0</td>\n      <td>206.0</td>\n      <td>206.0</td>\n      <td>198.0</td>\n      <td>204.0</td>\n      <td>198.0</td>\n      <td>196.0</td>\n      <td>199.0</td>\n      <td>197.0</td>\n      <td>189.0</td>\n      <td>...</td>\n      <td>62.0</td>\n      <td>63.0</td>\n      <td>63.0</td>\n      <td>63.0</td>\n      <td>63.0</td>\n      <td>58.0</td>\n      <td>58.0</td>\n      <td>58.0</td>\n      <td>58.0</td>\n      <td>58.0</td>\n    </tr>\n    <tr>\n      <th>2018-01-02</th>\n      <td>223.0</td>\n      <td>214.0</td>\n      <td>209.0</td>\n      <td>209.0</td>\n      <td>201.0</td>\n      <td>203.0</td>\n      <td>188.0</td>\n      <td>183.0</td>\n      <td>184.0</td>\n      <td>185.0</td>\n      <td>...</td>\n      <td>52.0</td>\n      <td>50.0</td>\n      <td>51.0</td>\n      <td>51.0</td>\n      <td>51.0</td>\n      <td>51.0</td>\n      <td>49.0</td>\n      <td>49.0</td>\n      <td>48.0</td>\n      <td>48.0</td>\n    </tr>\n    <tr>\n      <th>2018-01-03</th>\n      <td>238.0</td>\n      <td>218.0</td>\n      <td>212.0</td>\n      <td>207.0</td>\n      <td>207.0</td>\n      <td>194.0</td>\n      <td>195.0</td>\n      <td>174.0</td>\n      <td>168.0</td>\n      <td>169.0</td>\n      <td>...</td>\n      <td>40.0</td>\n      <td>40.0</td>\n      <td>39.0</td>\n      <td>39.0</td>\n      <td>39.0</td>\n      <td>39.0</td>\n      <td>39.0</td>\n      <td>36.0</td>\n      <td>36.0</td>\n      <td>36.0</td>\n    </tr>\n    <tr>\n      <th>2018-01-04</th>\n      <td>234.0</td>\n      <td>222.0</td>\n      <td>211.0</td>\n      <td>208.0</td>\n      <td>203.0</td>\n      <td>203.0</td>\n      <td>189.0</td>\n      <td>186.0</td>\n      <td>161.0</td>\n      <td>152.0</td>\n      <td>...</td>\n      <td>35.0</td>\n      <td>33.0</td>\n      <td>33.0</td>\n      <td>33.0</td>\n      <td>33.0</td>\n      <td>33.0</td>\n      <td>33.0</td>\n      <td>33.0</td>\n      <td>32.0</td>\n      <td>32.0</td>\n    </tr>\n    <tr>\n      <th>2018-01-05</th>\n      <td>261.0</td>\n      <td>238.0</td>\n      <td>223.0</td>\n      <td>212.0</td>\n      <td>210.0</td>\n      <td>207.0</td>\n      <td>207.0</td>\n      <td>194.0</td>\n      <td>185.0</td>\n      <td>158.0</td>\n      <td>...</td>\n      <td>29.0</td>\n      <td>29.0</td>\n      <td>27.0</td>\n      <td>27.0</td>\n      <td>27.0</td>\n      <td>27.0</td>\n      <td>27.0</td>\n      <td>27.0</td>\n      <td>27.0</td>\n      <td>26.0</td>\n    </tr>\n  </tbody>\n</table>\n<p>5 rows × 90 columns</p>\n</div>"
     },
     "metadata": {},
     "execution_count": 30
    }
   ],
   "source": [
    "df.head()"
   ]
  },
  {
   "cell_type": "code",
   "execution_count": 43,
   "metadata": {
    "tags": []
   },
   "outputs": [],
   "source": [
    "dx = df.copy()\n",
    "result = 0\n",
    "for col in range(9,89):\n",
    "    result = result + (dx[0]-dx[col])\n"
   ]
  },
  {
   "cell_type": "code",
   "execution_count": 9,
   "metadata": {},
   "outputs": [],
   "source": [
    "dx = df.copy()\n",
    "for col in range(0,89):\n",
    "    df[col] = dx[col]-dx[col+1]"
   ]
  },
  {
   "cell_type": "code",
   "execution_count": 10,
   "metadata": {},
   "outputs": [
    {
     "output_type": "execute_result",
     "data": {
      "text/plain": "LeadTime      0     1     2    3     4     5     6     7     8     9   ...  \\\nTargetDate                                                             ...   \n2018-01-01   3.0   0.0   8.0 -6.0   6.0   2.0  -3.0   2.0   8.0  -1.0  ...   \n2018-01-02   9.0   5.0   0.0  8.0  -2.0  15.0   5.0  -1.0  -1.0   8.0  ...   \n2018-01-03  20.0   6.0   5.0  0.0  13.0  -1.0  21.0   6.0  -1.0  -2.0  ...   \n2018-01-04  12.0  11.0   3.0  5.0   0.0  14.0   3.0  25.0   9.0   0.0  ...   \n2018-01-05  23.0  15.0  11.0  2.0   3.0   0.0  13.0   9.0  27.0  12.0  ...   \n\nLeadTime     80   81   82   83   84   85   86   87   88    89  \nTargetDate                                                     \n2018-01-01 -1.0  0.0  0.0  0.0  5.0  0.0  0.0  0.0  0.0  58.0  \n2018-01-02  2.0 -1.0  0.0  0.0  0.0  2.0  0.0  1.0  0.0  48.0  \n2018-01-03  0.0  1.0  0.0  0.0  0.0  0.0  3.0  0.0  0.0  36.0  \n2018-01-04  2.0  0.0  0.0  0.0  0.0  0.0  0.0  1.0  0.0  32.0  \n2018-01-05  0.0  2.0  0.0  0.0  0.0  0.0  0.0  0.0  1.0  26.0  \n\n[5 rows x 90 columns]",
      "text/html": "<div>\n<style scoped>\n    .dataframe tbody tr th:only-of-type {\n        vertical-align: middle;\n    }\n\n    .dataframe tbody tr th {\n        vertical-align: top;\n    }\n\n    .dataframe thead th {\n        text-align: right;\n    }\n</style>\n<table border=\"1\" class=\"dataframe\">\n  <thead>\n    <tr style=\"text-align: right;\">\n      <th>LeadTime</th>\n      <th>0</th>\n      <th>1</th>\n      <th>2</th>\n      <th>3</th>\n      <th>4</th>\n      <th>5</th>\n      <th>6</th>\n      <th>7</th>\n      <th>8</th>\n      <th>9</th>\n      <th>...</th>\n      <th>80</th>\n      <th>81</th>\n      <th>82</th>\n      <th>83</th>\n      <th>84</th>\n      <th>85</th>\n      <th>86</th>\n      <th>87</th>\n      <th>88</th>\n      <th>89</th>\n    </tr>\n    <tr>\n      <th>TargetDate</th>\n      <th></th>\n      <th></th>\n      <th></th>\n      <th></th>\n      <th></th>\n      <th></th>\n      <th></th>\n      <th></th>\n      <th></th>\n      <th></th>\n      <th></th>\n      <th></th>\n      <th></th>\n      <th></th>\n      <th></th>\n      <th></th>\n      <th></th>\n      <th></th>\n      <th></th>\n      <th></th>\n      <th></th>\n    </tr>\n  </thead>\n  <tbody>\n    <tr>\n      <th>2018-01-01</th>\n      <td>3.0</td>\n      <td>0.0</td>\n      <td>8.0</td>\n      <td>-6.0</td>\n      <td>6.0</td>\n      <td>2.0</td>\n      <td>-3.0</td>\n      <td>2.0</td>\n      <td>8.0</td>\n      <td>-1.0</td>\n      <td>...</td>\n      <td>-1.0</td>\n      <td>0.0</td>\n      <td>0.0</td>\n      <td>0.0</td>\n      <td>5.0</td>\n      <td>0.0</td>\n      <td>0.0</td>\n      <td>0.0</td>\n      <td>0.0</td>\n      <td>58.0</td>\n    </tr>\n    <tr>\n      <th>2018-01-02</th>\n      <td>9.0</td>\n      <td>5.0</td>\n      <td>0.0</td>\n      <td>8.0</td>\n      <td>-2.0</td>\n      <td>15.0</td>\n      <td>5.0</td>\n      <td>-1.0</td>\n      <td>-1.0</td>\n      <td>8.0</td>\n      <td>...</td>\n      <td>2.0</td>\n      <td>-1.0</td>\n      <td>0.0</td>\n      <td>0.0</td>\n      <td>0.0</td>\n      <td>2.0</td>\n      <td>0.0</td>\n      <td>1.0</td>\n      <td>0.0</td>\n      <td>48.0</td>\n    </tr>\n    <tr>\n      <th>2018-01-03</th>\n      <td>20.0</td>\n      <td>6.0</td>\n      <td>5.0</td>\n      <td>0.0</td>\n      <td>13.0</td>\n      <td>-1.0</td>\n      <td>21.0</td>\n      <td>6.0</td>\n      <td>-1.0</td>\n      <td>-2.0</td>\n      <td>...</td>\n      <td>0.0</td>\n      <td>1.0</td>\n      <td>0.0</td>\n      <td>0.0</td>\n      <td>0.0</td>\n      <td>0.0</td>\n      <td>3.0</td>\n      <td>0.0</td>\n      <td>0.0</td>\n      <td>36.0</td>\n    </tr>\n    <tr>\n      <th>2018-01-04</th>\n      <td>12.0</td>\n      <td>11.0</td>\n      <td>3.0</td>\n      <td>5.0</td>\n      <td>0.0</td>\n      <td>14.0</td>\n      <td>3.0</td>\n      <td>25.0</td>\n      <td>9.0</td>\n      <td>0.0</td>\n      <td>...</td>\n      <td>2.0</td>\n      <td>0.0</td>\n      <td>0.0</td>\n      <td>0.0</td>\n      <td>0.0</td>\n      <td>0.0</td>\n      <td>0.0</td>\n      <td>1.0</td>\n      <td>0.0</td>\n      <td>32.0</td>\n    </tr>\n    <tr>\n      <th>2018-01-05</th>\n      <td>23.0</td>\n      <td>15.0</td>\n      <td>11.0</td>\n      <td>2.0</td>\n      <td>3.0</td>\n      <td>0.0</td>\n      <td>13.0</td>\n      <td>9.0</td>\n      <td>27.0</td>\n      <td>12.0</td>\n      <td>...</td>\n      <td>0.0</td>\n      <td>2.0</td>\n      <td>0.0</td>\n      <td>0.0</td>\n      <td>0.0</td>\n      <td>0.0</td>\n      <td>0.0</td>\n      <td>0.0</td>\n      <td>1.0</td>\n      <td>26.0</td>\n    </tr>\n  </tbody>\n</table>\n<p>5 rows × 90 columns</p>\n</div>"
     },
     "metadata": {},
     "execution_count": 10
    }
   ],
   "source": [
    "df.head()"
   ]
  },
  {
   "cell_type": "code",
   "execution_count": 11,
   "metadata": {
    "tags": []
   },
   "outputs": [
    {
     "output_type": "stream",
     "name": "stdout",
     "text": "Target Date 2018-01-02 final occupancy: 223.0\n"
    }
   ],
   "source": [
    "print(\"Target Date 2018-01-02 final occupancy:\",np.sum(df.iloc[1].values))"
   ]
  },
  {
   "cell_type": "code",
   "execution_count": 17,
   "metadata": {},
   "outputs": [],
   "source": [
    "train = df.iloc[:575]\n",
    "test = df.iloc[575:]"
   ]
  },
  {
   "cell_type": "code",
   "execution_count": 19,
   "metadata": {},
   "outputs": [],
   "source": [
    "# sum all columns and average\n",
    "p = train.sum(axis = 0)/575"
   ]
  },
  {
   "cell_type": "code",
   "execution_count": 24,
   "metadata": {},
   "outputs": [
    {
     "output_type": "display_data",
     "data": {
      "application/vnd.plotly.v1+json": {
       "config": {
        "plotlyServerURL": "https://plot.ly"
       },
       "data": [
        {
         "mode": "lines",
         "name": "Price",
         "type": "scatter",
         "x": [
          0,
          1,
          2,
          3,
          4,
          5,
          6,
          7,
          8,
          9,
          10,
          11,
          12,
          13,
          14,
          15,
          16,
          17,
          18,
          19,
          20,
          21,
          22,
          23,
          24,
          25,
          26,
          27,
          28,
          29,
          30,
          31,
          32,
          33,
          34,
          35,
          36,
          37,
          38,
          39,
          40,
          41,
          42,
          43,
          44,
          45,
          46,
          47,
          48,
          49,
          50,
          51,
          52,
          53,
          54,
          55,
          56,
          57,
          58,
          59,
          60,
          61,
          62,
          63,
          64,
          65,
          66,
          67,
          68,
          69,
          70,
          71,
          72,
          73,
          74,
          75,
          76,
          77,
          78,
          79,
          80,
          81,
          82,
          83,
          84,
          85,
          86,
          87,
          88,
          89
         ],
         "y": [
          3.8869565217391306,
          4.208695652173913,
          4.029565217391304,
          4.638260869565217,
          4.822608695652174,
          5.685217391304348,
          5.777391304347826,
          5.464347826086956,
          4.728695652173913,
          4.47304347826087,
          4.739130434782608,
          4.664347826086956,
          4.829565217391305,
          4.450434782608696,
          4.245217391304347,
          4.043478260869565,
          4.055652173913043,
          4.179130434782609,
          4.2904347826086955,
          4.013913043478261,
          3.916521739130435,
          3.8260869565217392,
          3.652173913043478,
          3.4834782608695654,
          3.4747826086956524,
          3.4904347826086957,
          3.4121739130434783,
          3.4678260869565216,
          3.08,
          2.582608695652174,
          2.5982608695652174,
          2.4643478260869567,
          2.3860869565217393,
          2.48,
          2.0817391304347828,
          2.1008695652173914,
          2.0869565217391304,
          2.0121739130434784,
          1.9530434782608697,
          1.848695652173913,
          1.9982608695652173,
          2.111304347826087,
          1.951304347826087,
          1.6817391304347826,
          1.5721739130434782,
          1.7095652173913043,
          1.6017391304347826,
          1.568695652173913,
          1.4678260869565218,
          1.4991304347826087,
          1.5721739130434782,
          1.631304347826087,
          1.551304347826087,
          1.6991304347826086,
          1.5391304347826087,
          1.7895652173913044,
          1.7652173913043478,
          1.3930434782608696,
          1.2921739130434782,
          1.3113043478260868,
          1.1634782608695653,
          1.2382608695652173,
          1.288695652173913,
          1.3269565217391304,
          1.3269565217391304,
          1.3182608695652174,
          1.2852173913043479,
          1.1860869565217391,
          1.0591304347826087,
          1.0052173913043478,
          0.9895652173913043,
          0.9652173913043478,
          0.9269565217391305,
          0.928695652173913,
          0.9252173913043479,
          0.9930434782608696,
          0.9791304347826087,
          0.9460869565217391,
          1.0278260869565217,
          1.0991304347826087,
          0.9965217391304347,
          0.8226086956521739,
          0.8452173913043478,
          0.7930434782608695,
          0.7965217391304348,
          0.8121739130434783,
          0.7947826086956522,
          0.7617391304347826,
          0.7878260869565218,
          55.657391304347826
         ]
        }
       ],
       "layout": {
        "template": {
         "data": {
          "bar": [
           {
            "error_x": {
             "color": "#2a3f5f"
            },
            "error_y": {
             "color": "#2a3f5f"
            },
            "marker": {
             "line": {
              "color": "#E5ECF6",
              "width": 0.5
             }
            },
            "type": "bar"
           }
          ],
          "barpolar": [
           {
            "marker": {
             "line": {
              "color": "#E5ECF6",
              "width": 0.5
             }
            },
            "type": "barpolar"
           }
          ],
          "carpet": [
           {
            "aaxis": {
             "endlinecolor": "#2a3f5f",
             "gridcolor": "white",
             "linecolor": "white",
             "minorgridcolor": "white",
             "startlinecolor": "#2a3f5f"
            },
            "baxis": {
             "endlinecolor": "#2a3f5f",
             "gridcolor": "white",
             "linecolor": "white",
             "minorgridcolor": "white",
             "startlinecolor": "#2a3f5f"
            },
            "type": "carpet"
           }
          ],
          "choropleth": [
           {
            "colorbar": {
             "outlinewidth": 0,
             "ticks": ""
            },
            "type": "choropleth"
           }
          ],
          "contour": [
           {
            "colorbar": {
             "outlinewidth": 0,
             "ticks": ""
            },
            "colorscale": [
             [
              0,
              "#0d0887"
             ],
             [
              0.1111111111111111,
              "#46039f"
             ],
             [
              0.2222222222222222,
              "#7201a8"
             ],
             [
              0.3333333333333333,
              "#9c179e"
             ],
             [
              0.4444444444444444,
              "#bd3786"
             ],
             [
              0.5555555555555556,
              "#d8576b"
             ],
             [
              0.6666666666666666,
              "#ed7953"
             ],
             [
              0.7777777777777778,
              "#fb9f3a"
             ],
             [
              0.8888888888888888,
              "#fdca26"
             ],
             [
              1,
              "#f0f921"
             ]
            ],
            "type": "contour"
           }
          ],
          "contourcarpet": [
           {
            "colorbar": {
             "outlinewidth": 0,
             "ticks": ""
            },
            "type": "contourcarpet"
           }
          ],
          "heatmap": [
           {
            "colorbar": {
             "outlinewidth": 0,
             "ticks": ""
            },
            "colorscale": [
             [
              0,
              "#0d0887"
             ],
             [
              0.1111111111111111,
              "#46039f"
             ],
             [
              0.2222222222222222,
              "#7201a8"
             ],
             [
              0.3333333333333333,
              "#9c179e"
             ],
             [
              0.4444444444444444,
              "#bd3786"
             ],
             [
              0.5555555555555556,
              "#d8576b"
             ],
             [
              0.6666666666666666,
              "#ed7953"
             ],
             [
              0.7777777777777778,
              "#fb9f3a"
             ],
             [
              0.8888888888888888,
              "#fdca26"
             ],
             [
              1,
              "#f0f921"
             ]
            ],
            "type": "heatmap"
           }
          ],
          "heatmapgl": [
           {
            "colorbar": {
             "outlinewidth": 0,
             "ticks": ""
            },
            "colorscale": [
             [
              0,
              "#0d0887"
             ],
             [
              0.1111111111111111,
              "#46039f"
             ],
             [
              0.2222222222222222,
              "#7201a8"
             ],
             [
              0.3333333333333333,
              "#9c179e"
             ],
             [
              0.4444444444444444,
              "#bd3786"
             ],
             [
              0.5555555555555556,
              "#d8576b"
             ],
             [
              0.6666666666666666,
              "#ed7953"
             ],
             [
              0.7777777777777778,
              "#fb9f3a"
             ],
             [
              0.8888888888888888,
              "#fdca26"
             ],
             [
              1,
              "#f0f921"
             ]
            ],
            "type": "heatmapgl"
           }
          ],
          "histogram": [
           {
            "marker": {
             "colorbar": {
              "outlinewidth": 0,
              "ticks": ""
             }
            },
            "type": "histogram"
           }
          ],
          "histogram2d": [
           {
            "colorbar": {
             "outlinewidth": 0,
             "ticks": ""
            },
            "colorscale": [
             [
              0,
              "#0d0887"
             ],
             [
              0.1111111111111111,
              "#46039f"
             ],
             [
              0.2222222222222222,
              "#7201a8"
             ],
             [
              0.3333333333333333,
              "#9c179e"
             ],
             [
              0.4444444444444444,
              "#bd3786"
             ],
             [
              0.5555555555555556,
              "#d8576b"
             ],
             [
              0.6666666666666666,
              "#ed7953"
             ],
             [
              0.7777777777777778,
              "#fb9f3a"
             ],
             [
              0.8888888888888888,
              "#fdca26"
             ],
             [
              1,
              "#f0f921"
             ]
            ],
            "type": "histogram2d"
           }
          ],
          "histogram2dcontour": [
           {
            "colorbar": {
             "outlinewidth": 0,
             "ticks": ""
            },
            "colorscale": [
             [
              0,
              "#0d0887"
             ],
             [
              0.1111111111111111,
              "#46039f"
             ],
             [
              0.2222222222222222,
              "#7201a8"
             ],
             [
              0.3333333333333333,
              "#9c179e"
             ],
             [
              0.4444444444444444,
              "#bd3786"
             ],
             [
              0.5555555555555556,
              "#d8576b"
             ],
             [
              0.6666666666666666,
              "#ed7953"
             ],
             [
              0.7777777777777778,
              "#fb9f3a"
             ],
             [
              0.8888888888888888,
              "#fdca26"
             ],
             [
              1,
              "#f0f921"
             ]
            ],
            "type": "histogram2dcontour"
           }
          ],
          "mesh3d": [
           {
            "colorbar": {
             "outlinewidth": 0,
             "ticks": ""
            },
            "type": "mesh3d"
           }
          ],
          "parcoords": [
           {
            "line": {
             "colorbar": {
              "outlinewidth": 0,
              "ticks": ""
             }
            },
            "type": "parcoords"
           }
          ],
          "pie": [
           {
            "automargin": true,
            "type": "pie"
           }
          ],
          "scatter": [
           {
            "marker": {
             "colorbar": {
              "outlinewidth": 0,
              "ticks": ""
             }
            },
            "type": "scatter"
           }
          ],
          "scatter3d": [
           {
            "line": {
             "colorbar": {
              "outlinewidth": 0,
              "ticks": ""
             }
            },
            "marker": {
             "colorbar": {
              "outlinewidth": 0,
              "ticks": ""
             }
            },
            "type": "scatter3d"
           }
          ],
          "scattercarpet": [
           {
            "marker": {
             "colorbar": {
              "outlinewidth": 0,
              "ticks": ""
             }
            },
            "type": "scattercarpet"
           }
          ],
          "scattergeo": [
           {
            "marker": {
             "colorbar": {
              "outlinewidth": 0,
              "ticks": ""
             }
            },
            "type": "scattergeo"
           }
          ],
          "scattergl": [
           {
            "marker": {
             "colorbar": {
              "outlinewidth": 0,
              "ticks": ""
             }
            },
            "type": "scattergl"
           }
          ],
          "scattermapbox": [
           {
            "marker": {
             "colorbar": {
              "outlinewidth": 0,
              "ticks": ""
             }
            },
            "type": "scattermapbox"
           }
          ],
          "scatterpolar": [
           {
            "marker": {
             "colorbar": {
              "outlinewidth": 0,
              "ticks": ""
             }
            },
            "type": "scatterpolar"
           }
          ],
          "scatterpolargl": [
           {
            "marker": {
             "colorbar": {
              "outlinewidth": 0,
              "ticks": ""
             }
            },
            "type": "scatterpolargl"
           }
          ],
          "scatterternary": [
           {
            "marker": {
             "colorbar": {
              "outlinewidth": 0,
              "ticks": ""
             }
            },
            "type": "scatterternary"
           }
          ],
          "surface": [
           {
            "colorbar": {
             "outlinewidth": 0,
             "ticks": ""
            },
            "colorscale": [
             [
              0,
              "#0d0887"
             ],
             [
              0.1111111111111111,
              "#46039f"
             ],
             [
              0.2222222222222222,
              "#7201a8"
             ],
             [
              0.3333333333333333,
              "#9c179e"
             ],
             [
              0.4444444444444444,
              "#bd3786"
             ],
             [
              0.5555555555555556,
              "#d8576b"
             ],
             [
              0.6666666666666666,
              "#ed7953"
             ],
             [
              0.7777777777777778,
              "#fb9f3a"
             ],
             [
              0.8888888888888888,
              "#fdca26"
             ],
             [
              1,
              "#f0f921"
             ]
            ],
            "type": "surface"
           }
          ],
          "table": [
           {
            "cells": {
             "fill": {
              "color": "#EBF0F8"
             },
             "line": {
              "color": "white"
             }
            },
            "header": {
             "fill": {
              "color": "#C8D4E3"
             },
             "line": {
              "color": "white"
             }
            },
            "type": "table"
           }
          ]
         },
         "layout": {
          "annotationdefaults": {
           "arrowcolor": "#2a3f5f",
           "arrowhead": 0,
           "arrowwidth": 1
          },
          "coloraxis": {
           "colorbar": {
            "outlinewidth": 0,
            "ticks": ""
           }
          },
          "colorscale": {
           "diverging": [
            [
             0,
             "#8e0152"
            ],
            [
             0.1,
             "#c51b7d"
            ],
            [
             0.2,
             "#de77ae"
            ],
            [
             0.3,
             "#f1b6da"
            ],
            [
             0.4,
             "#fde0ef"
            ],
            [
             0.5,
             "#f7f7f7"
            ],
            [
             0.6,
             "#e6f5d0"
            ],
            [
             0.7,
             "#b8e186"
            ],
            [
             0.8,
             "#7fbc41"
            ],
            [
             0.9,
             "#4d9221"
            ],
            [
             1,
             "#276419"
            ]
           ],
           "sequential": [
            [
             0,
             "#0d0887"
            ],
            [
             0.1111111111111111,
             "#46039f"
            ],
            [
             0.2222222222222222,
             "#7201a8"
            ],
            [
             0.3333333333333333,
             "#9c179e"
            ],
            [
             0.4444444444444444,
             "#bd3786"
            ],
            [
             0.5555555555555556,
             "#d8576b"
            ],
            [
             0.6666666666666666,
             "#ed7953"
            ],
            [
             0.7777777777777778,
             "#fb9f3a"
            ],
            [
             0.8888888888888888,
             "#fdca26"
            ],
            [
             1,
             "#f0f921"
            ]
           ],
           "sequentialminus": [
            [
             0,
             "#0d0887"
            ],
            [
             0.1111111111111111,
             "#46039f"
            ],
            [
             0.2222222222222222,
             "#7201a8"
            ],
            [
             0.3333333333333333,
             "#9c179e"
            ],
            [
             0.4444444444444444,
             "#bd3786"
            ],
            [
             0.5555555555555556,
             "#d8576b"
            ],
            [
             0.6666666666666666,
             "#ed7953"
            ],
            [
             0.7777777777777778,
             "#fb9f3a"
            ],
            [
             0.8888888888888888,
             "#fdca26"
            ],
            [
             1,
             "#f0f921"
            ]
           ]
          },
          "colorway": [
           "#636efa",
           "#EF553B",
           "#00cc96",
           "#ab63fa",
           "#FFA15A",
           "#19d3f3",
           "#FF6692",
           "#B6E880",
           "#FF97FF",
           "#FECB52"
          ],
          "font": {
           "color": "#2a3f5f"
          },
          "geo": {
           "bgcolor": "white",
           "lakecolor": "white",
           "landcolor": "#E5ECF6",
           "showlakes": true,
           "showland": true,
           "subunitcolor": "white"
          },
          "hoverlabel": {
           "align": "left"
          },
          "hovermode": "closest",
          "mapbox": {
           "style": "light"
          },
          "paper_bgcolor": "white",
          "plot_bgcolor": "#E5ECF6",
          "polar": {
           "angularaxis": {
            "gridcolor": "white",
            "linecolor": "white",
            "ticks": ""
           },
           "bgcolor": "#E5ECF6",
           "radialaxis": {
            "gridcolor": "white",
            "linecolor": "white",
            "ticks": ""
           }
          },
          "scene": {
           "xaxis": {
            "backgroundcolor": "#E5ECF6",
            "gridcolor": "white",
            "gridwidth": 2,
            "linecolor": "white",
            "showbackground": true,
            "ticks": "",
            "zerolinecolor": "white"
           },
           "yaxis": {
            "backgroundcolor": "#E5ECF6",
            "gridcolor": "white",
            "gridwidth": 2,
            "linecolor": "white",
            "showbackground": true,
            "ticks": "",
            "zerolinecolor": "white"
           },
           "zaxis": {
            "backgroundcolor": "#E5ECF6",
            "gridcolor": "white",
            "gridwidth": 2,
            "linecolor": "white",
            "showbackground": true,
            "ticks": "",
            "zerolinecolor": "white"
           }
          },
          "shapedefaults": {
           "line": {
            "color": "#2a3f5f"
           }
          },
          "ternary": {
           "aaxis": {
            "gridcolor": "white",
            "linecolor": "white",
            "ticks": ""
           },
           "baxis": {
            "gridcolor": "white",
            "linecolor": "white",
            "ticks": ""
           },
           "bgcolor": "#E5ECF6",
           "caxis": {
            "gridcolor": "white",
            "linecolor": "white",
            "ticks": ""
           }
          },
          "title": {
           "x": 0.05
          },
          "xaxis": {
           "automargin": true,
           "gridcolor": "white",
           "linecolor": "white",
           "ticks": "",
           "title": {
            "standoff": 15
           },
           "zerolinecolor": "white",
           "zerolinewidth": 2
          },
          "yaxis": {
           "automargin": true,
           "gridcolor": "white",
           "linecolor": "white",
           "ticks": "",
           "title": {
            "standoff": 15
           },
           "zerolinecolor": "white",
           "zerolinewidth": 2
          }
         }
        }
       }
      }
     },
     "metadata": {}
    }
   ],
   "source": [
    "fig = go.Figure()\n",
    "fig.add_trace(go.Scatter(x=p.index, y=p,mode='lines',name='Price'))\n",
    "fig.show()   "
   ]
  },
  {
   "source": [
    "## Multiplicative"
   ],
   "cell_type": "markdown",
   "metadata": {}
  },
  {
   "cell_type": "code",
   "execution_count": 39,
   "metadata": {},
   "outputs": [],
   "source": [
    "from operator import mul\n",
    "from functools import reduce"
   ]
  },
  {
   "cell_type": "code",
   "execution_count": 36,
   "metadata": {},
   "outputs": [
    {
     "output_type": "execute_result",
     "data": {
      "text/plain": "LeadTime       0      1      2      3      4      5      6      7      8   \\\nTargetDate                                                                  \n2018-01-01  209.0  206.0  206.0  198.0  204.0  198.0  196.0  199.0  197.0   \n2018-01-02  223.0  214.0  209.0  209.0  201.0  203.0  188.0  183.0  184.0   \n2018-01-03  238.0  218.0  212.0  207.0  207.0  194.0  195.0  174.0  168.0   \n2018-01-04  234.0  222.0  211.0  208.0  203.0  203.0  189.0  186.0  161.0   \n2018-01-05  261.0  238.0  223.0  212.0  210.0  207.0  207.0  194.0  185.0   \n\nLeadTime       9   ...    80    81    82    83    84    85    86    87    88  \\\nTargetDate         ...                                                         \n2018-01-01  189.0  ...  62.0  63.0  63.0  63.0  63.0  58.0  58.0  58.0  58.0   \n2018-01-02  185.0  ...  52.0  50.0  51.0  51.0  51.0  51.0  49.0  49.0  48.0   \n2018-01-03  169.0  ...  40.0  40.0  39.0  39.0  39.0  39.0  39.0  36.0  36.0   \n2018-01-04  152.0  ...  35.0  33.0  33.0  33.0  33.0  33.0  33.0  33.0  32.0   \n2018-01-05  158.0  ...  29.0  29.0  27.0  27.0  27.0  27.0  27.0  27.0  27.0   \n\nLeadTime      89  \nTargetDate        \n2018-01-01  58.0  \n2018-01-02  48.0  \n2018-01-03  36.0  \n2018-01-04  32.0  \n2018-01-05  26.0  \n\n[5 rows x 90 columns]",
      "text/html": "<div>\n<style scoped>\n    .dataframe tbody tr th:only-of-type {\n        vertical-align: middle;\n    }\n\n    .dataframe tbody tr th {\n        vertical-align: top;\n    }\n\n    .dataframe thead th {\n        text-align: right;\n    }\n</style>\n<table border=\"1\" class=\"dataframe\">\n  <thead>\n    <tr style=\"text-align: right;\">\n      <th>LeadTime</th>\n      <th>0</th>\n      <th>1</th>\n      <th>2</th>\n      <th>3</th>\n      <th>4</th>\n      <th>5</th>\n      <th>6</th>\n      <th>7</th>\n      <th>8</th>\n      <th>9</th>\n      <th>...</th>\n      <th>80</th>\n      <th>81</th>\n      <th>82</th>\n      <th>83</th>\n      <th>84</th>\n      <th>85</th>\n      <th>86</th>\n      <th>87</th>\n      <th>88</th>\n      <th>89</th>\n    </tr>\n    <tr>\n      <th>TargetDate</th>\n      <th></th>\n      <th></th>\n      <th></th>\n      <th></th>\n      <th></th>\n      <th></th>\n      <th></th>\n      <th></th>\n      <th></th>\n      <th></th>\n      <th></th>\n      <th></th>\n      <th></th>\n      <th></th>\n      <th></th>\n      <th></th>\n      <th></th>\n      <th></th>\n      <th></th>\n      <th></th>\n      <th></th>\n    </tr>\n  </thead>\n  <tbody>\n    <tr>\n      <th>2018-01-01</th>\n      <td>209.0</td>\n      <td>206.0</td>\n      <td>206.0</td>\n      <td>198.0</td>\n      <td>204.0</td>\n      <td>198.0</td>\n      <td>196.0</td>\n      <td>199.0</td>\n      <td>197.0</td>\n      <td>189.0</td>\n      <td>...</td>\n      <td>62.0</td>\n      <td>63.0</td>\n      <td>63.0</td>\n      <td>63.0</td>\n      <td>63.0</td>\n      <td>58.0</td>\n      <td>58.0</td>\n      <td>58.0</td>\n      <td>58.0</td>\n      <td>58.0</td>\n    </tr>\n    <tr>\n      <th>2018-01-02</th>\n      <td>223.0</td>\n      <td>214.0</td>\n      <td>209.0</td>\n      <td>209.0</td>\n      <td>201.0</td>\n      <td>203.0</td>\n      <td>188.0</td>\n      <td>183.0</td>\n      <td>184.0</td>\n      <td>185.0</td>\n      <td>...</td>\n      <td>52.0</td>\n      <td>50.0</td>\n      <td>51.0</td>\n      <td>51.0</td>\n      <td>51.0</td>\n      <td>51.0</td>\n      <td>49.0</td>\n      <td>49.0</td>\n      <td>48.0</td>\n      <td>48.0</td>\n    </tr>\n    <tr>\n      <th>2018-01-03</th>\n      <td>238.0</td>\n      <td>218.0</td>\n      <td>212.0</td>\n      <td>207.0</td>\n      <td>207.0</td>\n      <td>194.0</td>\n      <td>195.0</td>\n      <td>174.0</td>\n      <td>168.0</td>\n      <td>169.0</td>\n      <td>...</td>\n      <td>40.0</td>\n      <td>40.0</td>\n      <td>39.0</td>\n      <td>39.0</td>\n      <td>39.0</td>\n      <td>39.0</td>\n      <td>39.0</td>\n      <td>36.0</td>\n      <td>36.0</td>\n      <td>36.0</td>\n    </tr>\n    <tr>\n      <th>2018-01-04</th>\n      <td>234.0</td>\n      <td>222.0</td>\n      <td>211.0</td>\n      <td>208.0</td>\n      <td>203.0</td>\n      <td>203.0</td>\n      <td>189.0</td>\n      <td>186.0</td>\n      <td>161.0</td>\n      <td>152.0</td>\n      <td>...</td>\n      <td>35.0</td>\n      <td>33.0</td>\n      <td>33.0</td>\n      <td>33.0</td>\n      <td>33.0</td>\n      <td>33.0</td>\n      <td>33.0</td>\n      <td>33.0</td>\n      <td>32.0</td>\n      <td>32.0</td>\n    </tr>\n    <tr>\n      <th>2018-01-05</th>\n      <td>261.0</td>\n      <td>238.0</td>\n      <td>223.0</td>\n      <td>212.0</td>\n      <td>210.0</td>\n      <td>207.0</td>\n      <td>207.0</td>\n      <td>194.0</td>\n      <td>185.0</td>\n      <td>158.0</td>\n      <td>...</td>\n      <td>29.0</td>\n      <td>29.0</td>\n      <td>27.0</td>\n      <td>27.0</td>\n      <td>27.0</td>\n      <td>27.0</td>\n      <td>27.0</td>\n      <td>27.0</td>\n      <td>27.0</td>\n      <td>26.0</td>\n    </tr>\n  </tbody>\n</table>\n<p>5 rows × 90 columns</p>\n</div>"
     },
     "metadata": {},
     "execution_count": 36
    }
   ],
   "source": [
    "df.head()"
   ]
  },
  {
   "cell_type": "code",
   "execution_count": 37,
   "metadata": {},
   "outputs": [],
   "source": [
    "dx = df.copy()\n",
    "for col in range(0,89):\n",
    "    df[col] = dx[col]/dx[col+1]"
   ]
  },
  {
   "cell_type": "code",
   "execution_count": 41,
   "metadata": {},
   "outputs": [
    {
     "output_type": "execute_result",
     "data": {
      "text/plain": "209.0000000000001"
     },
     "metadata": {},
     "execution_count": 41
    }
   ],
   "source": [
    "reduce(mul, df.iloc[0].values)"
   ]
  },
  {
   "cell_type": "code",
   "execution_count": null,
   "metadata": {},
   "outputs": [],
   "source": []
  }
 ]
}