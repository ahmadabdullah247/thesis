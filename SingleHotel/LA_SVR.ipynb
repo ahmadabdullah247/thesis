{
 "cells": [
  {
   "cell_type": "code",
   "execution_count": 25,
   "metadata": {
    "tags": []
   },
   "outputs": [
    {
     "name": "stdout",
     "output_type": "stream",
     "text": [
      "/Users/ahmadabdullahtariq/Documents/Projects/Thesis/.venv/bin/python\n"
     ]
    }
   ],
   "source": [
    "!which python"
   ]
  },
  {
   "cell_type": "markdown",
   "metadata": {},
   "source": [
    "# SVR\n",
    "- https://stats.stackexchange.com/questions/82044/how-does-support-vector-regression-work-intuitively\n",
    "- https://stats.stackexchange.com/questions/13194/support-vector-machines-and-regression"
   ]
  },
  {
   "cell_type": "code",
   "execution_count": 1,
   "metadata": {
    "tags": []
   },
   "outputs": [],
   "source": [
    "import pandas as pd\n",
    "import numpy as np\n",
    "from datetime import datetime, timedelta\n",
    "\n",
    "from sklearn.svm import SVR,LinearSVR\n",
    "from sklearn.preprocessing import StandardScaler\n",
    "from sklearn.pipeline import Pipeline\n",
    "from sklearn.metrics import mean_squared_error\n",
    "\n",
    "\n",
    "import matplotlib as mpl\n",
    "import matplotlib.pyplot as plt\n",
    "mpl.rcParams['figure.figsize'] = (30, 8)\n",
    "mpl.rcParams['axes.grid'] = True\n",
    "from evaluation import forecast_accuracy\n",
    "\n",
    "import warnings\n",
    "warnings.filterwarnings('ignore')"
   ]
  },
  {
   "cell_type": "code",
   "execution_count": 2,
   "metadata": {
    "tags": []
   },
   "outputs": [
    {
     "name": "stdout",
     "output_type": "stream",
     "text": [
      "DOA         0\n",
      "DBA         0\n",
      "LAR      5040\n",
      "ADR      4950\n",
      "Rooms       0\n",
      "ROH         0\n",
      "dtype: int64\n",
      "DOA       object\n",
      "DBA      float64\n",
      "LAR      float64\n",
      "ADR      float64\n",
      "Rooms    float64\n",
      "ROH      float64\n",
      "dtype: object\n"
     ]
    }
   ],
   "source": [
    "df = pd.read_pickle('../dataset/preprocessed/48_imputed.pkl')\n",
    "\n",
    "print(df.isna().sum())\n",
    "print(df.dtypes)"
   ]
  },
  {
   "cell_type": "markdown",
   "metadata": {},
   "source": [
    "## Preprocessing"
   ]
  },
  {
   "cell_type": "code",
   "execution_count": 3,
   "metadata": {},
   "outputs": [],
   "source": [
    "def preprocess(dx):\n",
    "    # drop Null entries\n",
    "    dx = dx[~dx['LAR'].isna()]\n",
    "    dx['DOA'] = pd.to_datetime(dx['DOA'])\n",
    "\n",
    "    # Normalize Rooms \n",
    "    dx.loc[dx['Rooms']==0,'Rooms'] = dx['Rooms'].max()\n",
    "    # Normalize ROH \n",
    "    dx.loc[dx['ROH']==0,'ROH'] = dx['ROH'].median()\n",
    "    # convert to OCC\n",
    "    dx['ROH'] = dx['ROH']/dx['Rooms']\n",
    "    dx = dx.drop(columns=['Rooms'])\n",
    "    # dx = dx.drop(columns=['Rooms','LAR','ADR'])\n",
    "\n",
    "\n",
    "    dx['DOW'] = dx['DOA'].dt.dayofweek\n",
    "    dx['Mon'] = dx['DOA'].dt.month\n",
    "    dx['Day'] = dx['DOA'].dt.day\n",
    "\n",
    "    # just to make DOA unique\n",
    "    dx['DOA'] = dx['DOA']+dx['DBA'].apply(lambda x: timedelta(minutes=(1440-((x+1)*16)))) \n",
    "    dx = dx.set_index('DOA')\n",
    "    dx.loc[dx['ROH']>1,'ROH']=1.0\n",
    "    # scaling \n",
    "    scaler = StandardScaler()\n",
    "    cols = [col for col in dx.columns if col != 'ROH']\n",
    "    dx[cols] = scaler.fit_transform(dx[cols])\n",
    "    return dx\n",
    "\n",
    "def train_test_split(dx):\n",
    "    index = int(len(dx)*0.8)\n",
    "    train = dx[:index]\n",
    "    test  = dx[index:]\n",
    "    return train,test"
   ]
  },
  {
   "cell_type": "code",
   "execution_count": 4,
   "metadata": {},
   "outputs": [
    {
     "name": "stderr",
     "output_type": "stream",
     "text": [
      "<ipython-input-3-e2567ce49fb9>:4: SettingWithCopyWarning: \n",
      "A value is trying to be set on a copy of a slice from a DataFrame.\n",
      "Try using .loc[row_indexer,col_indexer] = value instead\n",
      "\n",
      "See the caveats in the documentation: https://pandas.pydata.org/pandas-docs/stable/user_guide/indexing.html#returning-a-view-versus-a-copy\n",
      "  dx['DOA'] = pd.to_datetime(dx['DOA'])\n",
      "/home/ahmad/Desktop/thesis/.venv/lib/python3.8/site-packages/pandas/core/indexing.py:1765: SettingWithCopyWarning: \n",
      "A value is trying to be set on a copy of a slice from a DataFrame.\n",
      "Try using .loc[row_indexer,col_indexer] = value instead\n",
      "\n",
      "See the caveats in the documentation: https://pandas.pydata.org/pandas-docs/stable/user_guide/indexing.html#returning-a-view-versus-a-copy\n",
      "  isetter(loc, value)\n",
      "/home/ahmad/Desktop/thesis/.venv/lib/python3.8/site-packages/pandas/core/indexing.py:1765: SettingWithCopyWarning: \n",
      "A value is trying to be set on a copy of a slice from a DataFrame.\n",
      "Try using .loc[row_indexer,col_indexer] = value instead\n",
      "\n",
      "See the caveats in the documentation: https://pandas.pydata.org/pandas-docs/stable/user_guide/indexing.html#returning-a-view-versus-a-copy\n",
      "  isetter(loc, value)\n",
      "<ipython-input-3-e2567ce49fb9>:11: SettingWithCopyWarning: \n",
      "A value is trying to be set on a copy of a slice from a DataFrame.\n",
      "Try using .loc[row_indexer,col_indexer] = value instead\n",
      "\n",
      "See the caveats in the documentation: https://pandas.pydata.org/pandas-docs/stable/user_guide/indexing.html#returning-a-view-versus-a-copy\n",
      "  dx['ROH'] = dx['ROH']/dx['Rooms']\n"
     ]
    }
   ],
   "source": [
    "df = preprocess(df)"
   ]
  },
  {
   "cell_type": "code",
   "execution_count": 5,
   "metadata": {},
   "outputs": [
    {
     "data": {
      "text/html": [
       "<div>\n",
       "<style scoped>\n",
       "    .dataframe tbody tr th:only-of-type {\n",
       "        vertical-align: middle;\n",
       "    }\n",
       "\n",
       "    .dataframe tbody tr th {\n",
       "        vertical-align: top;\n",
       "    }\n",
       "\n",
       "    .dataframe thead th {\n",
       "        text-align: right;\n",
       "    }\n",
       "</style>\n",
       "<table border=\"1\" class=\"dataframe\">\n",
       "  <thead>\n",
       "    <tr style=\"text-align: right;\">\n",
       "      <th></th>\n",
       "      <th>DBA</th>\n",
       "      <th>LAR</th>\n",
       "      <th>ADR</th>\n",
       "      <th>ROH</th>\n",
       "      <th>DOW</th>\n",
       "      <th>Mon</th>\n",
       "      <th>Day</th>\n",
       "    </tr>\n",
       "    <tr>\n",
       "      <th>DOA</th>\n",
       "      <th></th>\n",
       "      <th></th>\n",
       "      <th></th>\n",
       "      <th></th>\n",
       "      <th></th>\n",
       "      <th></th>\n",
       "      <th></th>\n",
       "    </tr>\n",
       "  </thead>\n",
       "  <tbody>\n",
       "    <tr>\n",
       "      <th>2018-01-01 00:00:00</th>\n",
       "      <td>1.712912</td>\n",
       "      <td>-0.828820</td>\n",
       "      <td>-0.830304</td>\n",
       "      <td>0.860465</td>\n",
       "      <td>-1.4852</td>\n",
       "      <td>-1.566804</td>\n",
       "      <td>-1.683037</td>\n",
       "    </tr>\n",
       "    <tr>\n",
       "      <th>2018-01-01 00:16:00</th>\n",
       "      <td>1.674419</td>\n",
       "      <td>-0.828820</td>\n",
       "      <td>-0.830304</td>\n",
       "      <td>0.813953</td>\n",
       "      <td>-1.4852</td>\n",
       "      <td>-1.566804</td>\n",
       "      <td>-1.683037</td>\n",
       "    </tr>\n",
       "    <tr>\n",
       "      <th>2018-01-01 00:32:00</th>\n",
       "      <td>1.635927</td>\n",
       "      <td>-0.828820</td>\n",
       "      <td>-0.806895</td>\n",
       "      <td>0.790698</td>\n",
       "      <td>-1.4852</td>\n",
       "      <td>-1.566804</td>\n",
       "      <td>-1.683037</td>\n",
       "    </tr>\n",
       "    <tr>\n",
       "      <th>2018-01-01 00:48:00</th>\n",
       "      <td>1.597434</td>\n",
       "      <td>-0.828820</td>\n",
       "      <td>-0.806895</td>\n",
       "      <td>0.767442</td>\n",
       "      <td>-1.4852</td>\n",
       "      <td>-1.566804</td>\n",
       "      <td>-1.683037</td>\n",
       "    </tr>\n",
       "    <tr>\n",
       "      <th>2018-01-01 01:04:00</th>\n",
       "      <td>1.558942</td>\n",
       "      <td>-0.594387</td>\n",
       "      <td>-0.596217</td>\n",
       "      <td>0.767442</td>\n",
       "      <td>-1.4852</td>\n",
       "      <td>-1.566804</td>\n",
       "      <td>-1.683037</td>\n",
       "    </tr>\n",
       "    <tr>\n",
       "      <th>2018-01-01 01:20:00</th>\n",
       "      <td>1.520450</td>\n",
       "      <td>-0.594387</td>\n",
       "      <td>-0.537696</td>\n",
       "      <td>0.744186</td>\n",
       "      <td>-1.4852</td>\n",
       "      <td>-1.566804</td>\n",
       "      <td>-1.683037</td>\n",
       "    </tr>\n",
       "    <tr>\n",
       "      <th>2018-01-01 01:36:00</th>\n",
       "      <td>1.481957</td>\n",
       "      <td>-0.477171</td>\n",
       "      <td>-0.479174</td>\n",
       "      <td>0.744186</td>\n",
       "      <td>-1.4852</td>\n",
       "      <td>-1.566804</td>\n",
       "      <td>-1.683037</td>\n",
       "    </tr>\n",
       "    <tr>\n",
       "      <th>2018-01-01 01:52:00</th>\n",
       "      <td>1.443465</td>\n",
       "      <td>-0.477171</td>\n",
       "      <td>-0.479174</td>\n",
       "      <td>0.744186</td>\n",
       "      <td>-1.4852</td>\n",
       "      <td>-1.566804</td>\n",
       "      <td>-1.683037</td>\n",
       "    </tr>\n",
       "    <tr>\n",
       "      <th>2018-01-01 02:08:00</th>\n",
       "      <td>1.404972</td>\n",
       "      <td>-0.477171</td>\n",
       "      <td>-0.401145</td>\n",
       "      <td>0.744186</td>\n",
       "      <td>-1.4852</td>\n",
       "      <td>-1.566804</td>\n",
       "      <td>-1.683037</td>\n",
       "    </tr>\n",
       "    <tr>\n",
       "      <th>2018-01-01 02:24:00</th>\n",
       "      <td>1.366480</td>\n",
       "      <td>-0.008304</td>\n",
       "      <td>-0.011001</td>\n",
       "      <td>0.744186</td>\n",
       "      <td>-1.4852</td>\n",
       "      <td>-1.566804</td>\n",
       "      <td>-1.683037</td>\n",
       "    </tr>\n",
       "  </tbody>\n",
       "</table>\n",
       "</div>"
      ],
      "text/plain": [
       "                          DBA       LAR       ADR       ROH     DOW       Mon  \\\n",
       "DOA                                                                             \n",
       "2018-01-01 00:00:00  1.712912 -0.828820 -0.830304  0.860465 -1.4852 -1.566804   \n",
       "2018-01-01 00:16:00  1.674419 -0.828820 -0.830304  0.813953 -1.4852 -1.566804   \n",
       "2018-01-01 00:32:00  1.635927 -0.828820 -0.806895  0.790698 -1.4852 -1.566804   \n",
       "2018-01-01 00:48:00  1.597434 -0.828820 -0.806895  0.767442 -1.4852 -1.566804   \n",
       "2018-01-01 01:04:00  1.558942 -0.594387 -0.596217  0.767442 -1.4852 -1.566804   \n",
       "2018-01-01 01:20:00  1.520450 -0.594387 -0.537696  0.744186 -1.4852 -1.566804   \n",
       "2018-01-01 01:36:00  1.481957 -0.477171 -0.479174  0.744186 -1.4852 -1.566804   \n",
       "2018-01-01 01:52:00  1.443465 -0.477171 -0.479174  0.744186 -1.4852 -1.566804   \n",
       "2018-01-01 02:08:00  1.404972 -0.477171 -0.401145  0.744186 -1.4852 -1.566804   \n",
       "2018-01-01 02:24:00  1.366480 -0.008304 -0.011001  0.744186 -1.4852 -1.566804   \n",
       "\n",
       "                          Day  \n",
       "DOA                            \n",
       "2018-01-01 00:00:00 -1.683037  \n",
       "2018-01-01 00:16:00 -1.683037  \n",
       "2018-01-01 00:32:00 -1.683037  \n",
       "2018-01-01 00:48:00 -1.683037  \n",
       "2018-01-01 01:04:00 -1.683037  \n",
       "2018-01-01 01:20:00 -1.683037  \n",
       "2018-01-01 01:36:00 -1.683037  \n",
       "2018-01-01 01:52:00 -1.683037  \n",
       "2018-01-01 02:08:00 -1.683037  \n",
       "2018-01-01 02:24:00 -1.683037  "
      ]
     },
     "execution_count": 5,
     "metadata": {},
     "output_type": "execute_result"
    }
   ],
   "source": [
    "df.head(10)"
   ]
  },
  {
   "cell_type": "markdown",
   "metadata": {},
   "source": [
    "## Test/Train Split "
   ]
  },
  {
   "cell_type": "code",
   "execution_count": 6,
   "metadata": {},
   "outputs": [],
   "source": [
    "train, test = train_test_split(df)"
   ]
  },
  {
   "cell_type": "markdown",
   "metadata": {},
   "source": [
    "## Visualization"
   ]
  },
  {
   "cell_type": "code",
   "execution_count": 4,
   "metadata": {},
   "outputs": [],
   "source": [
    "def plot_train_test(train, test):\n",
    "    train = train[train['DBA']== train['DBA'].max()]\n",
    "    test = test[test['DBA']== train['DBA'].max()]\n",
    "    plt.plot(train.index, train['ROH'], label='Train')\n",
    "    plt.plot(test.index, test['ROH'], label='Test')\n",
    "    plt.xlabel('DOA')\n",
    "    plt.ylabel('ROH')\n",
    "    plt.legend(loc='best')\n",
    "    plt.show()\n",
    "\n",
    "def plot_result(dx):\n",
    "    dx = dx[dx['DBA']==dx['DBA'].max()]\n",
    "    \n",
    "    plt.plot(dx.index, dx['ROH'], label='test')\n",
    "    plt.plot(dx.index, dx['svm_rbf'], label='svm_rbf')\n",
    "    plt.xlabel('DOA')\n",
    "    plt.ylabel('ROH')\n",
    "    plt.legend(loc='best')\n",
    "    plt.show()"
   ]
  },
  {
   "cell_type": "code",
   "execution_count": 8,
   "metadata": {},
   "outputs": [
    {
     "data": {
      "image/png": "[encoded data removed]",
      "text/plain": [
       "<Figure size 2160x576 with 1 Axes>"
      ]
     },
     "metadata": {
      "needs_background": "light"
     },
     "output_type": "display_data"
    }
   ],
   "source": [
    "plot_train_test(train,test)"
   ]
  },
  {
   "cell_type": "code",
   "execution_count": 9,
   "metadata": {},
   "outputs": [],
   "source": [
    "y = train.pop('ROH')\n",
    "X = train"
   ]
  },
  {
   "cell_type": "code",
   "execution_count": 11,
   "metadata": {},
   "outputs": [],
   "source": [
    "# from sklearn.model_selection import GridSearchCV\n",
    "# param = {'kernel' :['rbf'],'C' : [1], 'epsilon':[0.01],'gamma' : ('auto','scale')},\n",
    "\n",
    "# modelsvr = SVR()\n",
    "# grids = GridSearchCV(estimator=modelsvr,param_grid=param,cv=5,scoring='neg_mean_squared_error')\n",
    "# grids.fit(X,y)\n",
    "# grids.best_params_\n",
    "# grids.best_estimator_"
   ]
  },
  {
   "cell_type": "code",
   "execution_count": 10,
   "metadata": {},
   "outputs": [
    {
     "name": "stderr",
     "output_type": "stream",
     "text": [
      "<ipython-input-10-ad5e231cb422>:4: SettingWithCopyWarning: \n",
      "A value is trying to be set on a copy of a slice from a DataFrame.\n",
      "Try using .loc[row_indexer,col_indexer] = value instead\n",
      "\n",
      "See the caveats in the documentation: https://pandas.pydata.org/pandas-docs/stable/user_guide/indexing.html#returning-a-view-versus-a-copy\n",
      "  test['svm_rbf'] = model_rbf.predict(test[['DBA','LAR','ADR','ROH','DOW','Mon']])\n"
     ]
    }
   ],
   "source": [
    "# {'C': 10, 'coef0': 0.01, 'degree': 3, 'gamma': 'scale', 'kernel': 'rbf'}\n",
    "svr_rbf = SVR(kernel='rbf', C=1, gamma='scale', epsilon=0.01)\n",
    "model_rbf = svr_rbf.fit(X,y)\n",
    "test['svm_rbf'] = model_rbf.predict(test[['DBA','LAR','ADR','ROH','DOW','Mon']]) \n",
    "# test['svm_rbf'] = model_rbf.predict(test[['DBA','ROH','DOW','Mon']]) "
   ]
  },
  {
   "cell_type": "code",
   "execution_count": 13,
   "metadata": {},
   "outputs": [
    {
     "data": {
      "image/png": "[encoded data removed]",
      "text/plain": [
       "<Figure size 2160x576 with 1 Axes>"
      ]
     },
     "metadata": {
      "needs_background": "light"
     },
     "output_type": "display_data"
    }
   ],
   "source": [
    "plot_result(test)"
   ]
  },
  {
   "cell_type": "code",
   "execution_count": null,
   "metadata": {},
   "outputs": [],
   "source": [
    "# rmse = mean_squared_error(test['ROH'], test['svm_rbf'], squared=False)\n",
    "# mape = np.mean(np.abs((test['svm_rbf']-test['ROH'])/test['ROH'])) # mape\n",
    "\n",
    "# print(round(rmse,4),\"\\t&\",round(mape,4))\n",
    "forecast_accuracy(test['svm_rbf'],test['ROH'])"
   ]
  },
  {
   "cell_type": "markdown",
   "metadata": {},
   "source": [
    "## Combined Results"
   ]
  },
  {
   "cell_type": "code",
   "execution_count": null,
   "metadata": {},
   "outputs": [
    {
     "data": {
      "image/png": "[encoded data removed]",
      "text/plain": [
       "<Figure size 2160x576 with 1 Axes>"
      ]
     },
     "metadata": {
      "needs_background": "light"
     },
     "output_type": "display_data"
    },
    {
     "name": "stdout",
     "output_type": "stream",
     "text": [
      "0.208\t&\t-0.1423\t&\t0.1584\t&\t52.2841\t&\t0.2105\t&\t0.0443\t&\t0.3597\n"
     ]
    }
   ],
   "source": [
    "clean_hotels = [  48,   80,   86,  148,  151,  199,  269,  284,  317,  322,  577,1041, 1100, 1479, 1968, 4290]\n",
    "result = []\n",
    "for hotelId in clean_hotels:\n",
    "    df = pd.read_pickle('../dataset/preprocessed/'+str(hotelId)+'_imputed.pkl')\n",
    "    df = preprocess(df)\n",
    "    train, test = train_test_split(df)\n",
    "    cols = [col for col in df.columns if col != 'ROH']\n",
    "    # creating model \n",
    "    y = train.pop('ROH')\n",
    "    X = train\n",
    "    svr_rbf = SVR(kernel='rbf', C=1, gamma='scale', epsilon=0.01)\n",
    "    model_rbf = svr_rbf.fit(X,y)\n",
    "    # predicting\n",
    "    test['svm_rbf'] = model_rbf.predict(test[cols]) \n",
    "    # plot \n",
    "    plot_result(test)    \n",
    "    # evaluation\n",
    "    forecast_accuracy(test['svm_rbf'],test['ROH'])"
   ]
  },
  {
   "cell_type": "markdown",
   "metadata": {},
   "source": [
    "# With ROH"
   ]
  },
  {
   "cell_type": "code",
   "execution_count": 1,
   "metadata": {},
   "outputs": [],
   "source": [
    "import pandas as pd\n",
    "import numpy as np\n",
    "from sklearn.svm import SVR,LinearSVR\n",
    "from sklearn.preprocessing import StandardScaler\n",
    "from sklearn.pipeline import Pipeline\n",
    "import matplotlib.pyplot as plt\n",
    "import plotly.graph_objects as go"
   ]
  },
  {
   "cell_type": "code",
   "execution_count": 27,
   "metadata": {},
   "outputs": [],
   "source": [
    "df = pd.read_pickle('../dataset/preprocessed/48_imputed.pkl')"
   ]
  },
  {
   "cell_type": "code",
   "execution_count": 28,
   "metadata": {},
   "outputs": [],
   "source": [
    "df['DOA'] = pd.to_datetime(df['DOA'])\n",
    "\n",
    "df['ROH'] = df['ROH']/df['Rooms']\n",
    "df = df.drop(columns=['LAR','ADR','Rooms'])\n",
    "\n",
    "## consider DBA\n",
    "cols = [89,79,69,59,49,39,29,19,9,0]\n",
    "df   = df[df['DBA'].isin(cols)]"
   ]
  },
  {
   "cell_type": "code",
   "execution_count": 29,
   "metadata": {},
   "outputs": [
    {
     "data": {
      "text/html": [
       "<div>\n",
       "<style scoped>\n",
       "    .dataframe tbody tr th:only-of-type {\n",
       "        vertical-align: middle;\n",
       "    }\n",
       "\n",
       "    .dataframe tbody tr th {\n",
       "        vertical-align: top;\n",
       "    }\n",
       "\n",
       "    .dataframe thead th {\n",
       "        text-align: right;\n",
       "    }\n",
       "</style>\n",
       "<table border=\"1\" class=\"dataframe\">\n",
       "  <thead>\n",
       "    <tr style=\"text-align: right;\">\n",
       "      <th></th>\n",
       "      <th>DOA</th>\n",
       "      <th>DBA</th>\n",
       "      <th>ROH</th>\n",
       "    </tr>\n",
       "  </thead>\n",
       "  <tbody>\n",
       "    <tr>\n",
       "      <th>0</th>\n",
       "      <td>2018-01-01</td>\n",
       "      <td>89.0</td>\n",
       "      <td>0.860465</td>\n",
       "    </tr>\n",
       "    <tr>\n",
       "      <th>10</th>\n",
       "      <td>2018-01-01</td>\n",
       "      <td>79.0</td>\n",
       "      <td>0.744186</td>\n",
       "    </tr>\n",
       "    <tr>\n",
       "      <th>20</th>\n",
       "      <td>2018-01-01</td>\n",
       "      <td>69.0</td>\n",
       "      <td>0.590909</td>\n",
       "    </tr>\n",
       "    <tr>\n",
       "      <th>30</th>\n",
       "      <td>2018-01-01</td>\n",
       "      <td>59.0</td>\n",
       "      <td>0.440000</td>\n",
       "    </tr>\n",
       "    <tr>\n",
       "      <th>40</th>\n",
       "      <td>2018-01-01</td>\n",
       "      <td>49.0</td>\n",
       "      <td>0.400000</td>\n",
       "    </tr>\n",
       "  </tbody>\n",
       "</table>\n",
       "</div>"
      ],
      "text/plain": [
       "          DOA   DBA       ROH\n",
       "0  2018-01-01  89.0  0.860465\n",
       "10 2018-01-01  79.0  0.744186\n",
       "20 2018-01-01  69.0  0.590909\n",
       "30 2018-01-01  59.0  0.440000\n",
       "40 2018-01-01  49.0  0.400000"
      ]
     },
     "execution_count": 29,
     "metadata": {},
     "output_type": "execute_result"
    }
   ],
   "source": [
    "df.head()"
   ]
  },
  {
   "cell_type": "code",
   "execution_count": 30,
   "metadata": {},
   "outputs": [],
   "source": [
    "df = df.pivot(index='DOA',columns='DBA',values='ROH')\n",
    "df = df.bfill(axis=1).ffill(axis=1)"
   ]
  },
  {
   "cell_type": "code",
   "execution_count": 31,
   "metadata": {},
   "outputs": [
    {
     "data": {
      "text/html": [
       "<div>\n",
       "<style scoped>\n",
       "    .dataframe tbody tr th:only-of-type {\n",
       "        vertical-align: middle;\n",
       "    }\n",
       "\n",
       "    .dataframe tbody tr th {\n",
       "        vertical-align: top;\n",
       "    }\n",
       "\n",
       "    .dataframe thead th {\n",
       "        text-align: right;\n",
       "    }\n",
       "</style>\n",
       "<table border=\"1\" class=\"dataframe\">\n",
       "  <thead>\n",
       "    <tr style=\"text-align: right;\">\n",
       "      <th>DBA</th>\n",
       "      <th>0.0</th>\n",
       "      <th>9.0</th>\n",
       "      <th>19.0</th>\n",
       "      <th>29.0</th>\n",
       "      <th>39.0</th>\n",
       "      <th>49.0</th>\n",
       "      <th>59.0</th>\n",
       "      <th>69.0</th>\n",
       "      <th>79.0</th>\n",
       "      <th>89.0</th>\n",
       "    </tr>\n",
       "    <tr>\n",
       "      <th>DOA</th>\n",
       "      <th></th>\n",
       "      <th></th>\n",
       "      <th></th>\n",
       "      <th></th>\n",
       "      <th></th>\n",
       "      <th></th>\n",
       "      <th></th>\n",
       "      <th></th>\n",
       "      <th></th>\n",
       "      <th></th>\n",
       "    </tr>\n",
       "  </thead>\n",
       "  <tbody>\n",
       "    <tr>\n",
       "      <th>2018-01-01</th>\n",
       "      <td>0.019608</td>\n",
       "      <td>0.039216</td>\n",
       "      <td>0.156863</td>\n",
       "      <td>0.160000</td>\n",
       "      <td>0.280000</td>\n",
       "      <td>0.400000</td>\n",
       "      <td>0.440000</td>\n",
       "      <td>0.590909</td>\n",
       "      <td>0.744186</td>\n",
       "      <td>0.860465</td>\n",
       "    </tr>\n",
       "    <tr>\n",
       "      <th>2018-01-02</th>\n",
       "      <td>0.217391</td>\n",
       "      <td>0.217391</td>\n",
       "      <td>0.304348</td>\n",
       "      <td>0.340909</td>\n",
       "      <td>0.340909</td>\n",
       "      <td>0.363636</td>\n",
       "      <td>0.386364</td>\n",
       "      <td>0.522727</td>\n",
       "      <td>0.697674</td>\n",
       "      <td>0.906977</td>\n",
       "    </tr>\n",
       "    <tr>\n",
       "      <th>2018-01-03</th>\n",
       "      <td>0.260870</td>\n",
       "      <td>0.260870</td>\n",
       "      <td>0.304348</td>\n",
       "      <td>0.340909</td>\n",
       "      <td>0.363636</td>\n",
       "      <td>0.386364</td>\n",
       "      <td>0.386364</td>\n",
       "      <td>0.545455</td>\n",
       "      <td>0.697674</td>\n",
       "      <td>0.906977</td>\n",
       "    </tr>\n",
       "    <tr>\n",
       "      <th>2018-01-04</th>\n",
       "      <td>0.152174</td>\n",
       "      <td>0.152174</td>\n",
       "      <td>0.195652</td>\n",
       "      <td>0.227273</td>\n",
       "      <td>0.227273</td>\n",
       "      <td>0.272727</td>\n",
       "      <td>0.272727</td>\n",
       "      <td>0.431818</td>\n",
       "      <td>0.395349</td>\n",
       "      <td>0.860465</td>\n",
       "    </tr>\n",
       "    <tr>\n",
       "      <th>2018-01-05</th>\n",
       "      <td>0.108696</td>\n",
       "      <td>0.130435</td>\n",
       "      <td>0.173913</td>\n",
       "      <td>0.181818</td>\n",
       "      <td>0.181818</td>\n",
       "      <td>0.204545</td>\n",
       "      <td>0.272727</td>\n",
       "      <td>0.318182</td>\n",
       "      <td>0.325581</td>\n",
       "      <td>0.813953</td>\n",
       "    </tr>\n",
       "  </tbody>\n",
       "</table>\n",
       "</div>"
      ],
      "text/plain": [
       "DBA             0.0       9.0       19.0      29.0      39.0      49.0  \\\n",
       "DOA                                                                      \n",
       "2018-01-01  0.019608  0.039216  0.156863  0.160000  0.280000  0.400000   \n",
       "2018-01-02  0.217391  0.217391  0.304348  0.340909  0.340909  0.363636   \n",
       "2018-01-03  0.260870  0.260870  0.304348  0.340909  0.363636  0.386364   \n",
       "2018-01-04  0.152174  0.152174  0.195652  0.227273  0.227273  0.272727   \n",
       "2018-01-05  0.108696  0.130435  0.173913  0.181818  0.181818  0.204545   \n",
       "\n",
       "DBA             59.0      69.0      79.0      89.0  \n",
       "DOA                                                 \n",
       "2018-01-01  0.440000  0.590909  0.744186  0.860465  \n",
       "2018-01-02  0.386364  0.522727  0.697674  0.906977  \n",
       "2018-01-03  0.386364  0.545455  0.697674  0.906977  \n",
       "2018-01-04  0.272727  0.431818  0.395349  0.860465  \n",
       "2018-01-05  0.272727  0.318182  0.325581  0.813953  "
      ]
     },
     "execution_count": 31,
     "metadata": {},
     "output_type": "execute_result"
    }
   ],
   "source": [
    "df.head()"
   ]
  },
  {
   "cell_type": "code",
   "execution_count": 32,
   "metadata": {},
   "outputs": [],
   "source": [
    "# scaler = StandardScaler()\n",
    "# df[['DOW','Price','ROH']] = scaler.fit_transform(df[['DOW','Price','ROH']])\n",
    "# df = df.pivot(index='DOA',columns='LeadTime',values='ROH')\n",
    "# df = df.bfill(axis=1).ffill(axis=1)"
   ]
  },
  {
   "cell_type": "code",
   "execution_count": 33,
   "metadata": {},
   "outputs": [],
   "source": [
    "# # df = df.drop(columns=[1,2,3,4,5,6,7,8,10,11,12,13,14,15,16,17,19,21])\n",
    "# cols = df.columns[df.columns.isin([89,79,69,59,49,39,29,19,9,0])]\n",
    "# df = df[cols]"
   ]
  },
  {
   "cell_type": "code",
   "execution_count": 35,
   "metadata": {},
   "outputs": [],
   "source": [
    "df['DOW'] = df.index.dayofweek\n",
    "df['Mon'] = df.index.month\n"
   ]
  },
  {
   "cell_type": "code",
   "execution_count": 37,
   "metadata": {},
   "outputs": [],
   "source": [
    "index = int(len(df)*0.8)\n",
    "train = df[:index]\n",
    "test  = df[index:]"
   ]
  },
  {
   "cell_type": "code",
   "execution_count": 38,
   "metadata": {},
   "outputs": [],
   "source": [
    "y = train.pop(0)\n",
    "X = train"
   ]
  },
  {
   "cell_type": "code",
   "execution_count": 40,
   "metadata": {},
   "outputs": [
    {
     "data": {
      "text/html": [
       "<div>\n",
       "<style scoped>\n",
       "    .dataframe tbody tr th:only-of-type {\n",
       "        vertical-align: middle;\n",
       "    }\n",
       "\n",
       "    .dataframe tbody tr th {\n",
       "        vertical-align: top;\n",
       "    }\n",
       "\n",
       "    .dataframe thead th {\n",
       "        text-align: right;\n",
       "    }\n",
       "</style>\n",
       "<table border=\"1\" class=\"dataframe\">\n",
       "  <thead>\n",
       "    <tr style=\"text-align: right;\">\n",
       "      <th>DBA</th>\n",
       "      <th>9.0</th>\n",
       "      <th>19.0</th>\n",
       "      <th>29.0</th>\n",
       "      <th>39.0</th>\n",
       "      <th>49.0</th>\n",
       "      <th>59.0</th>\n",
       "      <th>69.0</th>\n",
       "      <th>79.0</th>\n",
       "      <th>89.0</th>\n",
       "      <th>DOW</th>\n",
       "      <th>Mon</th>\n",
       "    </tr>\n",
       "    <tr>\n",
       "      <th>DOA</th>\n",
       "      <th></th>\n",
       "      <th></th>\n",
       "      <th></th>\n",
       "      <th></th>\n",
       "      <th></th>\n",
       "      <th></th>\n",
       "      <th></th>\n",
       "      <th></th>\n",
       "      <th></th>\n",
       "      <th></th>\n",
       "      <th></th>\n",
       "    </tr>\n",
       "  </thead>\n",
       "  <tbody>\n",
       "    <tr>\n",
       "      <th>2018-01-01</th>\n",
       "      <td>0.039216</td>\n",
       "      <td>0.156863</td>\n",
       "      <td>0.160000</td>\n",
       "      <td>0.280000</td>\n",
       "      <td>0.400000</td>\n",
       "      <td>0.440000</td>\n",
       "      <td>0.590909</td>\n",
       "      <td>0.744186</td>\n",
       "      <td>0.860465</td>\n",
       "      <td>0</td>\n",
       "      <td>1</td>\n",
       "    </tr>\n",
       "    <tr>\n",
       "      <th>2018-01-02</th>\n",
       "      <td>0.217391</td>\n",
       "      <td>0.304348</td>\n",
       "      <td>0.340909</td>\n",
       "      <td>0.340909</td>\n",
       "      <td>0.363636</td>\n",
       "      <td>0.386364</td>\n",
       "      <td>0.522727</td>\n",
       "      <td>0.697674</td>\n",
       "      <td>0.906977</td>\n",
       "      <td>1</td>\n",
       "      <td>1</td>\n",
       "    </tr>\n",
       "    <tr>\n",
       "      <th>2018-01-03</th>\n",
       "      <td>0.260870</td>\n",
       "      <td>0.304348</td>\n",
       "      <td>0.340909</td>\n",
       "      <td>0.363636</td>\n",
       "      <td>0.386364</td>\n",
       "      <td>0.386364</td>\n",
       "      <td>0.545455</td>\n",
       "      <td>0.697674</td>\n",
       "      <td>0.906977</td>\n",
       "      <td>2</td>\n",
       "      <td>1</td>\n",
       "    </tr>\n",
       "    <tr>\n",
       "      <th>2018-01-04</th>\n",
       "      <td>0.152174</td>\n",
       "      <td>0.195652</td>\n",
       "      <td>0.227273</td>\n",
       "      <td>0.227273</td>\n",
       "      <td>0.272727</td>\n",
       "      <td>0.272727</td>\n",
       "      <td>0.431818</td>\n",
       "      <td>0.395349</td>\n",
       "      <td>0.860465</td>\n",
       "      <td>3</td>\n",
       "      <td>1</td>\n",
       "    </tr>\n",
       "    <tr>\n",
       "      <th>2018-01-05</th>\n",
       "      <td>0.130435</td>\n",
       "      <td>0.173913</td>\n",
       "      <td>0.181818</td>\n",
       "      <td>0.181818</td>\n",
       "      <td>0.204545</td>\n",
       "      <td>0.272727</td>\n",
       "      <td>0.318182</td>\n",
       "      <td>0.325581</td>\n",
       "      <td>0.813953</td>\n",
       "      <td>4</td>\n",
       "      <td>1</td>\n",
       "    </tr>\n",
       "    <tr>\n",
       "      <th>...</th>\n",
       "      <td>...</td>\n",
       "      <td>...</td>\n",
       "      <td>...</td>\n",
       "      <td>...</td>\n",
       "      <td>...</td>\n",
       "      <td>...</td>\n",
       "      <td>...</td>\n",
       "      <td>...</td>\n",
       "      <td>...</td>\n",
       "      <td>...</td>\n",
       "      <td>...</td>\n",
       "    </tr>\n",
       "    <tr>\n",
       "      <th>2019-08-03</th>\n",
       "      <td>0.981132</td>\n",
       "      <td>0.981132</td>\n",
       "      <td>0.981132</td>\n",
       "      <td>0.981132</td>\n",
       "      <td>0.981132</td>\n",
       "      <td>0.981132</td>\n",
       "      <td>0.981132</td>\n",
       "      <td>0.981132</td>\n",
       "      <td>1.000000</td>\n",
       "      <td>5</td>\n",
       "      <td>8</td>\n",
       "    </tr>\n",
       "    <tr>\n",
       "      <th>2019-08-04</th>\n",
       "      <td>0.094340</td>\n",
       "      <td>0.094340</td>\n",
       "      <td>0.132075</td>\n",
       "      <td>0.150943</td>\n",
       "      <td>0.169811</td>\n",
       "      <td>0.264151</td>\n",
       "      <td>0.471698</td>\n",
       "      <td>0.716981</td>\n",
       "      <td>0.811321</td>\n",
       "      <td>6</td>\n",
       "      <td>8</td>\n",
       "    </tr>\n",
       "    <tr>\n",
       "      <th>2019-08-05</th>\n",
       "      <td>0.056604</td>\n",
       "      <td>0.056604</td>\n",
       "      <td>0.094340</td>\n",
       "      <td>0.113208</td>\n",
       "      <td>0.169811</td>\n",
       "      <td>0.301887</td>\n",
       "      <td>0.396226</td>\n",
       "      <td>0.622642</td>\n",
       "      <td>0.943396</td>\n",
       "      <td>0</td>\n",
       "      <td>8</td>\n",
       "    </tr>\n",
       "    <tr>\n",
       "      <th>2019-08-06</th>\n",
       "      <td>0.415094</td>\n",
       "      <td>0.415094</td>\n",
       "      <td>0.433962</td>\n",
       "      <td>0.396226</td>\n",
       "      <td>0.452830</td>\n",
       "      <td>0.490566</td>\n",
       "      <td>0.660377</td>\n",
       "      <td>0.905660</td>\n",
       "      <td>0.981132</td>\n",
       "      <td>1</td>\n",
       "      <td>8</td>\n",
       "    </tr>\n",
       "    <tr>\n",
       "      <th>2019-08-07</th>\n",
       "      <td>0.811321</td>\n",
       "      <td>0.811321</td>\n",
       "      <td>0.811321</td>\n",
       "      <td>0.754717</td>\n",
       "      <td>0.754717</td>\n",
       "      <td>0.754717</td>\n",
       "      <td>0.773585</td>\n",
       "      <td>0.867925</td>\n",
       "      <td>1.000000</td>\n",
       "      <td>2</td>\n",
       "      <td>8</td>\n",
       "    </tr>\n",
       "  </tbody>\n",
       "</table>\n",
       "<p>584 rows × 11 columns</p>\n",
       "</div>"
      ],
      "text/plain": [
       "DBA              9.0      19.0      29.0      39.0      49.0      59.0  \\\n",
       "DOA                                                                      \n",
       "2018-01-01  0.039216  0.156863  0.160000  0.280000  0.400000  0.440000   \n",
       "2018-01-02  0.217391  0.304348  0.340909  0.340909  0.363636  0.386364   \n",
       "2018-01-03  0.260870  0.304348  0.340909  0.363636  0.386364  0.386364   \n",
       "2018-01-04  0.152174  0.195652  0.227273  0.227273  0.272727  0.272727   \n",
       "2018-01-05  0.130435  0.173913  0.181818  0.181818  0.204545  0.272727   \n",
       "...              ...       ...       ...       ...       ...       ...   \n",
       "2019-08-03  0.981132  0.981132  0.981132  0.981132  0.981132  0.981132   \n",
       "2019-08-04  0.094340  0.094340  0.132075  0.150943  0.169811  0.264151   \n",
       "2019-08-05  0.056604  0.056604  0.094340  0.113208  0.169811  0.301887   \n",
       "2019-08-06  0.415094  0.415094  0.433962  0.396226  0.452830  0.490566   \n",
       "2019-08-07  0.811321  0.811321  0.811321  0.754717  0.754717  0.754717   \n",
       "\n",
       "DBA             69.0      79.0      89.0  DOW  Mon  \n",
       "DOA                                                 \n",
       "2018-01-01  0.590909  0.744186  0.860465    0    1  \n",
       "2018-01-02  0.522727  0.697674  0.906977    1    1  \n",
       "2018-01-03  0.545455  0.697674  0.906977    2    1  \n",
       "2018-01-04  0.431818  0.395349  0.860465    3    1  \n",
       "2018-01-05  0.318182  0.325581  0.813953    4    1  \n",
       "...              ...       ...       ...  ...  ...  \n",
       "2019-08-03  0.981132  0.981132  1.000000    5    8  \n",
       "2019-08-04  0.471698  0.716981  0.811321    6    8  \n",
       "2019-08-05  0.396226  0.622642  0.943396    0    8  \n",
       "2019-08-06  0.660377  0.905660  0.981132    1    8  \n",
       "2019-08-07  0.773585  0.867925  1.000000    2    8  \n",
       "\n",
       "[584 rows x 11 columns]"
      ]
     },
     "execution_count": 40,
     "metadata": {},
     "output_type": "execute_result"
    }
   ],
   "source": [
    "X"
   ]
  },
  {
   "cell_type": "code",
   "execution_count": 41,
   "metadata": {},
   "outputs": [
    {
     "data": {
      "text/plain": [
       "GridSearchCV(cv=5, estimator=SVR(),\n",
       "             param_grid=({'C': [1, 5, 10], 'coef0': [0.01, 10, 0.5],\n",
       "                          'degree': [3, 8], 'gamma': ('auto', 'scale'),\n",
       "                          'kernel': ('linear', 'rbf')},),\n",
       "             scoring='neg_mean_absolute_error')"
      ]
     },
     "execution_count": 41,
     "metadata": {},
     "output_type": "execute_result"
    }
   ],
   "source": [
    "from sklearn.model_selection import GridSearchCV\n",
    "param = {'kernel' : ('linear', 'rbf'),'C' : [1,5,10],'degree' : [3,8],'coef0' : [0.01,10,0.5],'gamma' : ('auto','scale')},\n",
    "\n",
    "modelsvr = SVR()\n",
    "\n",
    "grids = GridSearchCV(estimator=modelsvr,param_grid=param,cv=5,scoring='neg_mean_absolute_error')\n",
    "\n",
    "grids.fit(X,y)"
   ]
  },
  {
   "cell_type": "code",
   "execution_count": 43,
   "metadata": {},
   "outputs": [
    {
     "data": {
      "text/plain": [
       "{'C': 10, 'coef0': 0.01, 'degree': 3, 'gamma': 'scale', 'kernel': 'rbf'}"
      ]
     },
     "execution_count": 43,
     "metadata": {},
     "output_type": "execute_result"
    }
   ],
   "source": [
    "grids.best_params_"
   ]
  },
  {
   "cell_type": "code",
   "execution_count": 47,
   "metadata": {},
   "outputs": [
    {
     "data": {
      "text/html": [
       "<div>\n",
       "<style scoped>\n",
       "    .dataframe tbody tr th:only-of-type {\n",
       "        vertical-align: middle;\n",
       "    }\n",
       "\n",
       "    .dataframe tbody tr th {\n",
       "        vertical-align: top;\n",
       "    }\n",
       "\n",
       "    .dataframe thead th {\n",
       "        text-align: right;\n",
       "    }\n",
       "</style>\n",
       "<table border=\"1\" class=\"dataframe\">\n",
       "  <thead>\n",
       "    <tr style=\"text-align: right;\">\n",
       "      <th>DBA</th>\n",
       "      <th>9.0</th>\n",
       "      <th>19.0</th>\n",
       "      <th>29.0</th>\n",
       "      <th>39.0</th>\n",
       "      <th>49.0</th>\n",
       "      <th>59.0</th>\n",
       "      <th>69.0</th>\n",
       "      <th>79.0</th>\n",
       "      <th>89.0</th>\n",
       "      <th>DOW</th>\n",
       "      <th>Mon</th>\n",
       "    </tr>\n",
       "    <tr>\n",
       "      <th>DOA</th>\n",
       "      <th></th>\n",
       "      <th></th>\n",
       "      <th></th>\n",
       "      <th></th>\n",
       "      <th></th>\n",
       "      <th></th>\n",
       "      <th></th>\n",
       "      <th></th>\n",
       "      <th></th>\n",
       "      <th></th>\n",
       "      <th></th>\n",
       "    </tr>\n",
       "  </thead>\n",
       "  <tbody>\n",
       "    <tr>\n",
       "      <th>2019-08-08</th>\n",
       "      <td>0.886792</td>\n",
       "      <td>0.886792</td>\n",
       "      <td>0.886792</td>\n",
       "      <td>0.830189</td>\n",
       "      <td>0.830189</td>\n",
       "      <td>0.830189</td>\n",
       "      <td>0.830189</td>\n",
       "      <td>0.962264</td>\n",
       "      <td>0.981132</td>\n",
       "      <td>3</td>\n",
       "      <td>8</td>\n",
       "    </tr>\n",
       "    <tr>\n",
       "      <th>2019-08-09</th>\n",
       "      <td>0.452830</td>\n",
       "      <td>0.471698</td>\n",
       "      <td>0.471698</td>\n",
       "      <td>0.471698</td>\n",
       "      <td>0.471698</td>\n",
       "      <td>0.415094</td>\n",
       "      <td>0.547170</td>\n",
       "      <td>0.698113</td>\n",
       "      <td>0.981132</td>\n",
       "      <td>4</td>\n",
       "      <td>8</td>\n",
       "    </tr>\n",
       "    <tr>\n",
       "      <th>2019-08-10</th>\n",
       "      <td>0.433962</td>\n",
       "      <td>0.452830</td>\n",
       "      <td>0.490566</td>\n",
       "      <td>0.490566</td>\n",
       "      <td>0.660377</td>\n",
       "      <td>0.622642</td>\n",
       "      <td>0.716981</td>\n",
       "      <td>0.622642</td>\n",
       "      <td>0.981132</td>\n",
       "      <td>5</td>\n",
       "      <td>8</td>\n",
       "    </tr>\n",
       "    <tr>\n",
       "      <th>2019-08-11</th>\n",
       "      <td>0.735849</td>\n",
       "      <td>0.735849</td>\n",
       "      <td>0.754717</td>\n",
       "      <td>0.754717</td>\n",
       "      <td>0.924528</td>\n",
       "      <td>0.471698</td>\n",
       "      <td>0.509434</td>\n",
       "      <td>0.433962</td>\n",
       "      <td>0.867925</td>\n",
       "      <td>6</td>\n",
       "      <td>8</td>\n",
       "    </tr>\n",
       "    <tr>\n",
       "      <th>2019-08-12</th>\n",
       "      <td>0.207547</td>\n",
       "      <td>0.226415</td>\n",
       "      <td>0.226415</td>\n",
       "      <td>0.226415</td>\n",
       "      <td>0.415094</td>\n",
       "      <td>0.452830</td>\n",
       "      <td>0.547170</td>\n",
       "      <td>0.679245</td>\n",
       "      <td>0.943396</td>\n",
       "      <td>0</td>\n",
       "      <td>8</td>\n",
       "    </tr>\n",
       "    <tr>\n",
       "      <th>...</th>\n",
       "      <td>...</td>\n",
       "      <td>...</td>\n",
       "      <td>...</td>\n",
       "      <td>...</td>\n",
       "      <td>...</td>\n",
       "      <td>...</td>\n",
       "      <td>...</td>\n",
       "      <td>...</td>\n",
       "      <td>...</td>\n",
       "      <td>...</td>\n",
       "      <td>...</td>\n",
       "    </tr>\n",
       "    <tr>\n",
       "      <th>2019-12-27</th>\n",
       "      <td>0.415094</td>\n",
       "      <td>0.471698</td>\n",
       "      <td>0.528302</td>\n",
       "      <td>0.735849</td>\n",
       "      <td>0.886792</td>\n",
       "      <td>0.867925</td>\n",
       "      <td>0.811321</td>\n",
       "      <td>0.867925</td>\n",
       "      <td>0.981132</td>\n",
       "      <td>4</td>\n",
       "      <td>12</td>\n",
       "    </tr>\n",
       "    <tr>\n",
       "      <th>2019-12-28</th>\n",
       "      <td>0.207547</td>\n",
       "      <td>0.301887</td>\n",
       "      <td>0.415094</td>\n",
       "      <td>0.547170</td>\n",
       "      <td>0.754717</td>\n",
       "      <td>0.735849</td>\n",
       "      <td>0.792453</td>\n",
       "      <td>0.905660</td>\n",
       "      <td>0.981132</td>\n",
       "      <td>5</td>\n",
       "      <td>12</td>\n",
       "    </tr>\n",
       "    <tr>\n",
       "      <th>2019-12-29</th>\n",
       "      <td>0.056604</td>\n",
       "      <td>0.169811</td>\n",
       "      <td>0.283019</td>\n",
       "      <td>0.377358</td>\n",
       "      <td>0.660377</td>\n",
       "      <td>0.622642</td>\n",
       "      <td>0.660377</td>\n",
       "      <td>0.754717</td>\n",
       "      <td>0.981132</td>\n",
       "      <td>6</td>\n",
       "      <td>12</td>\n",
       "    </tr>\n",
       "    <tr>\n",
       "      <th>2019-12-30</th>\n",
       "      <td>0.075472</td>\n",
       "      <td>0.207547</td>\n",
       "      <td>0.320755</td>\n",
       "      <td>0.509434</td>\n",
       "      <td>0.773585</td>\n",
       "      <td>0.773585</td>\n",
       "      <td>0.849057</td>\n",
       "      <td>0.811321</td>\n",
       "      <td>0.962264</td>\n",
       "      <td>0</td>\n",
       "      <td>12</td>\n",
       "    </tr>\n",
       "    <tr>\n",
       "      <th>2019-12-31</th>\n",
       "      <td>0.056604</td>\n",
       "      <td>0.188679</td>\n",
       "      <td>0.320755</td>\n",
       "      <td>0.490566</td>\n",
       "      <td>0.754717</td>\n",
       "      <td>0.754717</td>\n",
       "      <td>0.811321</td>\n",
       "      <td>0.811321</td>\n",
       "      <td>0.962264</td>\n",
       "      <td>1</td>\n",
       "      <td>12</td>\n",
       "    </tr>\n",
       "  </tbody>\n",
       "</table>\n",
       "<p>146 rows × 11 columns</p>\n",
       "</div>"
      ],
      "text/plain": [
       "DBA              9.0      19.0      29.0      39.0      49.0      59.0  \\\n",
       "DOA                                                                      \n",
       "2019-08-08  0.886792  0.886792  0.886792  0.830189  0.830189  0.830189   \n",
       "2019-08-09  0.452830  0.471698  0.471698  0.471698  0.471698  0.415094   \n",
       "2019-08-10  0.433962  0.452830  0.490566  0.490566  0.660377  0.622642   \n",
       "2019-08-11  0.735849  0.735849  0.754717  0.754717  0.924528  0.471698   \n",
       "2019-08-12  0.207547  0.226415  0.226415  0.226415  0.415094  0.452830   \n",
       "...              ...       ...       ...       ...       ...       ...   \n",
       "2019-12-27  0.415094  0.471698  0.528302  0.735849  0.886792  0.867925   \n",
       "2019-12-28  0.207547  0.301887  0.415094  0.547170  0.754717  0.735849   \n",
       "2019-12-29  0.056604  0.169811  0.283019  0.377358  0.660377  0.622642   \n",
       "2019-12-30  0.075472  0.207547  0.320755  0.509434  0.773585  0.773585   \n",
       "2019-12-31  0.056604  0.188679  0.320755  0.490566  0.754717  0.754717   \n",
       "\n",
       "DBA             69.0      79.0      89.0  DOW  Mon  \n",
       "DOA                                                 \n",
       "2019-08-08  0.830189  0.962264  0.981132    3    8  \n",
       "2019-08-09  0.547170  0.698113  0.981132    4    8  \n",
       "2019-08-10  0.716981  0.622642  0.981132    5    8  \n",
       "2019-08-11  0.509434  0.433962  0.867925    6    8  \n",
       "2019-08-12  0.547170  0.679245  0.943396    0    8  \n",
       "...              ...       ...       ...  ...  ...  \n",
       "2019-12-27  0.811321  0.867925  0.981132    4   12  \n",
       "2019-12-28  0.792453  0.905660  0.981132    5   12  \n",
       "2019-12-29  0.660377  0.754717  0.981132    6   12  \n",
       "2019-12-30  0.849057  0.811321  0.962264    0   12  \n",
       "2019-12-31  0.811321  0.811321  0.962264    1   12  \n",
       "\n",
       "[146 rows x 11 columns]"
      ]
     },
     "execution_count": 47,
     "metadata": {},
     "output_type": "execute_result"
    }
   ],
   "source": [
    "test.loc[:, test.columns != 0]"
   ]
  },
  {
   "cell_type": "code",
   "execution_count": 49,
   "metadata": {},
   "outputs": [],
   "source": [
    "ypred = grids.best_estimator_.predict(test.loc[:, test.columns != 0])"
   ]
  },
  {
   "cell_type": "code",
   "execution_count": 51,
   "metadata": {},
   "outputs": [
    {
     "data": {
      "text/plain": [
       "DatetimeIndex(['2019-08-08', '2019-08-09', '2019-08-10', '2019-08-11',\n",
       "               '2019-08-12', '2019-08-13', '2019-08-14', '2019-08-15',\n",
       "               '2019-08-16', '2019-08-17',\n",
       "               ...\n",
       "               '2019-12-22', '2019-12-23', '2019-12-24', '2019-12-25',\n",
       "               '2019-12-26', '2019-12-27', '2019-12-28', '2019-12-29',\n",
       "               '2019-12-30', '2019-12-31'],\n",
       "              dtype='datetime64[ns]', name='DOA', length=146, freq=None)"
      ]
     },
     "execution_count": 51,
     "metadata": {},
     "output_type": "execute_result"
    }
   ],
   "source": [
    "test.index"
   ]
  },
  {
   "cell_type": "code",
   "execution_count": 55,
   "metadata": {},
   "outputs": [
    {
     "data": {
      "text/plain": [
       "{'mape': inf, 'mae': 0.057, 'mpe': nan, 'rmse': 0.076}"
      ]
     },
     "execution_count": 55,
     "metadata": {},
     "output_type": "execute_result"
    }
   ],
   "source": [
    "forecast_accuracy(ypred,test[0])"
   ]
  },
  {
   "cell_type": "code",
   "execution_count": 52,
   "metadata": {},
   "outputs": [
    {
     "data": {
      "image/png": "[encoded data removed]",
      "image/svg+xml": [
       "<?xml version=\"1.0\" encoding=\"utf-8\" standalone=\"no\"?>\n",
       "<!DOCTYPE svg PUBLIC \"-//W3C//DTD SVG 1.1//EN\"\n",
       "  \"http://www.w3.org/Graphics/SVG/1.1/DTD/svg11.dtd\">\n",
       "<!-- Created with matplotlib (https://matplotlib.org/) -->\n",
       "<svg height=\"262.19625pt\" version=\"1.1\" viewBox=\"0 0 393.553534 262.19625\" width=\"393.553534pt\" xmlns=\"http://www.w3.org/2000/svg\" xmlns:xlink=\"http://www.w3.org/1999/xlink\">\n",
       " <metadata>\n",
       "  <rdf:RDF xmlns:cc=\"http://creativecommons.org/ns#\" xmlns:dc=\"http://purl.org/dc/elements/1.1/\" xmlns:rdf=\"http://www.w3.org/1999/02/22-rdf-syntax-ns#\">\n",
       "   <cc:Work>\n",
       "    <dc:type rdf:resource=\"http://purl.org/dc/dcmitype/StillImage\"/>\n",
       "    <dc:date>2021-01-14T11:49:34.156560</dc:date>\n",
       "    <dc:format>image/svg+xml</dc:format>\n",
       "    <dc:creator>\n",
       "     <cc:Agent>\n",
       "      <dc:title>Matplotlib v3.3.2, https://matplotlib.org/</dc:title>\n",
       "     </cc:Agent>\n",
       "    </dc:creator>\n",
       "   </cc:Work>\n",
       "  </rdf:RDF>\n",
       " </metadata>\n",
       " <defs>\n",
       "  <style type=\"text/css\">*{stroke-linecap:butt;stroke-linejoin:round;}</style>\n",
       " </defs>\n",
       " <g id=\"figure_1\">\n",
       "  <g id=\"patch_1\">\n",
       "   <path d=\"M 0 262.19625 \n",
       "L 393.553534 262.19625 \n",
       "L 393.553534 0 \n",
       "L 0 0 \n",
       "z\n",
       "\" style=\"fill:none;\"/>\n",
       "  </g>\n",
       "  <g id=\"axes_1\">\n",
       "   <g id=\"patch_2\">\n",
       "    <path d=\"M 43.78125 224.64 \n",
       "L 378.58125 224.64 \n",
       "L 378.58125 7.2 \n",
       "L 43.78125 7.2 \n",
       "z\n",
       "\" style=\"fill:#ffffff;\"/>\n",
       "   </g>\n",
       "   <g id=\"matplotlib.axis_1\">\n",
       "    <g id=\"xtick_1\">\n",
       "     <g id=\"line2d_1\">\n",
       "      <defs>\n",
       "       <path d=\"M 0 0 \n",
       "L 0 3.5 \n",
       "\" id=\"mefafbc3922\" style=\"stroke:#000000;stroke-width:0.8;\"/>\n",
       "      </defs>\n",
       "      <g>\n",
       "       <use style=\"stroke:#000000;stroke-width:0.8;\" x=\"44.306015\" xlink:href=\"#mefafbc3922\" y=\"224.64\"/>\n",
       "      </g>\n",
       "     </g>\n",
       "     <g id=\"text_1\">\n",
       "      <!-- 2019-08 -->\n",
       "      <g transform=\"translate(23.414609 239.238437)scale(0.1 -0.1)\">\n",
       "       <defs>\n",
       "        <path d=\"M 19.1875 8.296875 \n",
       "L 53.609375 8.296875 \n",
       "L 53.609375 0 \n",
       "L 7.328125 0 \n",
       "L 7.328125 8.296875 \n",
       "Q 12.9375 14.109375 22.625 23.890625 \n",
       "Q 32.328125 33.6875 34.8125 36.53125 \n",
       "Q 39.546875 41.84375 41.421875 45.53125 \n",
       "Q 43.3125 49.21875 43.3125 52.78125 \n",
       "Q 43.3125 58.59375 39.234375 62.25 \n",
       "Q 35.15625 65.921875 28.609375 65.921875 \n",
       "Q 23.96875 65.921875 18.8125 64.3125 \n",
       "Q 13.671875 62.703125 7.8125 59.421875 \n",
       "L 7.8125 69.390625 \n",
       "Q 13.765625 71.78125 18.9375 73 \n",
       "Q 24.125 74.21875 28.421875 74.21875 \n",
       "Q 39.75 74.21875 46.484375 68.546875 \n",
       "Q 53.21875 62.890625 53.21875 53.421875 \n",
       "Q 53.21875 48.921875 51.53125 44.890625 \n",
       "Q 49.859375 40.875 45.40625 35.40625 \n",
       "Q 44.1875 33.984375 37.640625 27.21875 \n",
       "Q 31.109375 20.453125 19.1875 8.296875 \n",
       "z\n",
       "\" id=\"DejaVuSans-50\"/>\n",
       "        <path d=\"M 31.78125 66.40625 \n",
       "Q 24.171875 66.40625 20.328125 58.90625 \n",
       "Q 16.5 51.421875 16.5 36.375 \n",
       "Q 16.5 21.390625 20.328125 13.890625 \n",
       "Q 24.171875 6.390625 31.78125 6.390625 \n",
       "Q 39.453125 6.390625 43.28125 13.890625 \n",
       "Q 47.125 21.390625 47.125 36.375 \n",
       "Q 47.125 51.421875 43.28125 58.90625 \n",
       "Q 39.453125 66.40625 31.78125 66.40625 \n",
       "z\n",
       "M 31.78125 74.21875 \n",
       "Q 44.046875 74.21875 50.515625 64.515625 \n",
       "Q 56.984375 54.828125 56.984375 36.375 \n",
       "Q 56.984375 17.96875 50.515625 8.265625 \n",
       "Q 44.046875 -1.421875 31.78125 -1.421875 \n",
       "Q 19.53125 -1.421875 13.0625 8.265625 \n",
       "Q 6.59375 17.96875 6.59375 36.375 \n",
       "Q 6.59375 54.828125 13.0625 64.515625 \n",
       "Q 19.53125 74.21875 31.78125 74.21875 \n",
       "z\n",
       "\" id=\"DejaVuSans-48\"/>\n",
       "        <path d=\"M 12.40625 8.296875 \n",
       "L 28.515625 8.296875 \n",
       "L 28.515625 63.921875 \n",
       "L 10.984375 60.40625 \n",
       "L 10.984375 69.390625 \n",
       "L 28.421875 72.90625 \n",
       "L 38.28125 72.90625 \n",
       "L 38.28125 8.296875 \n",
       "L 54.390625 8.296875 \n",
       "L 54.390625 0 \n",
       "L 12.40625 0 \n",
       "z\n",
       "\" id=\"DejaVuSans-49\"/>\n",
       "        <path d=\"M 10.984375 1.515625 \n",
       "L 10.984375 10.5 \n",
       "Q 14.703125 8.734375 18.5 7.8125 \n",
       "Q 22.3125 6.890625 25.984375 6.890625 \n",
       "Q 35.75 6.890625 40.890625 13.453125 \n",
       "Q 46.046875 20.015625 46.78125 33.40625 \n",
       "Q 43.953125 29.203125 39.59375 26.953125 \n",
       "Q 35.25 24.703125 29.984375 24.703125 \n",
       "Q 19.046875 24.703125 12.671875 31.3125 \n",
       "Q 6.296875 37.9375 6.296875 49.421875 \n",
       "Q 6.296875 60.640625 12.9375 67.421875 \n",
       "Q 19.578125 74.21875 30.609375 74.21875 \n",
       "Q 43.265625 74.21875 49.921875 64.515625 \n",
       "Q 56.59375 54.828125 56.59375 36.375 \n",
       "Q 56.59375 19.140625 48.40625 8.859375 \n",
       "Q 40.234375 -1.421875 26.421875 -1.421875 \n",
       "Q 22.703125 -1.421875 18.890625 -0.6875 \n",
       "Q 15.09375 0.046875 10.984375 1.515625 \n",
       "z\n",
       "M 30.609375 32.421875 \n",
       "Q 37.25 32.421875 41.125 36.953125 \n",
       "Q 45.015625 41.5 45.015625 49.421875 \n",
       "Q 45.015625 57.28125 41.125 61.84375 \n",
       "Q 37.25 66.40625 30.609375 66.40625 \n",
       "Q 23.96875 66.40625 20.09375 61.84375 \n",
       "Q 16.21875 57.28125 16.21875 49.421875 \n",
       "Q 16.21875 41.5 20.09375 36.953125 \n",
       "Q 23.96875 32.421875 30.609375 32.421875 \n",
       "z\n",
       "\" id=\"DejaVuSans-57\"/>\n",
       "        <path d=\"M 4.890625 31.390625 \n",
       "L 31.203125 31.390625 \n",
       "L 31.203125 23.390625 \n",
       "L 4.890625 23.390625 \n",
       "z\n",
       "\" id=\"DejaVuSans-45\"/>\n",
       "        <path d=\"M 31.78125 34.625 \n",
       "Q 24.75 34.625 20.71875 30.859375 \n",
       "Q 16.703125 27.09375 16.703125 20.515625 \n",
       "Q 16.703125 13.921875 20.71875 10.15625 \n",
       "Q 24.75 6.390625 31.78125 6.390625 \n",
       "Q 38.8125 6.390625 42.859375 10.171875 \n",
       "Q 46.921875 13.96875 46.921875 20.515625 \n",
       "Q 46.921875 27.09375 42.890625 30.859375 \n",
       "Q 38.875 34.625 31.78125 34.625 \n",
       "z\n",
       "M 21.921875 38.8125 \n",
       "Q 15.578125 40.375 12.03125 44.71875 \n",
       "Q 8.5 49.078125 8.5 55.328125 \n",
       "Q 8.5 64.0625 14.71875 69.140625 \n",
       "Q 20.953125 74.21875 31.78125 74.21875 \n",
       "Q 42.671875 74.21875 48.875 69.140625 \n",
       "Q 55.078125 64.0625 55.078125 55.328125 \n",
       "Q 55.078125 49.078125 51.53125 44.71875 \n",
       "Q 48 40.375 41.703125 38.8125 \n",
       "Q 48.828125 37.15625 52.796875 32.3125 \n",
       "Q 56.78125 27.484375 56.78125 20.515625 \n",
       "Q 56.78125 9.90625 50.3125 4.234375 \n",
       "Q 43.84375 -1.421875 31.78125 -1.421875 \n",
       "Q 19.734375 -1.421875 13.25 4.234375 \n",
       "Q 6.78125 9.90625 6.78125 20.515625 \n",
       "Q 6.78125 27.484375 10.78125 32.3125 \n",
       "Q 14.796875 37.15625 21.921875 38.8125 \n",
       "z\n",
       "M 18.3125 54.390625 \n",
       "Q 18.3125 48.734375 21.84375 45.5625 \n",
       "Q 25.390625 42.390625 31.78125 42.390625 \n",
       "Q 38.140625 42.390625 41.71875 45.5625 \n",
       "Q 45.3125 48.734375 45.3125 54.390625 \n",
       "Q 45.3125 60.0625 41.71875 63.234375 \n",
       "Q 38.140625 66.40625 31.78125 66.40625 \n",
       "Q 25.390625 66.40625 21.84375 63.234375 \n",
       "Q 18.3125 60.0625 18.3125 54.390625 \n",
       "z\n",
       "\" id=\"DejaVuSans-56\"/>\n",
       "       </defs>\n",
       "       <use xlink:href=\"#DejaVuSans-50\"/>\n",
       "       <use x=\"63.623047\" xlink:href=\"#DejaVuSans-48\"/>\n",
       "       <use x=\"127.246094\" xlink:href=\"#DejaVuSans-49\"/>\n",
       "       <use x=\"190.869141\" xlink:href=\"#DejaVuSans-57\"/>\n",
       "       <use x=\"254.492188\" xlink:href=\"#DejaVuSans-45\"/>\n",
       "       <use x=\"290.576172\" xlink:href=\"#DejaVuSans-48\"/>\n",
       "       <use x=\"354.199219\" xlink:href=\"#DejaVuSans-56\"/>\n",
       "      </g>\n",
       "     </g>\n",
       "    </g>\n",
       "    <g id=\"xtick_2\">\n",
       "     <g id=\"line2d_2\">\n",
       "      <g>\n",
       "       <use style=\"stroke:#000000;stroke-width:0.8;\" x=\"109.376861\" xlink:href=\"#mefafbc3922\" y=\"224.64\"/>\n",
       "      </g>\n",
       "     </g>\n",
       "     <g id=\"text_2\">\n",
       "      <!-- 2019-09 -->\n",
       "      <g transform=\"translate(88.485455 239.238437)scale(0.1 -0.1)\">\n",
       "       <use xlink:href=\"#DejaVuSans-50\"/>\n",
       "       <use x=\"63.623047\" xlink:href=\"#DejaVuSans-48\"/>\n",
       "       <use x=\"127.246094\" xlink:href=\"#DejaVuSans-49\"/>\n",
       "       <use x=\"190.869141\" xlink:href=\"#DejaVuSans-57\"/>\n",
       "       <use x=\"254.492188\" xlink:href=\"#DejaVuSans-45\"/>\n",
       "       <use x=\"290.576172\" xlink:href=\"#DejaVuSans-48\"/>\n",
       "       <use x=\"354.199219\" xlink:href=\"#DejaVuSans-57\"/>\n",
       "      </g>\n",
       "     </g>\n",
       "    </g>\n",
       "    <g id=\"xtick_3\">\n",
       "     <g id=\"line2d_3\">\n",
       "      <g>\n",
       "       <use style=\"stroke:#000000;stroke-width:0.8;\" x=\"172.348648\" xlink:href=\"#mefafbc3922\" y=\"224.64\"/>\n",
       "      </g>\n",
       "     </g>\n",
       "     <g id=\"text_3\">\n",
       "      <!-- 2019-10 -->\n",
       "      <g transform=\"translate(151.457242 239.238437)scale(0.1 -0.1)\">\n",
       "       <use xlink:href=\"#DejaVuSans-50\"/>\n",
       "       <use x=\"63.623047\" xlink:href=\"#DejaVuSans-48\"/>\n",
       "       <use x=\"127.246094\" xlink:href=\"#DejaVuSans-49\"/>\n",
       "       <use x=\"190.869141\" xlink:href=\"#DejaVuSans-57\"/>\n",
       "       <use x=\"254.492188\" xlink:href=\"#DejaVuSans-45\"/>\n",
       "       <use x=\"290.576172\" xlink:href=\"#DejaVuSans-49\"/>\n",
       "       <use x=\"354.199219\" xlink:href=\"#DejaVuSans-48\"/>\n",
       "      </g>\n",
       "     </g>\n",
       "    </g>\n",
       "    <g id=\"xtick_4\">\n",
       "     <g id=\"line2d_4\">\n",
       "      <g>\n",
       "       <use style=\"stroke:#000000;stroke-width:0.8;\" x=\"237.419495\" xlink:href=\"#mefafbc3922\" y=\"224.64\"/>\n",
       "      </g>\n",
       "     </g>\n",
       "     <g id=\"text_4\">\n",
       "      <!-- 2019-11 -->\n",
       "      <g transform=\"translate(216.528088 239.238437)scale(0.1 -0.1)\">\n",
       "       <use xlink:href=\"#DejaVuSans-50\"/>\n",
       "       <use x=\"63.623047\" xlink:href=\"#DejaVuSans-48\"/>\n",
       "       <use x=\"127.246094\" xlink:href=\"#DejaVuSans-49\"/>\n",
       "       <use x=\"190.869141\" xlink:href=\"#DejaVuSans-57\"/>\n",
       "       <use x=\"254.492188\" xlink:href=\"#DejaVuSans-45\"/>\n",
       "       <use x=\"290.576172\" xlink:href=\"#DejaVuSans-49\"/>\n",
       "       <use x=\"354.199219\" xlink:href=\"#DejaVuSans-49\"/>\n",
       "      </g>\n",
       "     </g>\n",
       "    </g>\n",
       "    <g id=\"xtick_5\">\n",
       "     <g id=\"line2d_5\">\n",
       "      <g>\n",
       "       <use style=\"stroke:#000000;stroke-width:0.8;\" x=\"300.391281\" xlink:href=\"#mefafbc3922\" y=\"224.64\"/>\n",
       "      </g>\n",
       "     </g>\n",
       "     <g id=\"text_5\">\n",
       "      <!-- 2019-12 -->\n",
       "      <g transform=\"translate(279.499875 239.238437)scale(0.1 -0.1)\">\n",
       "       <use xlink:href=\"#DejaVuSans-50\"/>\n",
       "       <use x=\"63.623047\" xlink:href=\"#DejaVuSans-48\"/>\n",
       "       <use x=\"127.246094\" xlink:href=\"#DejaVuSans-49\"/>\n",
       "       <use x=\"190.869141\" xlink:href=\"#DejaVuSans-57\"/>\n",
       "       <use x=\"254.492188\" xlink:href=\"#DejaVuSans-45\"/>\n",
       "       <use x=\"290.576172\" xlink:href=\"#DejaVuSans-49\"/>\n",
       "       <use x=\"354.199219\" xlink:href=\"#DejaVuSans-50\"/>\n",
       "      </g>\n",
       "     </g>\n",
       "    </g>\n",
       "    <g id=\"xtick_6\">\n",
       "     <g id=\"line2d_6\">\n",
       "      <g>\n",
       "       <use style=\"stroke:#000000;stroke-width:0.8;\" x=\"365.462128\" xlink:href=\"#mefafbc3922\" y=\"224.64\"/>\n",
       "      </g>\n",
       "     </g>\n",
       "     <g id=\"text_6\">\n",
       "      <!-- 2020-01 -->\n",
       "      <g transform=\"translate(344.570721 239.238437)scale(0.1 -0.1)\">\n",
       "       <use xlink:href=\"#DejaVuSans-50\"/>\n",
       "       <use x=\"63.623047\" xlink:href=\"#DejaVuSans-48\"/>\n",
       "       <use x=\"127.246094\" xlink:href=\"#DejaVuSans-50\"/>\n",
       "       <use x=\"190.869141\" xlink:href=\"#DejaVuSans-48\"/>\n",
       "       <use x=\"254.492188\" xlink:href=\"#DejaVuSans-45\"/>\n",
       "       <use x=\"290.576172\" xlink:href=\"#DejaVuSans-48\"/>\n",
       "       <use x=\"354.199219\" xlink:href=\"#DejaVuSans-49\"/>\n",
       "      </g>\n",
       "     </g>\n",
       "    </g>\n",
       "    <g id=\"text_7\">\n",
       "     <!-- DOA -->\n",
       "     <g transform=\"translate(200.0625 252.916562)scale(0.1 -0.1)\">\n",
       "      <defs>\n",
       "       <path d=\"M 19.671875 64.796875 \n",
       "L 19.671875 8.109375 \n",
       "L 31.59375 8.109375 \n",
       "Q 46.6875 8.109375 53.6875 14.9375 \n",
       "Q 60.6875 21.78125 60.6875 36.53125 \n",
       "Q 60.6875 51.171875 53.6875 57.984375 \n",
       "Q 46.6875 64.796875 31.59375 64.796875 \n",
       "z\n",
       "M 9.8125 72.90625 \n",
       "L 30.078125 72.90625 \n",
       "Q 51.265625 72.90625 61.171875 64.09375 \n",
       "Q 71.09375 55.28125 71.09375 36.53125 \n",
       "Q 71.09375 17.671875 61.125 8.828125 \n",
       "Q 51.171875 0 30.078125 0 \n",
       "L 9.8125 0 \n",
       "z\n",
       "\" id=\"DejaVuSans-68\"/>\n",
       "       <path d=\"M 39.40625 66.21875 \n",
       "Q 28.65625 66.21875 22.328125 58.203125 \n",
       "Q 16.015625 50.203125 16.015625 36.375 \n",
       "Q 16.015625 22.609375 22.328125 14.59375 \n",
       "Q 28.65625 6.59375 39.40625 6.59375 \n",
       "Q 50.140625 6.59375 56.421875 14.59375 \n",
       "Q 62.703125 22.609375 62.703125 36.375 \n",
       "Q 62.703125 50.203125 56.421875 58.203125 \n",
       "Q 50.140625 66.21875 39.40625 66.21875 \n",
       "z\n",
       "M 39.40625 74.21875 \n",
       "Q 54.734375 74.21875 63.90625 63.9375 \n",
       "Q 73.09375 53.65625 73.09375 36.375 \n",
       "Q 73.09375 19.140625 63.90625 8.859375 \n",
       "Q 54.734375 -1.421875 39.40625 -1.421875 \n",
       "Q 24.03125 -1.421875 14.8125 8.828125 \n",
       "Q 5.609375 19.09375 5.609375 36.375 \n",
       "Q 5.609375 53.65625 14.8125 63.9375 \n",
       "Q 24.03125 74.21875 39.40625 74.21875 \n",
       "z\n",
       "\" id=\"DejaVuSans-79\"/>\n",
       "       <path d=\"M 34.1875 63.1875 \n",
       "L 20.796875 26.90625 \n",
       "L 47.609375 26.90625 \n",
       "z\n",
       "M 28.609375 72.90625 \n",
       "L 39.796875 72.90625 \n",
       "L 67.578125 0 \n",
       "L 57.328125 0 \n",
       "L 50.6875 18.703125 \n",
       "L 17.828125 18.703125 \n",
       "L 11.1875 0 \n",
       "L 0.78125 0 \n",
       "z\n",
       "\" id=\"DejaVuSans-65\"/>\n",
       "      </defs>\n",
       "      <use xlink:href=\"#DejaVuSans-68\"/>\n",
       "      <use x=\"77.001953\" xlink:href=\"#DejaVuSans-79\"/>\n",
       "      <use x=\"153.962891\" xlink:href=\"#DejaVuSans-65\"/>\n",
       "     </g>\n",
       "    </g>\n",
       "   </g>\n",
       "   <g id=\"matplotlib.axis_2\">\n",
       "    <g id=\"ytick_1\">\n",
       "     <g id=\"line2d_7\">\n",
       "      <defs>\n",
       "       <path d=\"M 0 0 \n",
       "L -3.5 0 \n",
       "\" id=\"m6b22851b1b\" style=\"stroke:#000000;stroke-width:0.8;\"/>\n",
       "      </defs>\n",
       "      <g>\n",
       "       <use style=\"stroke:#000000;stroke-width:0.8;\" x=\"43.78125\" xlink:href=\"#m6b22851b1b\" y=\"203.00755\"/>\n",
       "      </g>\n",
       "     </g>\n",
       "     <g id=\"text_8\">\n",
       "      <!-- 0.0 -->\n",
       "      <g transform=\"translate(20.878125 206.806769)scale(0.1 -0.1)\">\n",
       "       <defs>\n",
       "        <path d=\"M 10.6875 12.40625 \n",
       "L 21 12.40625 \n",
       "L 21 0 \n",
       "L 10.6875 0 \n",
       "z\n",
       "\" id=\"DejaVuSans-46\"/>\n",
       "       </defs>\n",
       "       <use xlink:href=\"#DejaVuSans-48\"/>\n",
       "       <use x=\"63.623047\" xlink:href=\"#DejaVuSans-46\"/>\n",
       "       <use x=\"95.410156\" xlink:href=\"#DejaVuSans-48\"/>\n",
       "      </g>\n",
       "     </g>\n",
       "    </g>\n",
       "    <g id=\"ytick_2\">\n",
       "     <g id=\"line2d_8\">\n",
       "      <g>\n",
       "       <use style=\"stroke:#000000;stroke-width:0.8;\" x=\"43.78125\" xlink:href=\"#m6b22851b1b\" y=\"167.814809\"/>\n",
       "      </g>\n",
       "     </g>\n",
       "     <g id=\"text_9\">\n",
       "      <!-- 0.2 -->\n",
       "      <g transform=\"translate(20.878125 171.614028)scale(0.1 -0.1)\">\n",
       "       <use xlink:href=\"#DejaVuSans-48\"/>\n",
       "       <use x=\"63.623047\" xlink:href=\"#DejaVuSans-46\"/>\n",
       "       <use x=\"95.410156\" xlink:href=\"#DejaVuSans-50\"/>\n",
       "      </g>\n",
       "     </g>\n",
       "    </g>\n",
       "    <g id=\"ytick_3\">\n",
       "     <g id=\"line2d_9\">\n",
       "      <g>\n",
       "       <use style=\"stroke:#000000;stroke-width:0.8;\" x=\"43.78125\" xlink:href=\"#m6b22851b1b\" y=\"132.622069\"/>\n",
       "      </g>\n",
       "     </g>\n",
       "     <g id=\"text_10\">\n",
       "      <!-- 0.4 -->\n",
       "      <g transform=\"translate(20.878125 136.421287)scale(0.1 -0.1)\">\n",
       "       <defs>\n",
       "        <path d=\"M 37.796875 64.3125 \n",
       "L 12.890625 25.390625 \n",
       "L 37.796875 25.390625 \n",
       "z\n",
       "M 35.203125 72.90625 \n",
       "L 47.609375 72.90625 \n",
       "L 47.609375 25.390625 \n",
       "L 58.015625 25.390625 \n",
       "L 58.015625 17.1875 \n",
       "L 47.609375 17.1875 \n",
       "L 47.609375 0 \n",
       "L 37.796875 0 \n",
       "L 37.796875 17.1875 \n",
       "L 4.890625 17.1875 \n",
       "L 4.890625 26.703125 \n",
       "z\n",
       "\" id=\"DejaVuSans-52\"/>\n",
       "       </defs>\n",
       "       <use xlink:href=\"#DejaVuSans-48\"/>\n",
       "       <use x=\"63.623047\" xlink:href=\"#DejaVuSans-46\"/>\n",
       "       <use x=\"95.410156\" xlink:href=\"#DejaVuSans-52\"/>\n",
       "      </g>\n",
       "     </g>\n",
       "    </g>\n",
       "    <g id=\"ytick_4\">\n",
       "     <g id=\"line2d_10\">\n",
       "      <g>\n",
       "       <use style=\"stroke:#000000;stroke-width:0.8;\" x=\"43.78125\" xlink:href=\"#m6b22851b1b\" y=\"97.429328\"/>\n",
       "      </g>\n",
       "     </g>\n",
       "     <g id=\"text_11\">\n",
       "      <!-- 0.6 -->\n",
       "      <g transform=\"translate(20.878125 101.228546)scale(0.1 -0.1)\">\n",
       "       <defs>\n",
       "        <path d=\"M 33.015625 40.375 \n",
       "Q 26.375 40.375 22.484375 35.828125 \n",
       "Q 18.609375 31.296875 18.609375 23.390625 \n",
       "Q 18.609375 15.53125 22.484375 10.953125 \n",
       "Q 26.375 6.390625 33.015625 6.390625 \n",
       "Q 39.65625 6.390625 43.53125 10.953125 \n",
       "Q 47.40625 15.53125 47.40625 23.390625 \n",
       "Q 47.40625 31.296875 43.53125 35.828125 \n",
       "Q 39.65625 40.375 33.015625 40.375 \n",
       "z\n",
       "M 52.59375 71.296875 \n",
       "L 52.59375 62.3125 \n",
       "Q 48.875 64.0625 45.09375 64.984375 \n",
       "Q 41.3125 65.921875 37.59375 65.921875 \n",
       "Q 27.828125 65.921875 22.671875 59.328125 \n",
       "Q 17.53125 52.734375 16.796875 39.40625 \n",
       "Q 19.671875 43.65625 24.015625 45.921875 \n",
       "Q 28.375 48.1875 33.59375 48.1875 \n",
       "Q 44.578125 48.1875 50.953125 41.515625 \n",
       "Q 57.328125 34.859375 57.328125 23.390625 \n",
       "Q 57.328125 12.15625 50.6875 5.359375 \n",
       "Q 44.046875 -1.421875 33.015625 -1.421875 \n",
       "Q 20.359375 -1.421875 13.671875 8.265625 \n",
       "Q 6.984375 17.96875 6.984375 36.375 \n",
       "Q 6.984375 53.65625 15.1875 63.9375 \n",
       "Q 23.390625 74.21875 37.203125 74.21875 \n",
       "Q 40.921875 74.21875 44.703125 73.484375 \n",
       "Q 48.484375 72.75 52.59375 71.296875 \n",
       "z\n",
       "\" id=\"DejaVuSans-54\"/>\n",
       "       </defs>\n",
       "       <use xlink:href=\"#DejaVuSans-48\"/>\n",
       "       <use x=\"63.623047\" xlink:href=\"#DejaVuSans-46\"/>\n",
       "       <use x=\"95.410156\" xlink:href=\"#DejaVuSans-54\"/>\n",
       "      </g>\n",
       "     </g>\n",
       "    </g>\n",
       "    <g id=\"ytick_5\">\n",
       "     <g id=\"line2d_11\">\n",
       "      <g>\n",
       "       <use style=\"stroke:#000000;stroke-width:0.8;\" x=\"43.78125\" xlink:href=\"#m6b22851b1b\" y=\"62.236587\"/>\n",
       "      </g>\n",
       "     </g>\n",
       "     <g id=\"text_12\">\n",
       "      <!-- 0.8 -->\n",
       "      <g transform=\"translate(20.878125 66.035806)scale(0.1 -0.1)\">\n",
       "       <use xlink:href=\"#DejaVuSans-48\"/>\n",
       "       <use x=\"63.623047\" xlink:href=\"#DejaVuSans-46\"/>\n",
       "       <use x=\"95.410156\" xlink:href=\"#DejaVuSans-56\"/>\n",
       "      </g>\n",
       "     </g>\n",
       "    </g>\n",
       "    <g id=\"ytick_6\">\n",
       "     <g id=\"line2d_12\">\n",
       "      <g>\n",
       "       <use style=\"stroke:#000000;stroke-width:0.8;\" x=\"43.78125\" xlink:href=\"#m6b22851b1b\" y=\"27.043846\"/>\n",
       "      </g>\n",
       "     </g>\n",
       "     <g id=\"text_13\">\n",
       "      <!-- 1.0 -->\n",
       "      <g transform=\"translate(20.878125 30.843065)scale(0.1 -0.1)\">\n",
       "       <use xlink:href=\"#DejaVuSans-49\"/>\n",
       "       <use x=\"63.623047\" xlink:href=\"#DejaVuSans-46\"/>\n",
       "       <use x=\"95.410156\" xlink:href=\"#DejaVuSans-48\"/>\n",
       "      </g>\n",
       "     </g>\n",
       "    </g>\n",
       "    <g id=\"text_14\">\n",
       "     <!-- ROH -->\n",
       "     <g transform=\"translate(14.798438 127.090312)rotate(-90)scale(0.1 -0.1)\">\n",
       "      <defs>\n",
       "       <path d=\"M 44.390625 34.1875 \n",
       "Q 47.5625 33.109375 50.5625 29.59375 \n",
       "Q 53.5625 26.078125 56.59375 19.921875 \n",
       "L 66.609375 0 \n",
       "L 56 0 \n",
       "L 46.6875 18.703125 \n",
       "Q 43.0625 26.03125 39.671875 28.421875 \n",
       "Q 36.28125 30.8125 30.421875 30.8125 \n",
       "L 19.671875 30.8125 \n",
       "L 19.671875 0 \n",
       "L 9.8125 0 \n",
       "L 9.8125 72.90625 \n",
       "L 32.078125 72.90625 \n",
       "Q 44.578125 72.90625 50.734375 67.671875 \n",
       "Q 56.890625 62.453125 56.890625 51.90625 \n",
       "Q 56.890625 45.015625 53.6875 40.46875 \n",
       "Q 50.484375 35.9375 44.390625 34.1875 \n",
       "z\n",
       "M 19.671875 64.796875 \n",
       "L 19.671875 38.921875 \n",
       "L 32.078125 38.921875 \n",
       "Q 39.203125 38.921875 42.84375 42.21875 \n",
       "Q 46.484375 45.515625 46.484375 51.90625 \n",
       "Q 46.484375 58.296875 42.84375 61.546875 \n",
       "Q 39.203125 64.796875 32.078125 64.796875 \n",
       "z\n",
       "\" id=\"DejaVuSans-82\"/>\n",
       "       <path d=\"M 9.8125 72.90625 \n",
       "L 19.671875 72.90625 \n",
       "L 19.671875 43.015625 \n",
       "L 55.515625 43.015625 \n",
       "L 55.515625 72.90625 \n",
       "L 65.375 72.90625 \n",
       "L 65.375 0 \n",
       "L 55.515625 0 \n",
       "L 55.515625 34.71875 \n",
       "L 19.671875 34.71875 \n",
       "L 19.671875 0 \n",
       "L 9.8125 0 \n",
       "z\n",
       "\" id=\"DejaVuSans-72\"/>\n",
       "      </defs>\n",
       "      <use xlink:href=\"#DejaVuSans-82\"/>\n",
       "      <use x=\"69.482422\" xlink:href=\"#DejaVuSans-79\"/>\n",
       "      <use x=\"148.193359\" xlink:href=\"#DejaVuSans-72\"/>\n",
       "     </g>\n",
       "    </g>\n",
       "   </g>\n",
       "   <g id=\"line2d_13\">\n",
       "    <path clip-path=\"url(#pe59906cf5c)\" d=\"M 58.999432 53.207925 \n",
       "L 61.098491 132.303848 \n",
       "L 63.197551 133.269249 \n",
       "L 65.296611 96.382504 \n",
       "L 67.39567 170.40277 \n",
       "L 69.49473 181.755671 \n",
       "L 71.593789 177.454118 \n",
       "L 73.692849 156.638412 \n",
       "L 75.791908 123.599509 \n",
       "L 77.890968 112.58773 \n",
       "L 79.990027 130.7493 \n",
       "L 82.089087 155.37097 \n",
       "L 84.188147 149.621921 \n",
       "L 86.287206 144.353958 \n",
       "L 88.386266 130.121556 \n",
       "L 90.485325 96.236522 \n",
       "L 92.584385 144.498731 \n",
       "L 94.683444 170.37531 \n",
       "L 96.782504 180.647028 \n",
       "L 98.881563 178.950441 \n",
       "L 100.980623 170.808665 \n",
       "L 103.079683 159.760962 \n",
       "L 105.178742 134.552615 \n",
       "L 107.277802 128.825687 \n",
       "L 109.376861 171.166711 \n",
       "L 111.475921 99.027474 \n",
       "L 113.57498 90.646859 \n",
       "L 115.67404 93.130648 \n",
       "L 117.7731 93.411558 \n",
       "L 119.872159 115.353236 \n",
       "L 121.971219 92.208149 \n",
       "L 124.070278 127.98396 \n",
       "L 126.169338 155.926973 \n",
       "L 128.268397 155.354484 \n",
       "L 130.367457 158.724423 \n",
       "L 132.466516 159.466182 \n",
       "L 134.565576 184.308976 \n",
       "L 136.664636 140.242381 \n",
       "L 138.763695 200.247654 \n",
       "L 140.862755 34.096474 \n",
       "L 142.961814 25.308811 \n",
       "L 145.060874 22.256886 \n",
       "L 147.159933 24.494541 \n",
       "L 149.258993 162.317459 \n",
       "L 151.358053 162.160545 \n",
       "L 153.457112 44.456117 \n",
       "L 155.556172 42.608017 \n",
       "L 157.655231 36.450581 \n",
       "L 159.754291 33.844449 \n",
       "L 161.85335 141.777968 \n",
       "L 163.95241 121.789502 \n",
       "L 166.051469 134.879651 \n",
       "L 168.150529 131.619657 \n",
       "L 170.249589 167.757214 \n",
       "L 172.348648 176.75948 \n",
       "L 174.447708 209.309449 \n",
       "L 176.546767 135.007606 \n",
       "L 178.645827 105.436125 \n",
       "L 180.744886 181.463869 \n",
       "L 182.843946 198.442468 \n",
       "L 184.943005 59.71558 \n",
       "L 187.042065 50.972424 \n",
       "L 189.141125 49.658959 \n",
       "L 191.240184 51.201771 \n",
       "L 193.339244 212.588175 \n",
       "L 195.438303 208.984314 \n",
       "L 197.537363 205.026191 \n",
       "L 199.636422 155.465666 \n",
       "L 201.735482 150.778333 \n",
       "L 203.834542 144.337249 \n",
       "L 205.933601 148.424048 \n",
       "L 208.032661 183.032952 \n",
       "L 210.13172 176.507495 \n",
       "L 212.23078 199.814428 \n",
       "L 214.329839 185.515159 \n",
       "L 216.428899 176.475088 \n",
       "L 218.527958 173.61257 \n",
       "L 220.627018 181.375414 \n",
       "L 222.726078 173.736729 \n",
       "L 224.825137 162.677441 \n",
       "L 226.924197 180.044182 \n",
       "L 229.023256 186.585101 \n",
       "L 231.122316 174.973196 \n",
       "L 233.221375 139.055532 \n",
       "L 235.320435 152.82449 \n",
       "L 237.419495 146.339321 \n",
       "L 239.518554 78.381631 \n",
       "L 241.617614 211.297101 \n",
       "L 243.716673 156.490073 \n",
       "L 245.815733 150.219788 \n",
       "L 247.914792 147.862077 \n",
       "L 250.013852 147.550063 \n",
       "L 252.112911 164.415816 \n",
       "L 254.211971 162.674638 \n",
       "L 256.311031 152.067366 \n",
       "L 258.41009 147.219704 \n",
       "L 260.50915 150.517494 \n",
       "L 262.608209 155.53482 \n",
       "L 264.707269 214.756364 \n",
       "L 266.806328 204.307766 \n",
       "L 268.905388 198.762644 \n",
       "L 271.004447 201.412276 \n",
       "L 273.103507 203.638228 \n",
       "L 275.202567 179.622471 \n",
       "L 277.301626 158.896252 \n",
       "L 279.400686 184.794252 \n",
       "L 281.499745 174.417907 \n",
       "L 283.598805 174.748797 \n",
       "L 285.697864 209.135186 \n",
       "L 287.796924 197.634664 \n",
       "L 289.895984 179.669815 \n",
       "L 291.995043 169.643804 \n",
       "L 294.094103 167.499569 \n",
       "L 296.193162 171.76116 \n",
       "L 298.292222 167.567758 \n",
       "L 300.391281 199.386971 \n",
       "L 302.490341 198.311383 \n",
       "L 304.5894 182.249919 \n",
       "L 306.68846 185.093837 \n",
       "L 308.78752 184.716505 \n",
       "L 310.886579 172.37047 \n",
       "L 312.985639 185.020086 \n",
       "L 315.084698 202.406223 \n",
       "L 317.183758 204.164869 \n",
       "L 319.282817 203.097406 \n",
       "L 321.381877 200.945054 \n",
       "L 323.480937 171.942168 \n",
       "L 325.579996 82.422077 \n",
       "L 327.679056 90.793206 \n",
       "L 329.778115 177.963621 \n",
       "L 331.877175 188.568716 \n",
       "L 333.976234 180.981644 \n",
       "L 336.075294 172.933267 \n",
       "L 338.174353 180.524376 \n",
       "L 340.273413 185.310434 \n",
       "L 342.372473 162.946208 \n",
       "L 344.471532 196.580412 \n",
       "L 346.570592 181.705392 \n",
       "L 348.669651 164.36012 \n",
       "L 350.768711 155.996451 \n",
       "L 352.86777 142.566734 \n",
       "L 354.96683 144.740002 \n",
       "L 357.065889 171.573543 \n",
       "L 359.164949 189.35874 \n",
       "L 361.264009 175.020778 \n",
       "L 363.363068 172.202629 \n",
       "L 363.363068 172.202629 \n",
       "\" style=\"fill:none;stroke:#1f77b4;stroke-linecap:square;stroke-width:1.5;\"/>\n",
       "   </g>\n",
       "   <g id=\"line2d_14\">\n",
       "    <path clip-path=\"url(#pe59906cf5c)\" d=\"M 58.999432 50.284335 \n",
       "L 61.098491 133.286082 \n",
       "L 63.197551 136.606152 \n",
       "L 65.296611 83.485034 \n",
       "L 67.39567 176.446991 \n",
       "L 69.49473 186.407201 \n",
       "L 71.593789 183.087131 \n",
       "L 73.692849 153.206502 \n",
       "L 75.791908 116.685733 \n",
       "L 77.890968 103.405453 \n",
       "L 82.089087 143.246292 \n",
       "L 84.188147 143.246292 \n",
       "L 86.287206 139.926222 \n",
       "L 88.386266 123.325873 \n",
       "L 90.485325 86.805104 \n",
       "L 92.584385 133.286082 \n",
       "L 94.683444 166.486781 \n",
       "L 96.782504 173.126921 \n",
       "L 98.881563 173.126921 \n",
       "L 100.980623 169.806851 \n",
       "L 103.079683 163.166711 \n",
       "L 105.178742 133.286082 \n",
       "L 107.277802 126.645943 \n",
       "L 109.376861 166.486781 \n",
       "L 111.475921 86.805104 \n",
       "L 117.7731 86.805104 \n",
       "L 119.872159 120.005803 \n",
       "L 121.971219 93.445244 \n",
       "L 124.070278 133.286082 \n",
       "L 126.169338 153.206502 \n",
       "L 132.466516 153.206502 \n",
       "L 134.565576 186.407201 \n",
       "L 136.664636 136.606152 \n",
       "L 138.763695 196.36741 \n",
       "L 140.862755 17.083636 \n",
       "L 147.159933 17.083636 \n",
       "L 149.258993 156.526572 \n",
       "L 151.358053 156.526572 \n",
       "L 153.457112 27.043846 \n",
       "L 159.754291 27.043846 \n",
       "L 161.85335 156.526572 \n",
       "L 163.95241 129.966013 \n",
       "L 166.051469 146.566362 \n",
       "L 168.150529 133.286082 \n",
       "L 170.249589 166.486781 \n",
       "L 172.348648 179.767061 \n",
       "L 174.447708 199.68748 \n",
       "L 176.546767 126.645943 \n",
       "L 178.645827 96.765314 \n",
       "L 180.744886 169.806851 \n",
       "L 182.843946 189.727271 \n",
       "L 184.943005 40.324126 \n",
       "L 191.240184 40.324126 \n",
       "L 193.339244 203.00755 \n",
       "L 197.537363 203.00755 \n",
       "L 199.636422 149.886432 \n",
       "L 205.933601 149.886432 \n",
       "L 208.032661 186.407201 \n",
       "L 210.13172 179.767061 \n",
       "L 212.23078 199.68748 \n",
       "L 214.329839 203.00755 \n",
       "L 216.428899 203.00755 \n",
       "L 218.527958 199.68748 \n",
       "L 220.627018 199.68748 \n",
       "L 222.726078 169.806851 \n",
       "L 224.825137 153.206502 \n",
       "L 226.924197 173.126921 \n",
       "L 229.023256 176.446991 \n",
       "L 231.122316 176.446991 \n",
       "L 235.320435 149.886432 \n",
       "L 237.419495 143.246292 \n",
       "L 239.518554 50.284335 \n",
       "L 241.617614 186.407201 \n",
       "L 243.716673 139.926222 \n",
       "L 247.914792 139.926222 \n",
       "L 250.013852 133.286082 \n",
       "L 252.112911 153.206502 \n",
       "L 254.211971 159.846642 \n",
       "L 256.311031 126.645943 \n",
       "L 260.50915 126.645943 \n",
       "L 262.608209 133.286082 \n",
       "L 264.707269 193.04734 \n",
       "L 268.905388 186.407201 \n",
       "L 271.004447 193.04734 \n",
       "L 273.103507 193.04734 \n",
       "L 275.202567 176.446991 \n",
       "L 277.301626 169.806851 \n",
       "L 279.400686 183.087131 \n",
       "L 281.499745 159.846642 \n",
       "L 283.598805 169.806851 \n",
       "L 285.697864 193.04734 \n",
       "L 287.796924 196.36741 \n",
       "L 289.895984 189.727271 \n",
       "L 291.995043 189.727271 \n",
       "L 294.094103 186.407201 \n",
       "L 296.193162 176.446991 \n",
       "L 298.292222 163.166711 \n",
       "L 300.391281 169.806851 \n",
       "L 302.490341 189.727271 \n",
       "L 304.5894 179.767061 \n",
       "L 306.68846 173.126921 \n",
       "L 308.78752 176.446991 \n",
       "L 310.886579 149.886432 \n",
       "L 312.985639 159.846642 \n",
       "L 315.084698 193.04734 \n",
       "L 317.183758 199.68748 \n",
       "L 319.282817 203.00755 \n",
       "L 321.381877 199.68748 \n",
       "L 323.480937 159.846642 \n",
       "L 325.579996 33.683986 \n",
       "L 327.679056 33.683986 \n",
       "L 329.778115 139.926222 \n",
       "L 331.877175 166.486781 \n",
       "L 333.976234 163.166711 \n",
       "L 336.075294 166.486781 \n",
       "L 338.174353 163.166711 \n",
       "L 340.273413 183.087131 \n",
       "L 344.471532 183.087131 \n",
       "L 348.669651 163.166711 \n",
       "L 350.768711 159.846642 \n",
       "L 352.86777 143.246292 \n",
       "L 354.96683 143.246292 \n",
       "L 357.065889 166.486781 \n",
       "L 359.164949 193.04734 \n",
       "L 361.264009 189.727271 \n",
       "L 363.363068 193.04734 \n",
       "L 363.363068 193.04734 \n",
       "\" style=\"fill:none;stroke:#ff7f0e;stroke-linecap:square;stroke-width:1.5;\"/>\n",
       "   </g>\n",
       "   <g id=\"patch_3\">\n",
       "    <path d=\"M 43.78125 224.64 \n",
       "L 43.78125 7.2 \n",
       "\" style=\"fill:none;stroke:#000000;stroke-linecap:square;stroke-linejoin:miter;stroke-width:0.8;\"/>\n",
       "   </g>\n",
       "   <g id=\"patch_4\">\n",
       "    <path d=\"M 378.58125 224.64 \n",
       "L 378.58125 7.2 \n",
       "\" style=\"fill:none;stroke:#000000;stroke-linecap:square;stroke-linejoin:miter;stroke-width:0.8;\"/>\n",
       "   </g>\n",
       "   <g id=\"patch_5\">\n",
       "    <path d=\"M 43.78125 224.64 \n",
       "L 378.58125 224.64 \n",
       "\" style=\"fill:none;stroke:#000000;stroke-linecap:square;stroke-linejoin:miter;stroke-width:0.8;\"/>\n",
       "   </g>\n",
       "   <g id=\"patch_6\">\n",
       "    <path d=\"M 43.78125 7.2 \n",
       "L 378.58125 7.2 \n",
       "\" style=\"fill:none;stroke:#000000;stroke-linecap:square;stroke-linejoin:miter;stroke-width:0.8;\"/>\n",
       "   </g>\n",
       "   <g id=\"legend_1\">\n",
       "    <g id=\"patch_7\">\n",
       "     <path d=\"M 50.78125 44.55625 \n",
       "L 105.517188 44.55625 \n",
       "Q 107.517188 44.55625 107.517188 42.55625 \n",
       "L 107.517188 14.2 \n",
       "Q 107.517188 12.2 105.517188 12.2 \n",
       "L 50.78125 12.2 \n",
       "Q 48.78125 12.2 48.78125 14.2 \n",
       "L 48.78125 42.55625 \n",
       "Q 48.78125 44.55625 50.78125 44.55625 \n",
       "z\n",
       "\" style=\"fill:#ffffff;opacity:0.8;stroke:#cccccc;stroke-linejoin:miter;\"/>\n",
       "    </g>\n",
       "    <g id=\"line2d_15\">\n",
       "     <path d=\"M 52.78125 20.298437 \n",
       "L 72.78125 20.298437 \n",
       "\" style=\"fill:none;stroke:#1f77b4;stroke-linecap:square;stroke-width:1.5;\"/>\n",
       "    </g>\n",
       "    <g id=\"line2d_16\"/>\n",
       "    <g id=\"text_15\">\n",
       "     <!-- pred -->\n",
       "     <g transform=\"translate(80.78125 23.798437)scale(0.1 -0.1)\">\n",
       "      <defs>\n",
       "       <path d=\"M 18.109375 8.203125 \n",
       "L 18.109375 -20.796875 \n",
       "L 9.078125 -20.796875 \n",
       "L 9.078125 54.6875 \n",
       "L 18.109375 54.6875 \n",
       "L 18.109375 46.390625 \n",
       "Q 20.953125 51.265625 25.265625 53.625 \n",
       "Q 29.59375 56 35.59375 56 \n",
       "Q 45.5625 56 51.78125 48.09375 \n",
       "Q 58.015625 40.1875 58.015625 27.296875 \n",
       "Q 58.015625 14.40625 51.78125 6.484375 \n",
       "Q 45.5625 -1.421875 35.59375 -1.421875 \n",
       "Q 29.59375 -1.421875 25.265625 0.953125 \n",
       "Q 20.953125 3.328125 18.109375 8.203125 \n",
       "z\n",
       "M 48.6875 27.296875 \n",
       "Q 48.6875 37.203125 44.609375 42.84375 \n",
       "Q 40.53125 48.484375 33.40625 48.484375 \n",
       "Q 26.265625 48.484375 22.1875 42.84375 \n",
       "Q 18.109375 37.203125 18.109375 27.296875 \n",
       "Q 18.109375 17.390625 22.1875 11.75 \n",
       "Q 26.265625 6.109375 33.40625 6.109375 \n",
       "Q 40.53125 6.109375 44.609375 11.75 \n",
       "Q 48.6875 17.390625 48.6875 27.296875 \n",
       "z\n",
       "\" id=\"DejaVuSans-112\"/>\n",
       "       <path d=\"M 41.109375 46.296875 \n",
       "Q 39.59375 47.171875 37.8125 47.578125 \n",
       "Q 36.03125 48 33.890625 48 \n",
       "Q 26.265625 48 22.1875 43.046875 \n",
       "Q 18.109375 38.09375 18.109375 28.8125 \n",
       "L 18.109375 0 \n",
       "L 9.078125 0 \n",
       "L 9.078125 54.6875 \n",
       "L 18.109375 54.6875 \n",
       "L 18.109375 46.1875 \n",
       "Q 20.953125 51.171875 25.484375 53.578125 \n",
       "Q 30.03125 56 36.53125 56 \n",
       "Q 37.453125 56 38.578125 55.875 \n",
       "Q 39.703125 55.765625 41.0625 55.515625 \n",
       "z\n",
       "\" id=\"DejaVuSans-114\"/>\n",
       "       <path d=\"M 56.203125 29.59375 \n",
       "L 56.203125 25.203125 \n",
       "L 14.890625 25.203125 \n",
       "Q 15.484375 15.921875 20.484375 11.0625 \n",
       "Q 25.484375 6.203125 34.421875 6.203125 \n",
       "Q 39.59375 6.203125 44.453125 7.46875 \n",
       "Q 49.3125 8.734375 54.109375 11.28125 \n",
       "L 54.109375 2.78125 \n",
       "Q 49.265625 0.734375 44.1875 -0.34375 \n",
       "Q 39.109375 -1.421875 33.890625 -1.421875 \n",
       "Q 20.796875 -1.421875 13.15625 6.1875 \n",
       "Q 5.515625 13.8125 5.515625 26.8125 \n",
       "Q 5.515625 40.234375 12.765625 48.109375 \n",
       "Q 20.015625 56 32.328125 56 \n",
       "Q 43.359375 56 49.78125 48.890625 \n",
       "Q 56.203125 41.796875 56.203125 29.59375 \n",
       "z\n",
       "M 47.21875 32.234375 \n",
       "Q 47.125 39.59375 43.09375 43.984375 \n",
       "Q 39.0625 48.390625 32.421875 48.390625 \n",
       "Q 24.90625 48.390625 20.390625 44.140625 \n",
       "Q 15.875 39.890625 15.1875 32.171875 \n",
       "z\n",
       "\" id=\"DejaVuSans-101\"/>\n",
       "       <path d=\"M 45.40625 46.390625 \n",
       "L 45.40625 75.984375 \n",
       "L 54.390625 75.984375 \n",
       "L 54.390625 0 \n",
       "L 45.40625 0 \n",
       "L 45.40625 8.203125 \n",
       "Q 42.578125 3.328125 38.25 0.953125 \n",
       "Q 33.9375 -1.421875 27.875 -1.421875 \n",
       "Q 17.96875 -1.421875 11.734375 6.484375 \n",
       "Q 5.515625 14.40625 5.515625 27.296875 \n",
       "Q 5.515625 40.1875 11.734375 48.09375 \n",
       "Q 17.96875 56 27.875 56 \n",
       "Q 33.9375 56 38.25 53.625 \n",
       "Q 42.578125 51.265625 45.40625 46.390625 \n",
       "z\n",
       "M 14.796875 27.296875 \n",
       "Q 14.796875 17.390625 18.875 11.75 \n",
       "Q 22.953125 6.109375 30.078125 6.109375 \n",
       "Q 37.203125 6.109375 41.296875 11.75 \n",
       "Q 45.40625 17.390625 45.40625 27.296875 \n",
       "Q 45.40625 37.203125 41.296875 42.84375 \n",
       "Q 37.203125 48.484375 30.078125 48.484375 \n",
       "Q 22.953125 48.484375 18.875 42.84375 \n",
       "Q 14.796875 37.203125 14.796875 27.296875 \n",
       "z\n",
       "\" id=\"DejaVuSans-100\"/>\n",
       "      </defs>\n",
       "      <use xlink:href=\"#DejaVuSans-112\"/>\n",
       "      <use x=\"63.476562\" xlink:href=\"#DejaVuSans-114\"/>\n",
       "      <use x=\"102.339844\" xlink:href=\"#DejaVuSans-101\"/>\n",
       "      <use x=\"163.863281\" xlink:href=\"#DejaVuSans-100\"/>\n",
       "     </g>\n",
       "    </g>\n",
       "    <g id=\"line2d_17\">\n",
       "     <path d=\"M 52.78125 34.976562 \n",
       "L 72.78125 34.976562 \n",
       "\" style=\"fill:none;stroke:#ff7f0e;stroke-linecap:square;stroke-width:1.5;\"/>\n",
       "    </g>\n",
       "    <g id=\"line2d_18\"/>\n",
       "    <g id=\"text_16\">\n",
       "     <!-- true -->\n",
       "     <g transform=\"translate(80.78125 38.476562)scale(0.1 -0.1)\">\n",
       "      <defs>\n",
       "       <path d=\"M 18.3125 70.21875 \n",
       "L 18.3125 54.6875 \n",
       "L 36.8125 54.6875 \n",
       "L 36.8125 47.703125 \n",
       "L 18.3125 47.703125 \n",
       "L 18.3125 18.015625 \n",
       "Q 18.3125 11.328125 20.140625 9.421875 \n",
       "Q 21.96875 7.515625 27.59375 7.515625 \n",
       "L 36.8125 7.515625 \n",
       "L 36.8125 0 \n",
       "L 27.59375 0 \n",
       "Q 17.1875 0 13.234375 3.875 \n",
       "Q 9.28125 7.765625 9.28125 18.015625 \n",
       "L 9.28125 47.703125 \n",
       "L 2.6875 47.703125 \n",
       "L 2.6875 54.6875 \n",
       "L 9.28125 54.6875 \n",
       "L 9.28125 70.21875 \n",
       "z\n",
       "\" id=\"DejaVuSans-116\"/>\n",
       "       <path d=\"M 8.5 21.578125 \n",
       "L 8.5 54.6875 \n",
       "L 17.484375 54.6875 \n",
       "L 17.484375 21.921875 \n",
       "Q 17.484375 14.15625 20.5 10.265625 \n",
       "Q 23.53125 6.390625 29.59375 6.390625 \n",
       "Q 36.859375 6.390625 41.078125 11.03125 \n",
       "Q 45.3125 15.671875 45.3125 23.6875 \n",
       "L 45.3125 54.6875 \n",
       "L 54.296875 54.6875 \n",
       "L 54.296875 0 \n",
       "L 45.3125 0 \n",
       "L 45.3125 8.40625 \n",
       "Q 42.046875 3.421875 37.71875 1 \n",
       "Q 33.40625 -1.421875 27.6875 -1.421875 \n",
       "Q 18.265625 -1.421875 13.375 4.4375 \n",
       "Q 8.5 10.296875 8.5 21.578125 \n",
       "z\n",
       "M 31.109375 56 \n",
       "z\n",
       "\" id=\"DejaVuSans-117\"/>\n",
       "      </defs>\n",
       "      <use xlink:href=\"#DejaVuSans-116\"/>\n",
       "      <use x=\"39.208984\" xlink:href=\"#DejaVuSans-114\"/>\n",
       "      <use x=\"80.322266\" xlink:href=\"#DejaVuSans-117\"/>\n",
       "      <use x=\"143.701172\" xlink:href=\"#DejaVuSans-101\"/>\n",
       "     </g>\n",
       "    </g>\n",
       "   </g>\n",
       "  </g>\n",
       " </g>\n",
       " <defs>\n",
       "  <clipPath id=\"pe59906cf5c\">\n",
       "   <rect height=\"217.44\" width=\"334.8\" x=\"43.78125\" y=\"7.2\"/>\n",
       "  </clipPath>\n",
       " </defs>\n",
       "</svg>\n"
      ],
      "text/plain": [
       "<Figure size 432x288 with 1 Axes>"
      ]
     },
     "metadata": {
      "needs_background": "light"
     },
     "output_type": "display_data"
    }
   ],
   "source": [
    "plt.plot(test.index, ypred, label='pred')\n",
    "plt.plot(test.index, test[0], label='true')\n",
    "plt.xlabel('DOA')\n",
    "plt.ylabel('ROH')\n",
    "plt.legend(loc='best')\n",
    "plt.show()"
   ]
  },
  {
   "cell_type": "code",
   "execution_count": 18,
   "metadata": {},
   "outputs": [
    {
     "name": "stdout",
     "output_type": "stream",
     "text": [
      "Train RMSE :: 0.234 \tTest RMSE :: 0.4\n",
      "Train RMSE :: 0.24 \tTest RMSE :: 0.203\n",
      "Train RMSE :: 0.241 \tTest RMSE :: 0.197\n",
      "Train RMSE :: 0.233 \tTest RMSE :: 0.326\n",
      "Train RMSE :: 0.237 \tTest RMSE :: 0.237\n",
      "Train RMSE :: 0.229 \tTest RMSE :: 0.369\n",
      "Train RMSE :: 0.235 \tTest RMSE :: 0.308\n",
      "Train RMSE :: 0.243 \tTest RMSE :: 0.111\n",
      "Train RMSE :: 0.18 \tTest RMSE :: 0.679\n",
      "Train RMSE :: 0.244 \tTest RMSE :: 0.129\n",
      "Train RMSE :: 0.243 \tTest RMSE :: 0.097\n",
      "Train RMSE :: 0.242 \tTest RMSE :: 0.136\n",
      "Train RMSE :: 0.241 \tTest RMSE :: 0.126\n",
      "Train RMSE :: 0.24 \tTest RMSE :: 0.188\n",
      "Train RMSE :: 0.243 \tTest RMSE :: 0.112\n",
      "Train RMSE :: 0.243 \tTest RMSE :: 0.144\n",
      "Mean Train RMSE :: 0.236 \tMean Test RMSE :: 0.235\n"
     ]
    }
   ],
   "source": [
    "from sklearn.model_selection import KFold\n",
    "\n",
    "df_train    = df.loc[:'2019-10']\n",
    "df_test     = df.loc['2019-10':]\n",
    "\n",
    "y = df_train.pop(0)\n",
    "X = df_train\n",
    "\n",
    "result = {'train':[],'test':[]}\n",
    "kf = KFold(random_state=None, shuffle=False, n_splits=16)\n",
    "\n",
    "for train_index, test_index in kf.split(X):\n",
    "    # print(\"TRAIN:\", train_index, \"TEST:\", test_index)\n",
    "    X_train, X_test = X.iloc[train_index], X.iloc[test_index]\n",
    "    y_train, y_test = y.iloc[train_index], y.iloc[test_index]\n",
    "\n",
    "    svr_rbf = SVR(kernel='rbf', C=10, gamma=0.1, epsilon=.1)\n",
    "    model_rbf = svr_rbf.fit(X_train, y_train)\n",
    "\n",
    "    # svm_reg = LinearSVR(epsilon=0.5)\n",
    "    # model_rbf = svm_reg.fit(X_train, y_train) # temp name change\n",
    "    \n",
    "    train_svm_rbf = model_rbf.predict(X_train)     \n",
    "    test_svm_rbf = model_rbf.predict(X_test) \n",
    "\n",
    "    train_rmse = np.mean((y_train - train_svm_rbf)**2)**.5  # RMSE\n",
    "    test_rmse = np.mean((y_test - test_svm_rbf)**2)**.5  # RMSE\n",
    "    result['train'].append(train_rmse)\n",
    "    result['test'].append(test_rmse)\n",
    "    print(\"Train RMSE ::\",round(train_rmse,3),\"\\tTest RMSE ::\",round(test_rmse,3))\n",
    "\n",
    "print(\"Mean Train RMSE ::\",round(np.mean(result['train']),3),\"\\tMean Test RMSE ::\",round(np.mean(result['test']),3))\n"
   ]
  },
  {
   "cell_type": "code",
   "execution_count": 10,
   "metadata": {
    "tags": []
   },
   "outputs": [],
   "source": [
    "# from sklearn.model_selection import TimeSeriesSplit\n",
    "\n",
    "# df_train    = df.loc[:'2019-10']\n",
    "# df_test     = df.loc['2019-10':]\n",
    "\n",
    "# y = df_train.pop(0)\n",
    "# X = df_train\n",
    "\n",
    "# tscv = TimeSeriesSplit(max_train_size=None, n_splits=10)\n",
    "\n",
    "# for train_index, test_index in tscv.split(X):\n",
    "#     # print(\"TRAIN:\", train_index, \"TEST:\", test_index)\n",
    "#     X_train, X_test = X.iloc[train_index], X.iloc[test_index]\n",
    "#     y_train, y_test = y.iloc[train_index], y.iloc[test_index]\n",
    "\n",
    "#     svr_rbf = SVR(kernel='rbf', C=10, gamma=0.1, epsilon=.1)\n",
    "#     model_rbf = svr_rbf.fit(X_train, y_train)\n",
    "\n",
    "#     # svm_reg = LinearSVR(epsilon=0.5)\n",
    "#     # model_rbf = svm_reg.fit(X_train, y_train) # temp name change\n",
    "    \n",
    "#     train_svm_rbf = model_rbf.predict(X_train)     \n",
    "#     test_svm_rbf = model_rbf.predict(X_test) \n",
    "\n",
    "#     train_rmse = np.mean((y_train - train_svm_rbf)**2)**.5  # RMSE\n",
    "#     test_rmse = np.mean((y_test - test_svm_rbf)**2)**.5  # RMSE\n",
    "\n",
    "#     print(\"Train RMSE ::\",round(train_rmse,3),\"\\tTest RMSE ::\",round(test_rmse,3))\n"
   ]
  },
  {
   "cell_type": "code",
   "execution_count": 19,
   "metadata": {},
   "outputs": [],
   "source": [
    "pred = model_rbf.predict(df_test.loc[:, df_test.columns != 0]) "
   ]
  },
  {
   "cell_type": "code",
   "execution_count": 20,
   "metadata": {},
   "outputs": [],
   "source": [
    "df_test['svm_rbf'] = pred"
   ]
  },
  {
   "cell_type": "code",
   "execution_count": 21,
   "metadata": {
    "tags": []
   },
   "outputs": [
    {
     "data": {
      "application/vnd.plotly.v1+json": {
       "config": {
        "plotlyServerURL": "https://plot.ly"
       },
       "data": [
        {
         "mode": "markers+lines",
         "name": "True",
         "type": "scatter",
         "x": [
          "2019-10-01T00:00:00",
          "2019-10-02T00:00:00",
          "2019-10-03T00:00:00",
          "2019-10-04T00:00:00",
          "2019-10-05T00:00:00",
          "2019-10-06T00:00:00",
          "2019-10-07T00:00:00",
          "2019-10-09T00:00:00",
          "2019-10-10T00:00:00",
          "2019-10-11T00:00:00",
          "2019-10-12T00:00:00",
          "2019-10-13T00:00:00",
          "2019-10-14T00:00:00",
          "2019-10-15T00:00:00",
          "2019-10-16T00:00:00",
          "2019-10-17T00:00:00",
          "2019-10-18T00:00:00",
          "2019-10-19T00:00:00",
          "2019-10-20T00:00:00",
          "2019-10-21T00:00:00",
          "2019-10-22T00:00:00",
          "2019-10-23T00:00:00",
          "2019-10-24T00:00:00",
          "2019-10-25T00:00:00",
          "2019-10-26T00:00:00",
          "2019-10-27T00:00:00",
          "2019-10-28T00:00:00",
          "2019-10-29T00:00:00",
          "2019-10-30T00:00:00",
          "2019-10-31T00:00:00",
          "2019-11-01T00:00:00",
          "2019-11-02T00:00:00",
          "2019-11-03T00:00:00",
          "2019-11-04T00:00:00",
          "2019-11-05T00:00:00",
          "2019-11-06T00:00:00",
          "2019-11-07T00:00:00",
          "2019-11-08T00:00:00",
          "2019-11-09T00:00:00",
          "2019-11-10T00:00:00",
          "2019-11-11T00:00:00",
          "2019-11-12T00:00:00",
          "2019-11-13T00:00:00",
          "2019-11-14T00:00:00",
          "2019-11-15T00:00:00",
          "2019-11-16T00:00:00",
          "2019-11-17T00:00:00",
          "2019-11-18T00:00:00",
          "2019-11-19T00:00:00",
          "2019-11-20T00:00:00",
          "2019-11-21T00:00:00",
          "2019-11-22T00:00:00",
          "2019-11-23T00:00:00",
          "2019-11-24T00:00:00",
          "2019-11-25T00:00:00",
          "2019-11-26T00:00:00",
          "2019-11-27T00:00:00",
          "2019-11-28T00:00:00",
          "2019-11-29T00:00:00",
          "2019-11-30T00:00:00",
          "2019-12-01T00:00:00",
          "2019-12-02T00:00:00",
          "2019-12-03T00:00:00",
          "2019-12-04T00:00:00",
          "2019-12-05T00:00:00",
          "2019-12-06T00:00:00",
          "2019-12-07T00:00:00",
          "2019-12-08T00:00:00",
          "2019-12-09T00:00:00",
          "2019-12-10T00:00:00",
          "2019-12-11T00:00:00",
          "2019-12-12T00:00:00",
          "2019-12-13T00:00:00",
          "2019-12-14T00:00:00",
          "2019-12-15T00:00:00",
          "2019-12-16T00:00:00",
          "2019-12-17T00:00:00",
          "2019-12-18T00:00:00",
          "2019-12-19T00:00:00",
          "2019-12-20T00:00:00",
          "2019-12-21T00:00:00",
          "2019-12-22T00:00:00",
          "2019-12-23T00:00:00",
          "2019-12-24T00:00:00",
          "2019-12-25T00:00:00",
          "2019-12-26T00:00:00",
          "2019-12-27T00:00:00",
          "2019-12-28T00:00:00",
          "2019-12-29T00:00:00",
          "2019-12-30T00:00:00",
          "2019-12-31T00:00:00"
         ],
         "y": [
          1.8814331421355983,
          1.6297430034555764,
          1.9093987131000452,
          2.063209353404503,
          2.1471060662978436,
          1.392035650257778,
          2.035243782440056,
          2.1610888517800673,
          2.189054422744514,
          1.965329855028939,
          2.1471060662978436,
          1.7276225018311406,
          2.1331232808156204,
          2.231002779191184,
          2.1471060662978436,
          2.2030372082267373,
          2.1191404953333968,
          2.0072782114756094,
          0.6789135906643828,
          1.9513470695467157,
          2.0771921388867267,
          2.2030372082267373,
          2.244985564673408,
          1.965329855028939,
          1.9513470695467157,
          1.6577085744200233,
          1.993295425993386,
          1.8674503566533749,
          1.9373642840644922,
          2.035243782440056,
          2.244985564673408,
          2.2030372082267373,
          1.447966792186672,
          1.6996569308666938,
          2.063209353404503,
          2.217019993708961,
          2.0212609969578326,
          2.1750716372622905,
          2.2030372082267373,
          1.4759323631511188,
          1.7136397163489172,
          1.9093987131000452,
          1.9233814985822686,
          2.0771921388867267,
          2.0072782114756094,
          1.965329855028939,
          1.0564487986844155,
          1.420001221222225,
          1.447966792186672,
          1.6856741453844704,
          1.6996569308666938,
          1.993295425993386,
          1.8674503566533749,
          1.3500872938111077,
          1.0424660132021921,
          0.7488275180755,
          1.2242422244710969,
          1.5598290760444593,
          2.217019993708961,
          2.1331232808156204,
          1.6856741453844704,
          1.9373642840644922,
          1.8674503566533749,
          2.1051577098511736,
          2.1331232808156204,
          2.0771921388867267,
          2.217019993708961,
          2.1051577098511736,
          2.0212609969578326,
          2.035243782440056,
          2.1051577098511736,
          1.671691359902247,
          2.1191404953333968,
          2.09117492436895,
          0.7068791616288297,
          0.6509480196999359,
          0.7907758745221702,
          0.2734128116799031,
          0.14756774233989217,
          1.294156151882214,
          1.9513470695467157,
          1.993295425993386,
          1.5598290760444593,
          1.5877946470089062,
          1.7555880727955875,
          1.7975364292422578,
          2.035243782440056,
          2.1471060662978436,
          1.7975364292422578,
          2.1471060662978436,
          2.1610888517800673
         ]
        },
        {
         "mode": "markers+lines",
         "name": "svm_rbf",
         "type": "scatter",
         "x": [
          "2019-10-01T00:00:00",
          "2019-10-02T00:00:00",
          "2019-10-03T00:00:00",
          "2019-10-04T00:00:00",
          "2019-10-05T00:00:00",
          "2019-10-06T00:00:00",
          "2019-10-07T00:00:00",
          "2019-10-09T00:00:00",
          "2019-10-10T00:00:00",
          "2019-10-11T00:00:00",
          "2019-10-12T00:00:00",
          "2019-10-13T00:00:00",
          "2019-10-14T00:00:00",
          "2019-10-15T00:00:00",
          "2019-10-16T00:00:00",
          "2019-10-17T00:00:00",
          "2019-10-18T00:00:00",
          "2019-10-19T00:00:00",
          "2019-10-20T00:00:00",
          "2019-10-21T00:00:00",
          "2019-10-22T00:00:00",
          "2019-10-23T00:00:00",
          "2019-10-24T00:00:00",
          "2019-10-25T00:00:00",
          "2019-10-26T00:00:00",
          "2019-10-27T00:00:00",
          "2019-10-28T00:00:00",
          "2019-10-29T00:00:00",
          "2019-10-30T00:00:00",
          "2019-10-31T00:00:00",
          "2019-11-01T00:00:00",
          "2019-11-02T00:00:00",
          "2019-11-03T00:00:00",
          "2019-11-04T00:00:00",
          "2019-11-05T00:00:00",
          "2019-11-06T00:00:00",
          "2019-11-07T00:00:00",
          "2019-11-08T00:00:00",
          "2019-11-09T00:00:00",
          "2019-11-10T00:00:00",
          "2019-11-11T00:00:00",
          "2019-11-12T00:00:00",
          "2019-11-13T00:00:00",
          "2019-11-14T00:00:00",
          "2019-11-15T00:00:00",
          "2019-11-16T00:00:00",
          "2019-11-17T00:00:00",
          "2019-11-18T00:00:00",
          "2019-11-19T00:00:00",
          "2019-11-20T00:00:00",
          "2019-11-21T00:00:00",
          "2019-11-22T00:00:00",
          "2019-11-23T00:00:00",
          "2019-11-24T00:00:00",
          "2019-11-25T00:00:00",
          "2019-11-26T00:00:00",
          "2019-11-27T00:00:00",
          "2019-11-28T00:00:00",
          "2019-11-29T00:00:00",
          "2019-11-30T00:00:00",
          "2019-12-01T00:00:00",
          "2019-12-02T00:00:00",
          "2019-12-03T00:00:00",
          "2019-12-04T00:00:00",
          "2019-12-05T00:00:00",
          "2019-12-06T00:00:00",
          "2019-12-07T00:00:00",
          "2019-12-08T00:00:00",
          "2019-12-09T00:00:00",
          "2019-12-10T00:00:00",
          "2019-12-11T00:00:00",
          "2019-12-12T00:00:00",
          "2019-12-13T00:00:00",
          "2019-12-14T00:00:00",
          "2019-12-15T00:00:00",
          "2019-12-16T00:00:00",
          "2019-12-17T00:00:00",
          "2019-12-18T00:00:00",
          "2019-12-19T00:00:00",
          "2019-12-20T00:00:00",
          "2019-12-21T00:00:00",
          "2019-12-22T00:00:00",
          "2019-12-23T00:00:00",
          "2019-12-24T00:00:00",
          "2019-12-25T00:00:00",
          "2019-12-26T00:00:00",
          "2019-12-27T00:00:00",
          "2019-12-28T00:00:00",
          "2019-12-29T00:00:00",
          "2019-12-30T00:00:00",
          "2019-12-31T00:00:00"
         ],
         "y": [
          1.9145642258165243,
          1.8688866688215475,
          2.0224467684733396,
          2.0471090919753623,
          2.0301797167512,
          1.4637859268982039,
          2.0537127277075413,
          2.0576623517058588,
          2.1188697421563836,
          2.0954514401156854,
          2.0391702429476806,
          1.5844615375240338,
          1.975382037172585,
          2.0871680753901725,
          2.060724296579628,
          2.066309444520977,
          2.094759757848923,
          2.049066759263479,
          1.0122342745678654,
          1.9418785809402055,
          2.1017294997788403,
          2.134326005691129,
          2.1590033690895627,
          2.005120759648598,
          1.958519020152932,
          1.6671188628391715,
          1.9915421868106977,
          2.0082471640534045,
          1.987786498357081,
          2.101631865485891,
          2.179305708443426,
          2.1769172473192517,
          1.6117475905056122,
          2.1060276449501956,
          2.173250325738783,
          2.161290105922104,
          2.1409545747439296,
          2.2142966583899204,
          2.24702661095232,
          1.6223741360871071,
          1.8453385377588793,
          2.06825311282941,
          1.9329943885092702,
          2.058218196461021,
          2.100649527959554,
          2.189315035218542,
          1.4052342557570472,
          1.8111850260587252,
          1.809267319863863,
          1.9947023228677037,
          2.0319957887501694,
          2.11691753650819,
          2.1693607003463913,
          1.7818564561716472,
          1.82036261885433,
          1.6715393017040585,
          1.9298340751586374,
          2.0967495994767926,
          2.0653667425003928,
          2.1650162209249952,
          1.7833981734744295,
          1.8896623326527175,
          1.9448480425253722,
          1.9323962386428744,
          1.8693289538488258,
          2.025225464350145,
          2.0577790407112317,
          2.1262320220361035,
          1.9605454668919793,
          2.0465390028973296,
          2.002505542107772,
          1.876047604201106,
          1.956110667148952,
          1.9691542403065423,
          1.2046194750757273,
          1.6100880607320358,
          1.592309371519898,
          1.3807419847977374,
          1.4988750607819321,
          1.980034955944686,
          2.080019922483536,
          1.8325855100014319,
          1.8857826684157948,
          2.016485934179048,
          2.055060290791938,
          2.071715665794028,
          2.0758963274877686,
          2.138290355569597,
          1.7699785298119763,
          1.9687944174587433,
          1.8718786083438321
         ]
        }
       ],
       "layout": {
        "autosize": false,
        "height": 400,
        "template": {
         "data": {
          "bar": [
           {
            "error_x": {
             "color": "#2a3f5f"
            },
            "error_y": {
             "color": "#2a3f5f"
            },
            "marker": {
             "line": {
              "color": "#E5ECF6",
              "width": 0.5
             }
            },
            "type": "bar"
           }
          ],
          "barpolar": [
           {
            "marker": {
             "line": {
              "color": "#E5ECF6",
              "width": 0.5
             }
            },
            "type": "barpolar"
           }
          ],
          "carpet": [
           {
            "aaxis": {
             "endlinecolor": "#2a3f5f",
             "gridcolor": "white",
             "linecolor": "white",
             "minorgridcolor": "white",
             "startlinecolor": "#2a3f5f"
            },
            "baxis": {
             "endlinecolor": "#2a3f5f",
             "gridcolor": "white",
             "linecolor": "white",
             "minorgridcolor": "white",
             "startlinecolor": "#2a3f5f"
            },
            "type": "carpet"
           }
          ],
          "choropleth": [
           {
            "colorbar": {
             "outlinewidth": 0,
             "ticks": ""
            },
            "type": "choropleth"
           }
          ],
          "contour": [
           {
            "colorbar": {
             "outlinewidth": 0,
             "ticks": ""
            },
            "colorscale": [
             [
              0,
              "#0d0887"
             ],
             [
              0.1111111111111111,
              "#46039f"
             ],
             [
              0.2222222222222222,
              "#7201a8"
             ],
             [
              0.3333333333333333,
              "#9c179e"
             ],
             [
              0.4444444444444444,
              "#bd3786"
             ],
             [
              0.5555555555555556,
              "#d8576b"
             ],
             [
              0.6666666666666666,
              "#ed7953"
             ],
             [
              0.7777777777777778,
              "#fb9f3a"
             ],
             [
              0.8888888888888888,
              "#fdca26"
             ],
             [
              1,
              "#f0f921"
             ]
            ],
            "type": "contour"
           }
          ],
          "contourcarpet": [
           {
            "colorbar": {
             "outlinewidth": 0,
             "ticks": ""
            },
            "type": "contourcarpet"
           }
          ],
          "heatmap": [
           {
            "colorbar": {
             "outlinewidth": 0,
             "ticks": ""
            },
            "colorscale": [
             [
              0,
              "#0d0887"
             ],
             [
              0.1111111111111111,
              "#46039f"
             ],
             [
              0.2222222222222222,
              "#7201a8"
             ],
             [
              0.3333333333333333,
              "#9c179e"
             ],
             [
              0.4444444444444444,
              "#bd3786"
             ],
             [
              0.5555555555555556,
              "#d8576b"
             ],
             [
              0.6666666666666666,
              "#ed7953"
             ],
             [
              0.7777777777777778,
              "#fb9f3a"
             ],
             [
              0.8888888888888888,
              "#fdca26"
             ],
             [
              1,
              "#f0f921"
             ]
            ],
            "type": "heatmap"
           }
          ],
          "heatmapgl": [
           {
            "colorbar": {
             "outlinewidth": 0,
             "ticks": ""
            },
            "colorscale": [
             [
              0,
              "#0d0887"
             ],
             [
              0.1111111111111111,
              "#46039f"
             ],
             [
              0.2222222222222222,
              "#7201a8"
             ],
             [
              0.3333333333333333,
              "#9c179e"
             ],
             [
              0.4444444444444444,
              "#bd3786"
             ],
             [
              0.5555555555555556,
              "#d8576b"
             ],
             [
              0.6666666666666666,
              "#ed7953"
             ],
             [
              0.7777777777777778,
              "#fb9f3a"
             ],
             [
              0.8888888888888888,
              "#fdca26"
             ],
             [
              1,
              "#f0f921"
             ]
            ],
            "type": "heatmapgl"
           }
          ],
          "histogram": [
           {
            "marker": {
             "colorbar": {
              "outlinewidth": 0,
              "ticks": ""
             }
            },
            "type": "histogram"
           }
          ],
          "histogram2d": [
           {
            "colorbar": {
             "outlinewidth": 0,
             "ticks": ""
            },
            "colorscale": [
             [
              0,
              "#0d0887"
             ],
             [
              0.1111111111111111,
              "#46039f"
             ],
             [
              0.2222222222222222,
              "#7201a8"
             ],
             [
              0.3333333333333333,
              "#9c179e"
             ],
             [
              0.4444444444444444,
              "#bd3786"
             ],
             [
              0.5555555555555556,
              "#d8576b"
             ],
             [
              0.6666666666666666,
              "#ed7953"
             ],
             [
              0.7777777777777778,
              "#fb9f3a"
             ],
             [
              0.8888888888888888,
              "#fdca26"
             ],
             [
              1,
              "#f0f921"
             ]
            ],
            "type": "histogram2d"
           }
          ],
          "histogram2dcontour": [
           {
            "colorbar": {
             "outlinewidth": 0,
             "ticks": ""
            },
            "colorscale": [
             [
              0,
              "#0d0887"
             ],
             [
              0.1111111111111111,
              "#46039f"
             ],
             [
              0.2222222222222222,
              "#7201a8"
             ],
             [
              0.3333333333333333,
              "#9c179e"
             ],
             [
              0.4444444444444444,
              "#bd3786"
             ],
             [
              0.5555555555555556,
              "#d8576b"
             ],
             [
              0.6666666666666666,
              "#ed7953"
             ],
             [
              0.7777777777777778,
              "#fb9f3a"
             ],
             [
              0.8888888888888888,
              "#fdca26"
             ],
             [
              1,
              "#f0f921"
             ]
            ],
            "type": "histogram2dcontour"
           }
          ],
          "mesh3d": [
           {
            "colorbar": {
             "outlinewidth": 0,
             "ticks": ""
            },
            "type": "mesh3d"
           }
          ],
          "parcoords": [
           {
            "line": {
             "colorbar": {
              "outlinewidth": 0,
              "ticks": ""
             }
            },
            "type": "parcoords"
           }
          ],
          "pie": [
           {
            "automargin": true,
            "type": "pie"
           }
          ],
          "scatter": [
           {
            "marker": {
             "colorbar": {
              "outlinewidth": 0,
              "ticks": ""
             }
            },
            "type": "scatter"
           }
          ],
          "scatter3d": [
           {
            "line": {
             "colorbar": {
              "outlinewidth": 0,
              "ticks": ""
             }
            },
            "marker": {
             "colorbar": {
              "outlinewidth": 0,
              "ticks": ""
             }
            },
            "type": "scatter3d"
           }
          ],
          "scattercarpet": [
           {
            "marker": {
             "colorbar": {
              "outlinewidth": 0,
              "ticks": ""
             }
            },
            "type": "scattercarpet"
           }
          ],
          "scattergeo": [
           {
            "marker": {
             "colorbar": {
              "outlinewidth": 0,
              "ticks": ""
             }
            },
            "type": "scattergeo"
           }
          ],
          "scattergl": [
           {
            "marker": {
             "colorbar": {
              "outlinewidth": 0,
              "ticks": ""
             }
            },
            "type": "scattergl"
           }
          ],
          "scattermapbox": [
           {
            "marker": {
             "colorbar": {
              "outlinewidth": 0,
              "ticks": ""
             }
            },
            "type": "scattermapbox"
           }
          ],
          "scatterpolar": [
           {
            "marker": {
             "colorbar": {
              "outlinewidth": 0,
              "ticks": ""
             }
            },
            "type": "scatterpolar"
           }
          ],
          "scatterpolargl": [
           {
            "marker": {
             "colorbar": {
              "outlinewidth": 0,
              "ticks": ""
             }
            },
            "type": "scatterpolargl"
           }
          ],
          "scatterternary": [
           {
            "marker": {
             "colorbar": {
              "outlinewidth": 0,
              "ticks": ""
             }
            },
            "type": "scatterternary"
           }
          ],
          "surface": [
           {
            "colorbar": {
             "outlinewidth": 0,
             "ticks": ""
            },
            "colorscale": [
             [
              0,
              "#0d0887"
             ],
             [
              0.1111111111111111,
              "#46039f"
             ],
             [
              0.2222222222222222,
              "#7201a8"
             ],
             [
              0.3333333333333333,
              "#9c179e"
             ],
             [
              0.4444444444444444,
              "#bd3786"
             ],
             [
              0.5555555555555556,
              "#d8576b"
             ],
             [
              0.6666666666666666,
              "#ed7953"
             ],
             [
              0.7777777777777778,
              "#fb9f3a"
             ],
             [
              0.8888888888888888,
              "#fdca26"
             ],
             [
              1,
              "#f0f921"
             ]
            ],
            "type": "surface"
           }
          ],
          "table": [
           {
            "cells": {
             "fill": {
              "color": "#EBF0F8"
             },
             "line": {
              "color": "white"
             }
            },
            "header": {
             "fill": {
              "color": "#C8D4E3"
             },
             "line": {
              "color": "white"
             }
            },
            "type": "table"
           }
          ]
         },
         "layout": {
          "annotationdefaults": {
           "arrowcolor": "#2a3f5f",
           "arrowhead": 0,
           "arrowwidth": 1
          },
          "coloraxis": {
           "colorbar": {
            "outlinewidth": 0,
            "ticks": ""
           }
          },
          "colorscale": {
           "diverging": [
            [
             0,
             "#8e0152"
            ],
            [
             0.1,
             "#c51b7d"
            ],
            [
             0.2,
             "#de77ae"
            ],
            [
             0.3,
             "#f1b6da"
            ],
            [
             0.4,
             "#fde0ef"
            ],
            [
             0.5,
             "#f7f7f7"
            ],
            [
             0.6,
             "#e6f5d0"
            ],
            [
             0.7,
             "#b8e186"
            ],
            [
             0.8,
             "#7fbc41"
            ],
            [
             0.9,
             "#4d9221"
            ],
            [
             1,
             "#276419"
            ]
           ],
           "sequential": [
            [
             0,
             "#0d0887"
            ],
            [
             0.1111111111111111,
             "#46039f"
            ],
            [
             0.2222222222222222,
             "#7201a8"
            ],
            [
             0.3333333333333333,
             "#9c179e"
            ],
            [
             0.4444444444444444,
             "#bd3786"
            ],
            [
             0.5555555555555556,
             "#d8576b"
            ],
            [
             0.6666666666666666,
             "#ed7953"
            ],
            [
             0.7777777777777778,
             "#fb9f3a"
            ],
            [
             0.8888888888888888,
             "#fdca26"
            ],
            [
             1,
             "#f0f921"
            ]
           ],
           "sequentialminus": [
            [
             0,
             "#0d0887"
            ],
            [
             0.1111111111111111,
             "#46039f"
            ],
            [
             0.2222222222222222,
             "#7201a8"
            ],
            [
             0.3333333333333333,
             "#9c179e"
            ],
            [
             0.4444444444444444,
             "#bd3786"
            ],
            [
             0.5555555555555556,
             "#d8576b"
            ],
            [
             0.6666666666666666,
             "#ed7953"
            ],
            [
             0.7777777777777778,
             "#fb9f3a"
            ],
            [
             0.8888888888888888,
             "#fdca26"
            ],
            [
             1,
             "#f0f921"
            ]
           ]
          },
          "colorway": [
           "#636efa",
           "#EF553B",
           "#00cc96",
           "#ab63fa",
           "#FFA15A",
           "#19d3f3",
           "#FF6692",
           "#B6E880",
           "#FF97FF",
           "#FECB52"
          ],
          "font": {
           "color": "#2a3f5f"
          },
          "geo": {
           "bgcolor": "white",
           "lakecolor": "white",
           "landcolor": "#E5ECF6",
           "showlakes": true,
           "showland": true,
           "subunitcolor": "white"
          },
          "hoverlabel": {
           "align": "left"
          },
          "hovermode": "closest",
          "mapbox": {
           "style": "light"
          },
          "paper_bgcolor": "white",
          "plot_bgcolor": "#E5ECF6",
          "polar": {
           "angularaxis": {
            "gridcolor": "white",
            "linecolor": "white",
            "ticks": ""
           },
           "bgcolor": "#E5ECF6",
           "radialaxis": {
            "gridcolor": "white",
            "linecolor": "white",
            "ticks": ""
           }
          },
          "scene": {
           "xaxis": {
            "backgroundcolor": "#E5ECF6",
            "gridcolor": "white",
            "gridwidth": 2,
            "linecolor": "white",
            "showbackground": true,
            "ticks": "",
            "zerolinecolor": "white"
           },
           "yaxis": {
            "backgroundcolor": "#E5ECF6",
            "gridcolor": "white",
            "gridwidth": 2,
            "linecolor": "white",
            "showbackground": true,
            "ticks": "",
            "zerolinecolor": "white"
           },
           "zaxis": {
            "backgroundcolor": "#E5ECF6",
            "gridcolor": "white",
            "gridwidth": 2,
            "linecolor": "white",
            "showbackground": true,
            "ticks": "",
            "zerolinecolor": "white"
           }
          },
          "shapedefaults": {
           "line": {
            "color": "#2a3f5f"
           }
          },
          "ternary": {
           "aaxis": {
            "gridcolor": "white",
            "linecolor": "white",
            "ticks": ""
           },
           "baxis": {
            "gridcolor": "white",
            "linecolor": "white",
            "ticks": ""
           },
           "bgcolor": "#E5ECF6",
           "caxis": {
            "gridcolor": "white",
            "linecolor": "white",
            "ticks": ""
           }
          },
          "title": {
           "x": 0.05
          },
          "xaxis": {
           "automargin": true,
           "gridcolor": "white",
           "linecolor": "white",
           "ticks": "",
           "title": {
            "standoff": 15
           },
           "zerolinecolor": "white",
           "zerolinewidth": 2
          },
          "yaxis": {
           "automargin": true,
           "gridcolor": "white",
           "linecolor": "white",
           "ticks": "",
           "title": {
            "standoff": 15
           },
           "zerolinecolor": "white",
           "zerolinewidth": 2
          }
         }
        },
        "width": 1000,
        "xaxis": {
         "title": {
          "text": "Reservations on Hand (ROH)"
         }
        },
        "yaxis": {
         "title": {
          "text": "Day of Arrival (DOA)"
         }
        }
       }
      }
     },
     "metadata": {},
     "output_type": "display_data"
    }
   ],
   "source": [
    "fig = go.Figure()\n",
    "fig.add_trace(go.Scatter(x=df_test.index, y=df_test[0],mode='markers+lines',name='True'))\n",
    "# fig.add_trace(go.Scatter(x=df_test.index, y=df_test['svm_reg'],mode='markers+lines',name='svm_reg'))\n",
    "fig.add_trace(go.Scatter(x=df_test.index, y=df_test['svm_rbf'],mode='markers+lines',name='svm_rbf'))\n",
    "\n",
    "fig.update_layout(autosize=False,width=1000,height=400,xaxis_title=\"Reservations on Hand (ROH)\",yaxis_title=\"Day of Arrival (DOA)\")\n",
    "fig.show()   "
   ]
  },
  {
   "cell_type": "code",
   "execution_count": 53,
   "metadata": {},
   "outputs": [],
   "source": [
    "# Accuracy metrics\n",
    "def forecast_accuracy(forecast, actual):\n",
    "    mape = np.mean(np.abs(forecast - actual)/np.abs(actual))  # MAPE\n",
    "    mae  = np.mean(np.abs(forecast - actual))    # MAE\n",
    "    mpe  = np.mean((forecast - actual)/actual)   # MPE\n",
    "    rmse = np.mean((forecast - actual)**2)**.5  # RMSE\n",
    "    return({'mape':round(mape,3), 'mae':round(mae,3) , 'mpe':round(mpe,3) , 'rmse':round(rmse,3)})"
   ]
  },
  {
   "cell_type": "code",
   "execution_count": 23,
   "metadata": {},
   "outputs": [
    {
     "name": "stdout",
     "output_type": "stream",
     "text": [
      "SVM Radial      {'mape': 0.289, 'mae': 0.212, 'mpe': 0.254, 'rmse': 0.333}\n"
     ]
    }
   ],
   "source": [
    "# print(\"SVM Regression \",forecast_accuracy(df_test['svm_reg'],df_test[0]))\n",
    "print(\"SVM Radial     \",forecast_accuracy(df_test['svm_rbf'],df_test[0]))"
   ]
  },
  {
   "cell_type": "markdown",
   "metadata": {},
   "source": [
    "# Compile"
   ]
  },
  {
   "cell_type": "code",
   "execution_count": 6,
   "metadata": {},
   "outputs": [],
   "source": [
    "from sklearn.model_selection import KFold"
   ]
  },
  {
   "cell_type": "code",
   "execution_count": 7,
   "metadata": {},
   "outputs": [],
   "source": [
    "clean_hotels = [1041, 269, 4290, 48, 317, 151, 322, 1968, 1100, 284, 86, 199, 80, 577, 148, 1479] \n",
    "_result = {hotelId:{'mae':None,'rmse':None} for hotelId in clean_hotels}"
   ]
  },
  {
   "cell_type": "code",
   "execution_count": 13,
   "metadata": {},
   "outputs": [
    {
     "name": "stdout",
     "output_type": "stream",
     "text": [
      "Mean Train RMSE :: 0.202 \tMean Test RMSE :: 0.218\n",
      "SVM Radial      {'mape': 0.299, 'mae': 0.14, 'mpe': 0.071, 'rmse': 0.198}\n",
      "Mean Train RMSE :: 0.224 \tMean Test RMSE :: 0.227\n",
      "SVM Radial      {'mape': 0.215, 'mae': 0.098, 'mpe': 0.141, 'rmse': 0.143}\n",
      "Mean Train RMSE :: 0.444 \tMean Test RMSE :: 0.479\n",
      "SVM Radial      {'mape': 0.109, 'mae': 0.069, 'mpe': 0.04, 'rmse': 0.089}\n",
      "Mean Train RMSE :: 0.224 \tMean Test RMSE :: 0.227\n",
      "SVM Radial      {'mape': 0.215, 'mae': 0.098, 'mpe': 0.141, 'rmse': 0.143}\n",
      "Mean Train RMSE :: 0.094 \tMean Test RMSE :: 0.113\n",
      "SVM Radial      {'mape': 0.08, 'mae': 0.075, 'mpe': 0.005, 'rmse': 0.094}\n",
      "Mean Train RMSE :: 0.103 \tMean Test RMSE :: 0.134\n",
      "SVM Radial      {'mape': 0.094, 'mae': 0.085, 'mpe': 0.022, 'rmse': 0.109}\n",
      "Mean Train RMSE :: 0.145 \tMean Test RMSE :: 0.162\n",
      "SVM Radial      {'mape': 0.096, 'mae': 0.099, 'mpe': -0.016, 'rmse': 0.156}\n",
      "Mean Train RMSE :: 0.095 \tMean Test RMSE :: 0.134\n",
      "SVM Radial      {'mape': 0.241, 'mae': 0.173, 'mpe': -0.07, 'rmse': 0.373}\n",
      "Mean Train RMSE :: 0.162 \tMean Test RMSE :: 0.163\n",
      "SVM Radial      {'mape': 0.081, 'mae': 0.095, 'mpe': -0.023, 'rmse': 0.129}\n",
      "Mean Train RMSE :: 0.086 \tMean Test RMSE :: 0.104\n",
      "SVM Radial      {'mape': 0.077, 'mae': 0.07, 'mpe': -0.013, 'rmse': 0.085}\n",
      "Mean Train RMSE :: 0.092 \tMean Test RMSE :: 0.132\n",
      "SVM Radial      {'mape': 0.088, 'mae': 0.094, 'mpe': -0.018, 'rmse': 0.121}\n",
      "Mean Train RMSE :: 0.099 \tMean Test RMSE :: 0.111\n",
      "SVM Radial      {'mape': 0.165, 'mae': 0.085, 'mpe': 0.078, 'rmse': 0.123}\n",
      "Mean Train RMSE :: 0.096 \tMean Test RMSE :: 0.115\n",
      "SVM Radial      {'mape': 0.117, 'mae': 0.087, 'mpe': 0.015, 'rmse': 0.112}\n",
      "Mean Train RMSE :: 0.188 \tMean Test RMSE :: 0.183\n",
      "SVM Radial      {'mape': 0.319, 'mae': 0.091, 'mpe': -0.035, 'rmse': 0.145}\n",
      "Mean Train RMSE :: 0.276 \tMean Test RMSE :: 0.242\n",
      "SVM Radial      {'mape': 1.054, 'mae': 0.221, 'mpe': -0.58, 'rmse': 0.466}\n",
      "Mean Train RMSE :: 0.108 \tMean Test RMSE :: 0.124\n",
      "SVM Radial      {'mape': 0.936, 'mae': 0.092, 'mpe': 0.584, 'rmse': 0.137}\n"
     ]
    }
   ],
   "source": [
    "for hotelId in clean_hotels:\n",
    "    df = pd.read_pickle('../dataset/preprocessed/'+str(hotelId)+'_imputed.pkl')\n",
    "    #preprocessing \n",
    "    df = df.rename(columns={'Reservations':'ROH'})\n",
    "    scaler = StandardScaler()\n",
    "    df[['LAR','ROH']] = scaler.fit_transform(df[['LAR','ROH']])\n",
    "    df = df.pivot(index='DOA',columns='DBA',values='ROH')\n",
    "    df = df.bfill(axis=1).ffill(axis=1)\n",
    "    # df = df.drop(columns=[1,2,3,4,5,6,7,8,10,11,12,13,14,15,16,17,19,21])\n",
    "    cols = df.columns[df.columns.isin([89,79,69,59,49,39,29,19,9,0])]\n",
    "    df = df[cols]\n",
    "    # df['DOW'] = df.index.dayofweek\n",
    "    #kfold validation \n",
    "\n",
    "    df_train    = df.loc[:'2019-10']\n",
    "    df_test     = df.loc['2019-10':]\n",
    "\n",
    "    y = df_train.pop(0)\n",
    "    X = df_train\n",
    "\n",
    "    result = {'train':[],'test':[]}\n",
    "    kf = KFold(random_state=None, shuffle=False, n_splits=16)\n",
    "\n",
    "    for train_index, test_index in kf.split(X):\n",
    "        # print(\"TRAIN:\", train_index, \"TEST:\", test_index)\n",
    "        X_train, X_test = X.iloc[train_index], X.iloc[test_index]\n",
    "        y_train, y_test = y.iloc[train_index], y.iloc[test_index]\n",
    "\n",
    "        svr_rbf = SVR(kernel='rbf', C=10, gamma=0.1, epsilon=.1)\n",
    "        model_rbf = svr_rbf.fit(X_train, y_train)\n",
    "\n",
    "        # svm_reg = LinearSVR(epsilon=0.5)\n",
    "        # model_rbf = svm_reg.fit(X_train, y_train) # temp name change\n",
    "        \n",
    "        train_svm_rbf = model_rbf.predict(X_train)     \n",
    "        test_svm_rbf = model_rbf.predict(X_test) \n",
    "\n",
    "        train_rmse = np.mean((y_train - train_svm_rbf)**2)**.5  # RMSE\n",
    "        test_rmse = np.mean((y_test - test_svm_rbf)**2)**.5  # RMSE\n",
    "        result['train'].append(train_rmse)\n",
    "        result['test'].append(test_rmse)\n",
    "        # print(\"Train RMSE ::\",round(train_rmse,3),\"\\tTest RMSE ::\",round(test_rmse,3))\n",
    "\n",
    "    print(\"Mean Train RMSE ::\",round(np.mean(result['train']),3),\"\\tMean Test RMSE ::\",round(np.mean(result['test']),3))\n",
    "    #predict \n",
    "    pred = model_rbf.predict(df_test.loc[:, df_test.columns != 0]) \n",
    "    df_test['svm_rbf'] = pred\n",
    "    # result \n",
    "    # fig = go.Figure()\n",
    "    # fig.add_trace(go.Scatter(x=df_test.index, y=df_test[0],mode='markers+lines',name='True'))\n",
    "    # # fig.add_trace(go.Scatter(x=df_test.index, y=df_test['svm_reg'],mode='markers+lines',name='svm_reg'))\n",
    "    # fig.add_trace(go.Scatter(x=df_test.index, y=df_test['svm_rbf'],mode='markers+lines',name='svm_rbf'))\n",
    "\n",
    "    # fig.update_layout(autosize=False,width=1000,height=400,xaxis_title=\"Reservations on Hand (ROH)\",yaxis_title=\"Day of Arrival (DOA)\")\n",
    "    # fig.show()   \n",
    "    # performance\n",
    "    perfor = forecast_accuracy(df_test['svm_rbf'],df_test[0])\n",
    "    print(\"SVM Radial     \",perfor)\n",
    "    _result[hotelId]['mae'] = perfor['mae']\n",
    "    _result[hotelId]['rmse'] = perfor['rmse']\n"
   ]
  },
  {
   "cell_type": "code",
   "execution_count": null,
   "metadata": {},
   "outputs": [],
   "source": [
    "_result"
   ]
  },
  {
   "cell_type": "code",
   "execution_count": null,
   "metadata": {},
   "outputs": [],
   "source": []
  }
 ],
 "metadata": {
  "kernelspec": {
   "display_name": "Python 3",
   "language": "python",
   "name": "python3"
  },
  "language_info": {
   "codemirror_mode": {
    "name": "ipython",
    "version": 3
   },
   "file_extension": ".py",
   "mimetype": "text/x-python",
   "name": "python",
   "nbconvert_exporter": "python",
   "pygments_lexer": "ipython3",
   "version": "3.8.5"
  }
 },
 "nbformat": 4,
 "nbformat_minor": 4
}
