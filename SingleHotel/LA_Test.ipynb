{
 "metadata": {
  "language_info": {
   "codemirror_mode": {
    "name": "ipython",
    "version": 3
   },
   "file_extension": ".py",
   "mimetype": "text/x-python",
   "name": "python",
   "nbconvert_exporter": "python",
   "pygments_lexer": "ipython3",
   "version": "3.7.3-final"
  },
  "orig_nbformat": 2,
  "kernelspec": {
   "name": "python3",
   "display_name": "Python 3"
  }
 },
 "nbformat": 4,
 "nbformat_minor": 2,
 "cells": [
  {
   "cell_type": "code",
   "execution_count": 47,
   "metadata": {},
   "outputs": [],
   "source": [
    "import os\n",
    "import datetime\n",
    "\n",
    "import IPython\n",
    "import IPython.display\n",
    "import matplotlib as mpl\n",
    "import matplotlib.pyplot as plt\n",
    "import numpy as np\n",
    "import pandas as pd\n",
    "import seaborn as sns\n",
    "import tensorflow as tf\n",
    "\n",
    "mpl.rcParams['figure.figsize'] = (20, 7)\n",
    "mpl.rcParams['axes.grid'] = False"
   ]
  },
  {
   "cell_type": "code",
   "execution_count": 48,
   "metadata": {},
   "outputs": [],
   "source": [
    "df = pd.read_csv('/Users/ahmadabdullahtariq/Downloads/energydata_complete.csv',index_col='date',infer_datetime_format=True)"
   ]
  },
  {
   "cell_type": "code",
   "execution_count": 49,
   "metadata": {},
   "outputs": [],
   "source": [
    "df = df.loc['2016-05-01':]\n",
    "df = df.round(2)"
   ]
  },
  {
   "cell_type": "code",
   "execution_count": 14,
   "metadata": {},
   "outputs": [
    {
     "output_type": "execute_result",
     "data": {
      "text/plain": [
       "                     Appliances  lights     T1   RH_1     T2  RH_2     T3  \\\n",
       "date                                                                        \n",
       "2016-05-01 00:00:00          50       0  21.20  38.20  18.39  41.4  23.20   \n",
       "2016-05-01 00:10:00          60       0  21.15  38.17  18.39  41.5  23.13   \n",
       "2016-05-01 00:20:00          50       0  21.13  38.09  18.32  41.5  23.20   \n",
       "\n",
       "                      RH_3     T4   RH_4  ...     T9   RH_9  T_out  \\\n",
       "date                                      ...                        \n",
       "2016-05-01 00:00:00  36.40  19.73  37.73  ...  19.17  38.20   4.30   \n",
       "2016-05-01 00:10:00  36.47  19.70  37.66  ...  19.13  38.29   4.28   \n",
       "2016-05-01 00:20:00  36.50  19.70  37.59  ...  19.13  38.36   4.27   \n",
       "\n",
       "                     Press_mm_hg  RH_out  Windspeed  Visibility  Tdewpoint  \\\n",
       "date                                                                         \n",
       "2016-05-01 00:00:00       763.70   86.00       2.00       40.00       2.20   \n",
       "2016-05-01 00:10:00       763.72   86.33       2.17       38.17       2.22   \n",
       "2016-05-01 00:20:00       763.73   86.67       2.33       36.33       2.23   \n",
       "\n",
       "                       rv1    rv2  \n",
       "date                               \n",
       "2016-05-01 00:00:00  15.31  15.31  \n",
       "2016-05-01 00:10:00  11.24  11.24  \n",
       "2016-05-01 00:20:00  21.81  21.81  \n",
       "\n",
       "[3 rows x 28 columns]"
      ],
      "text/html": "<div>\n<style scoped>\n    .dataframe tbody tr th:only-of-type {\n        vertical-align: middle;\n    }\n\n    .dataframe tbody tr th {\n        vertical-align: top;\n    }\n\n    .dataframe thead th {\n        text-align: right;\n    }\n</style>\n<table border=\"1\" class=\"dataframe\">\n  <thead>\n    <tr style=\"text-align: right;\">\n      <th></th>\n      <th>Appliances</th>\n      <th>lights</th>\n      <th>T1</th>\n      <th>RH_1</th>\n      <th>T2</th>\n      <th>RH_2</th>\n      <th>T3</th>\n      <th>RH_3</th>\n      <th>T4</th>\n      <th>RH_4</th>\n      <th>...</th>\n      <th>T9</th>\n      <th>RH_9</th>\n      <th>T_out</th>\n      <th>Press_mm_hg</th>\n      <th>RH_out</th>\n      <th>Windspeed</th>\n      <th>Visibility</th>\n      <th>Tdewpoint</th>\n      <th>rv1</th>\n      <th>rv2</th>\n    </tr>\n    <tr>\n      <th>date</th>\n      <th></th>\n      <th></th>\n      <th></th>\n      <th></th>\n      <th></th>\n      <th></th>\n      <th></th>\n      <th></th>\n      <th></th>\n      <th></th>\n      <th></th>\n      <th></th>\n      <th></th>\n      <th></th>\n      <th></th>\n      <th></th>\n      <th></th>\n      <th></th>\n      <th></th>\n      <th></th>\n      <th></th>\n    </tr>\n  </thead>\n  <tbody>\n    <tr>\n      <th>2016-05-01 00:00:00</th>\n      <td>50</td>\n      <td>0</td>\n      <td>21.20</td>\n      <td>38.20</td>\n      <td>18.39</td>\n      <td>41.4</td>\n      <td>23.20</td>\n      <td>36.40</td>\n      <td>19.73</td>\n      <td>37.73</td>\n      <td>...</td>\n      <td>19.17</td>\n      <td>38.20</td>\n      <td>4.30</td>\n      <td>763.70</td>\n      <td>86.00</td>\n      <td>2.00</td>\n      <td>40.00</td>\n      <td>2.20</td>\n      <td>15.31</td>\n      <td>15.31</td>\n    </tr>\n    <tr>\n      <th>2016-05-01 00:10:00</th>\n      <td>60</td>\n      <td>0</td>\n      <td>21.15</td>\n      <td>38.17</td>\n      <td>18.39</td>\n      <td>41.5</td>\n      <td>23.13</td>\n      <td>36.47</td>\n      <td>19.70</td>\n      <td>37.66</td>\n      <td>...</td>\n      <td>19.13</td>\n      <td>38.29</td>\n      <td>4.28</td>\n      <td>763.72</td>\n      <td>86.33</td>\n      <td>2.17</td>\n      <td>38.17</td>\n      <td>2.22</td>\n      <td>11.24</td>\n      <td>11.24</td>\n    </tr>\n    <tr>\n      <th>2016-05-01 00:20:00</th>\n      <td>50</td>\n      <td>0</td>\n      <td>21.13</td>\n      <td>38.09</td>\n      <td>18.32</td>\n      <td>41.5</td>\n      <td>23.20</td>\n      <td>36.50</td>\n      <td>19.70</td>\n      <td>37.59</td>\n      <td>...</td>\n      <td>19.13</td>\n      <td>38.36</td>\n      <td>4.27</td>\n      <td>763.73</td>\n      <td>86.67</td>\n      <td>2.33</td>\n      <td>36.33</td>\n      <td>2.23</td>\n      <td>21.81</td>\n      <td>21.81</td>\n    </tr>\n  </tbody>\n</table>\n<p>3 rows × 28 columns</p>\n</div>"
     },
     "metadata": {},
     "execution_count": 14
    }
   ],
   "source": [
    "df.head(3)"
   ]
  },
  {
   "cell_type": "code",
   "execution_count": 50,
   "metadata": {},
   "outputs": [],
   "source": [
    "# How many rows per day? We know its every 10 min\n",
    "# 24*60/10 =144\n",
    "\n",
    "test_days = 2\n",
    "test_ind = test_days*144\n",
    "\n",
    "train = df.iloc[:-test_ind]\n",
    "test = df.iloc[-test_ind:]"
   ]
  },
  {
   "cell_type": "code",
   "execution_count": 18,
   "metadata": {},
   "outputs": [],
   "source": [
    "from sklearn.preprocessing import MinMaxScaler"
   ]
  },
  {
   "cell_type": "code",
   "execution_count": 19,
   "metadata": {},
   "outputs": [],
   "source": [
    "scaler = MinMaxScaler()"
   ]
  },
  {
   "cell_type": "code",
   "execution_count": 21,
   "metadata": {},
   "outputs": [],
   "source": [
    "# IGNORE WARNING ITS JUST CONVERTING TO FLOATS\n",
    "# WE ONLY FIT TO TRAININ DATA, OTHERWISE WE ARE CHEATING ASSUMING INFO ABOUT TEST SET\n",
    "scaler.fit(train)\n",
    "scaled_train = scaler.transform(train)\n",
    "scaled_test = scaler.transform(test)"
   ]
  },
  {
   "cell_type": "code",
   "execution_count": 22,
   "metadata": {},
   "outputs": [],
   "source": [
    "from tensorflow.keras.preprocessing.sequence import TimeseriesGenerator"
   ]
  },
  {
   "cell_type": "code",
   "execution_count": 53,
   "metadata": {},
   "outputs": [
    {
     "output_type": "execute_result",
     "data": {
      "text/plain": [
       "array([[0.03896104, 0.        , 0.13798978, ..., 0.21301775, 0.30618371,\n",
       "        0.30618371],\n",
       "       [0.05194805, 0.        , 0.12947189, ..., 0.21420118, 0.22473484,\n",
       "        0.22473484],\n",
       "       [0.03896104, 0.        , 0.12606474, ..., 0.2147929 , 0.43626176,\n",
       "        0.43626176],\n",
       "       ...,\n",
       "       [0.18181818, 0.        , 0.70017036, ..., 0.50118343, 0.33340004,\n",
       "        0.33340004],\n",
       "       [0.09090909, 0.        , 0.70017036, ..., 0.51952663, 0.78747248,\n",
       "        0.78747248],\n",
       "       [0.1038961 , 0.        , 0.70017036, ..., 0.53846154, 0.77286372,\n",
       "        0.77286372]])"
      ]
     },
     "metadata": {},
     "execution_count": 53
    }
   ],
   "source": [
    "scaled_train"
   ]
  },
  {
   "cell_type": "code",
   "execution_count": 57,
   "metadata": {},
   "outputs": [
    {
     "output_type": "execute_result",
     "data": {
      "text/plain": [
       "array([[ 50.  ,   0.  ,  21.2 , ...,   2.2 ,  15.31,  15.31],\n",
       "       [ 60.  ,   0.  ,  21.15, ...,   2.22,  11.24,  11.24],\n",
       "       [ 50.  ,   0.  ,  21.13, ...,   2.23,  21.81,  21.81],\n",
       "       ...,\n",
       "       [160.  ,   0.  ,  24.5 , ...,   7.07,  16.67,  16.67],\n",
       "       [ 90.  ,   0.  ,  24.5 , ...,   7.38,  39.36,  39.36],\n",
       "       [100.  ,   0.  ,  24.5 , ...,   7.7 ,  38.63,  38.63]])"
      ]
     },
     "metadata": {},
     "execution_count": 57
    }
   ],
   "source": [
    "train.values"
   ]
  },
  {
   "cell_type": "code",
   "execution_count": 75,
   "metadata": {},
   "outputs": [],
   "source": [
    "# define generator\n",
    "length = 144 # Length of the output sequences (in number of timesteps)\n",
    "batch_size = 1 #Number of timeseries samples in each batch\n",
    "generator = TimeseriesGenerator(train.values, train.values, length=length, batch_size=89)"
   ]
  },
  {
   "cell_type": "code",
   "execution_count": 76,
   "metadata": {},
   "outputs": [],
   "source": [
    "X,y = generator[0]"
   ]
  },
  {
   "cell_type": "code",
   "execution_count": 77,
   "metadata": {},
   "outputs": [
    {
     "output_type": "execute_result",
     "data": {
      "text/plain": [
       "                     Appliances  lights     T1   RH_1     T2  RH_2     T3  \\\n",
       "date                                                                        \n",
       "2016-05-01 00:00:00          50       0  21.20  38.20  18.39  41.4  23.20   \n",
       "2016-05-01 00:10:00          60       0  21.15  38.17  18.39  41.5  23.13   \n",
       "2016-05-01 00:20:00          50       0  21.13  38.09  18.32  41.5  23.20   \n",
       "\n",
       "                      RH_3     T4   RH_4  ...     T9   RH_9  T_out  \\\n",
       "date                                      ...                        \n",
       "2016-05-01 00:00:00  36.40  19.73  37.73  ...  19.17  38.20   4.30   \n",
       "2016-05-01 00:10:00  36.47  19.70  37.66  ...  19.13  38.29   4.28   \n",
       "2016-05-01 00:20:00  36.50  19.70  37.59  ...  19.13  38.36   4.27   \n",
       "\n",
       "                     Press_mm_hg  RH_out  Windspeed  Visibility  Tdewpoint  \\\n",
       "date                                                                         \n",
       "2016-05-01 00:00:00       763.70   86.00       2.00       40.00       2.20   \n",
       "2016-05-01 00:10:00       763.72   86.33       2.17       38.17       2.22   \n",
       "2016-05-01 00:20:00       763.73   86.67       2.33       36.33       2.23   \n",
       "\n",
       "                       rv1    rv2  \n",
       "date                               \n",
       "2016-05-01 00:00:00  15.31  15.31  \n",
       "2016-05-01 00:10:00  11.24  11.24  \n",
       "2016-05-01 00:20:00  21.81  21.81  \n",
       "\n",
       "[3 rows x 28 columns]"
      ],
      "text/html": "<div>\n<style scoped>\n    .dataframe tbody tr th:only-of-type {\n        vertical-align: middle;\n    }\n\n    .dataframe tbody tr th {\n        vertical-align: top;\n    }\n\n    .dataframe thead th {\n        text-align: right;\n    }\n</style>\n<table border=\"1\" class=\"dataframe\">\n  <thead>\n    <tr style=\"text-align: right;\">\n      <th></th>\n      <th>Appliances</th>\n      <th>lights</th>\n      <th>T1</th>\n      <th>RH_1</th>\n      <th>T2</th>\n      <th>RH_2</th>\n      <th>T3</th>\n      <th>RH_3</th>\n      <th>T4</th>\n      <th>RH_4</th>\n      <th>...</th>\n      <th>T9</th>\n      <th>RH_9</th>\n      <th>T_out</th>\n      <th>Press_mm_hg</th>\n      <th>RH_out</th>\n      <th>Windspeed</th>\n      <th>Visibility</th>\n      <th>Tdewpoint</th>\n      <th>rv1</th>\n      <th>rv2</th>\n    </tr>\n    <tr>\n      <th>date</th>\n      <th></th>\n      <th></th>\n      <th></th>\n      <th></th>\n      <th></th>\n      <th></th>\n      <th></th>\n      <th></th>\n      <th></th>\n      <th></th>\n      <th></th>\n      <th></th>\n      <th></th>\n      <th></th>\n      <th></th>\n      <th></th>\n      <th></th>\n      <th></th>\n      <th></th>\n      <th></th>\n      <th></th>\n    </tr>\n  </thead>\n  <tbody>\n    <tr>\n      <th>2016-05-01 00:00:00</th>\n      <td>50</td>\n      <td>0</td>\n      <td>21.20</td>\n      <td>38.20</td>\n      <td>18.39</td>\n      <td>41.4</td>\n      <td>23.20</td>\n      <td>36.40</td>\n      <td>19.73</td>\n      <td>37.73</td>\n      <td>...</td>\n      <td>19.17</td>\n      <td>38.20</td>\n      <td>4.30</td>\n      <td>763.70</td>\n      <td>86.00</td>\n      <td>2.00</td>\n      <td>40.00</td>\n      <td>2.20</td>\n      <td>15.31</td>\n      <td>15.31</td>\n    </tr>\n    <tr>\n      <th>2016-05-01 00:10:00</th>\n      <td>60</td>\n      <td>0</td>\n      <td>21.15</td>\n      <td>38.17</td>\n      <td>18.39</td>\n      <td>41.5</td>\n      <td>23.13</td>\n      <td>36.47</td>\n      <td>19.70</td>\n      <td>37.66</td>\n      <td>...</td>\n      <td>19.13</td>\n      <td>38.29</td>\n      <td>4.28</td>\n      <td>763.72</td>\n      <td>86.33</td>\n      <td>2.17</td>\n      <td>38.17</td>\n      <td>2.22</td>\n      <td>11.24</td>\n      <td>11.24</td>\n    </tr>\n    <tr>\n      <th>2016-05-01 00:20:00</th>\n      <td>50</td>\n      <td>0</td>\n      <td>21.13</td>\n      <td>38.09</td>\n      <td>18.32</td>\n      <td>41.5</td>\n      <td>23.20</td>\n      <td>36.50</td>\n      <td>19.70</td>\n      <td>37.59</td>\n      <td>...</td>\n      <td>19.13</td>\n      <td>38.36</td>\n      <td>4.27</td>\n      <td>763.73</td>\n      <td>86.67</td>\n      <td>2.33</td>\n      <td>36.33</td>\n      <td>2.23</td>\n      <td>21.81</td>\n      <td>21.81</td>\n    </tr>\n  </tbody>\n</table>\n<p>3 rows × 28 columns</p>\n</div>"
     },
     "metadata": {},
     "execution_count": 77
    }
   ],
   "source": [
    "train.head(3)"
   ]
  },
  {
   "cell_type": "code",
   "execution_count": 78,
   "metadata": {},
   "outputs": [
    {
     "output_type": "execute_result",
     "data": {
      "text/plain": [
       "array([[50.  ,  0.  , 22.2 , ...,  0.9 , 22.88, 22.88],\n",
       "       [50.  ,  0.  , 22.13, ...,  0.92, 26.85, 26.85],\n",
       "       [60.  ,  0.  , 22.1 , ...,  0.93, 12.21, 12.21],\n",
       "       ...,\n",
       "       [80.  ,  0.  , 22.5 , ...,  0.37, 45.32, 45.32],\n",
       "       [80.  ,  0.  , 22.5 , ...,  0.25,  1.29,  1.29],\n",
       "       [70.  ,  0.  , 22.5 , ...,  0.13, 19.61, 19.61]])"
      ]
     },
     "metadata": {},
     "execution_count": 78
    }
   ],
   "source": [
    "y"
   ]
  },
  {
   "cell_type": "code",
   "execution_count": 79,
   "metadata": {},
   "outputs": [
    {
     "output_type": "execute_result",
     "data": {
      "text/plain": [
       "(89, 28)"
      ]
     },
     "metadata": {},
     "execution_count": 79
    }
   ],
   "source": [
    "y.shape"
   ]
  },
  {
   "cell_type": "code",
   "execution_count": 80,
   "metadata": {},
   "outputs": [
    {
     "output_type": "execute_result",
     "data": {
      "text/plain": [
       "(89, 144, 28)"
      ]
     },
     "metadata": {},
     "execution_count": 80
    }
   ],
   "source": [
    "X.shape"
   ]
  },
  {
   "cell_type": "code",
   "execution_count": 72,
   "metadata": {},
   "outputs": [
    {
     "output_type": "execute_result",
     "data": {
      "text/plain": [
       "array([[[ 50.  ,   0.  ,  21.2 , ...,   2.2 ,  15.31,  15.31]],\n",
       "\n",
       "       [[ 60.  ,   0.  ,  21.15, ...,   2.22,  11.24,  11.24]],\n",
       "\n",
       "       [[ 50.  ,   0.  ,  21.13, ...,   2.23,  21.81,  21.81]],\n",
       "\n",
       "       ...,\n",
       "\n",
       "       [[120.  ,   0.  ,  21.7 , ...,   1.53,   8.07,   8.07]],\n",
       "\n",
       "       [[120.  ,   0.  ,  21.79, ...,   1.15,  16.62,  16.62]],\n",
       "\n",
       "       [[110.  ,   0.  ,  21.79, ...,   0.77,  47.09,  47.09]]])"
      ]
     },
     "metadata": {},
     "execution_count": 72
    }
   ],
   "source": [
    "X"
   ]
  },
  {
   "cell_type": "code",
   "execution_count": 24,
   "metadata": {},
   "outputs": [
    {
     "output_type": "execute_result",
     "data": {
      "text/plain": [
       "3565"
      ]
     },
     "metadata": {},
     "execution_count": 24
    }
   ],
   "source": [
    "len(scaled_train)"
   ]
  },
  {
   "cell_type": "code",
   "execution_count": 25,
   "metadata": {},
   "outputs": [
    {
     "output_type": "execute_result",
     "data": {
      "text/plain": [
       "3421"
      ]
     },
     "metadata": {},
     "execution_count": 25
    }
   ],
   "source": [
    "len(generator) "
   ]
  },
  {
   "cell_type": "code",
   "execution_count": 26,
   "metadata": {},
   "outputs": [],
   "source": [
    "# What does the first batch look like?\n",
    "X,y = generator[0]"
   ]
  },
  {
   "cell_type": "code",
   "execution_count": 29,
   "metadata": {},
   "outputs": [
    {
     "output_type": "stream",
     "name": "stdout",
     "text": [
      "Given the Array: \n[0.03896104 0.         0.13798978 ... 0.14319527 0.75185111 0.75185111]\nPredict this y: \n [[0.03896104 0.         0.30834753 0.29439421 0.16038492 0.49182278\n  0.0140056  0.36627907 0.24142857 0.24364791 0.12650602 0.36276002\n  0.12       0.28205572 0.06169297 0.15759185 0.34582624 0.39585974\n  0.09259259 0.39649608 0.18852459 0.96052632 0.59210526 0.1\n  0.58333333 0.13609467 0.4576746  0.4576746 ]]\n"
     ]
    }
   ],
   "source": [
    "print(f'Given the Array: \\n{X.flatten()}')\n",
    "print(f'Predict this y: \\n {y}')"
   ]
  },
  {
   "cell_type": "code",
   "execution_count": 30,
   "metadata": {},
   "outputs": [],
   "source": [
    "from tensorflow.keras.models import Sequential\n",
    "from tensorflow.keras.layers import Dense,LSTM"
   ]
  },
  {
   "cell_type": "code",
   "execution_count": 31,
   "metadata": {},
   "outputs": [
    {
     "output_type": "execute_result",
     "data": {
      "text/plain": [
       "(3565, 28)"
      ]
     },
     "metadata": {},
     "execution_count": 31
    }
   ],
   "source": [
    "scaled_train.shape"
   ]
  },
  {
   "cell_type": "code",
   "execution_count": 32,
   "metadata": {},
   "outputs": [],
   "source": [
    "# define model\n",
    "model = Sequential()\n",
    "\n",
    "# Simple RNN layer\n",
    "model.add(LSTM(100,input_shape=(length,scaled_train.shape[1])))\n",
    "\n",
    "# Final Prediction (one neuron per feature)\n",
    "model.add(Dense(scaled_train.shape[1]))\n",
    "\n",
    "model.compile(optimizer='adam', loss='mse')"
   ]
  },
  {
   "cell_type": "code",
   "execution_count": 76,
   "metadata": {},
   "outputs": [],
   "source": [
    "from tensorflow.keras.models import Sequential\n",
    "from tensorflow.keras.layers import Dense,LSTM"
   ]
  },
  {
   "cell_type": "code",
   "execution_count": 80,
   "metadata": {},
   "outputs": [],
   "source": [
    "# define model\n",
    "model = Sequential()\n",
    "\n",
    "# Simple RNN layer\n",
    "model.add(LSTM(100,input_shape=(train_X.shape[1],train_X.shape[2])))\n",
    "\n",
    "# Final Prediction (one neuron per feature)\n",
    "model.add(Dense(train_X.shape[1]))\n",
    "\n",
    "model.compile(optimizer='adam', loss='mse')"
   ]
  },
  {
   "cell_type": "code",
   "execution_count": 33,
   "metadata": {},
   "outputs": [
    {
     "output_type": "stream",
     "name": "stdout",
     "text": [
      "Model: \"sequential\"\n_________________________________________________________________\nLayer (type)                 Output Shape              Param #   \n=================================================================\nlstm (LSTM)                  (None, 100)               51600     \n_________________________________________________________________\ndense (Dense)                (None, 28)                2828      \n=================================================================\nTotal params: 54,428\nTrainable params: 54,428\nNon-trainable params: 0\n_________________________________________________________________\n"
     ]
    }
   ],
   "source": [
    "model.summary()"
   ]
  },
  {
   "cell_type": "code",
   "execution_count": 34,
   "metadata": {},
   "outputs": [],
   "source": [
    "from tensorflow.keras.callbacks import EarlyStopping\n",
    "early_stop = EarlyStopping(monitor='val_loss',patience=1)\n",
    "validation_generator = TimeseriesGenerator(scaled_test,scaled_test, \n",
    "                                           length=length, batch_size=batch_size)"
   ]
  },
  {
   "cell_type": "code",
   "execution_count": 35,
   "metadata": {},
   "outputs": [
    {
     "output_type": "stream",
     "name": "stdout",
     "text": [
      "WARNING:tensorflow:From <ipython-input-35-d9cc3a10b77d>:3: Model.fit_generator (from tensorflow.python.keras.engine.training) is deprecated and will be removed in a future version.\n",
      "Instructions for updating:\n",
      "Please use Model.fit, which supports generators.\n",
      "Epoch 1/10\n",
      "3421/3421 [==============================] - 117s 34ms/step - loss: 0.0114 - val_loss: 0.0096\n",
      "Epoch 2/10\n",
      "3421/3421 [==============================] - 119s 35ms/step - loss: 0.0079 - val_loss: 0.0100\n"
     ]
    },
    {
     "output_type": "execute_result",
     "data": {
      "text/plain": [
       "<tensorflow.python.keras.callbacks.History at 0x1480710f0>"
      ]
     },
     "metadata": {},
     "execution_count": 35
    }
   ],
   "source": [
    "model.fit_generator(generator,epochs=10,\n",
    "                    validation_data=validation_generator,\n",
    "                   callbacks=[early_stop])"
   ]
  },
  {
   "cell_type": "code",
   "execution_count": 36,
   "metadata": {},
   "outputs": [
    {
     "output_type": "execute_result",
     "data": {
      "text/plain": [
       "dict_keys(['loss', 'val_loss'])"
      ]
     },
     "metadata": {},
     "execution_count": 36
    }
   ],
   "source": [
    "model.history.history.keys()"
   ]
  },
  {
   "cell_type": "code",
   "execution_count": 37,
   "metadata": {},
   "outputs": [
    {
     "output_type": "execute_result",
     "data": {
      "text/plain": [
       "<AxesSubplot:>"
      ]
     },
     "metadata": {},
     "execution_count": 37
    },
    {
     "output_type": "display_data",
     "data": {
      "text/plain": "<Figure size 1440x504 with 1 Axes>",
      "image/svg+xml": "<?xml version=\"1.0\" encoding=\"utf-8\" standalone=\"no\"?>\n<!DOCTYPE svg PUBLIC \"-//W3C//DTD SVG 1.1//EN\"\n  \"http://www.w3.org/Graphics/SVG/1.1/DTD/svg11.dtd\">\n<!-- Created with matplotlib (https://matplotlib.org/) -->\n<svg height=\"411.598125pt\" version=\"1.1\" viewBox=\"0 0 1172.390625 411.598125\" width=\"1172.390625pt\" xmlns=\"http://www.w3.org/2000/svg\" xmlns:xlink=\"http://www.w3.org/1999/xlink\">\n <metadata>\n  <rdf:RDF xmlns:cc=\"http://creativecommons.org/ns#\" xmlns:dc=\"http://purl.org/dc/elements/1.1/\" xmlns:rdf=\"http://www.w3.org/1999/02/22-rdf-syntax-ns#\">\n   <cc:Work>\n    <dc:type rdf:resource=\"http://purl.org/dc/dcmitype/StillImage\"/>\n    <dc:date>2020-11-27T14:26:30.616983</dc:date>\n    <dc:format>image/svg+xml</dc:format>\n    <dc:creator>\n     <cc:Agent>\n      <dc:title>Matplotlib v3.3.2, https://matplotlib.org/</dc:title>\n     </cc:Agent>\n    </dc:creator>\n   </cc:Work>\n  </rdf:RDF>\n </metadata>\n <defs>\n  <style type=\"text/css\">*{stroke-linecap:butt;stroke-linejoin:round;}</style>\n </defs>\n <g id=\"figure_1\">\n  <g id=\"patch_1\">\n   <path d=\"M 0 411.598125 \nL 1172.390625 411.598125 \nL 1172.390625 0 \nL 0 0 \nz\n\" style=\"fill:none;\"/>\n  </g>\n  <g id=\"axes_1\">\n   <g id=\"patch_2\">\n    <path d=\"M 49.190625 387.72 \nL 1165.190625 387.72 \nL 1165.190625 7.2 \nL 49.190625 7.2 \nz\n\" style=\"fill:#ffffff;\"/>\n   </g>\n   <g id=\"matplotlib.axis_1\">\n    <g id=\"xtick_1\">\n     <g id=\"line2d_1\">\n      <defs>\n       <path d=\"M 0 0 \nL 0 3.5 \n\" id=\"mcdf9a9aff7\" style=\"stroke:#000000;stroke-width:0.8;\"/>\n      </defs>\n      <g>\n       <use style=\"stroke:#000000;stroke-width:0.8;\" x=\"99.917898\" xlink:href=\"#mcdf9a9aff7\" y=\"387.72\"/>\n      </g>\n     </g>\n     <g id=\"text_1\">\n      <!-- 0.0 -->\n      <g transform=\"translate(91.966335 402.318437)scale(0.1 -0.1)\">\n       <defs>\n        <path d=\"M 31.78125 66.40625 \nQ 24.171875 66.40625 20.328125 58.90625 \nQ 16.5 51.421875 16.5 36.375 \nQ 16.5 21.390625 20.328125 13.890625 \nQ 24.171875 6.390625 31.78125 6.390625 \nQ 39.453125 6.390625 43.28125 13.890625 \nQ 47.125 21.390625 47.125 36.375 \nQ 47.125 51.421875 43.28125 58.90625 \nQ 39.453125 66.40625 31.78125 66.40625 \nz\nM 31.78125 74.21875 \nQ 44.046875 74.21875 50.515625 64.515625 \nQ 56.984375 54.828125 56.984375 36.375 \nQ 56.984375 17.96875 50.515625 8.265625 \nQ 44.046875 -1.421875 31.78125 -1.421875 \nQ 19.53125 -1.421875 13.0625 8.265625 \nQ 6.59375 17.96875 6.59375 36.375 \nQ 6.59375 54.828125 13.0625 64.515625 \nQ 19.53125 74.21875 31.78125 74.21875 \nz\n\" id=\"DejaVuSans-48\"/>\n        <path d=\"M 10.6875 12.40625 \nL 21 12.40625 \nL 21 0 \nL 10.6875 0 \nz\n\" id=\"DejaVuSans-46\"/>\n       </defs>\n       <use xlink:href=\"#DejaVuSans-48\"/>\n       <use x=\"63.623047\" xlink:href=\"#DejaVuSans-46\"/>\n       <use x=\"95.410156\" xlink:href=\"#DejaVuSans-48\"/>\n      </g>\n     </g>\n    </g>\n    <g id=\"xtick_2\">\n     <g id=\"line2d_2\">\n      <g>\n       <use style=\"stroke:#000000;stroke-width:0.8;\" x=\"302.826989\" xlink:href=\"#mcdf9a9aff7\" y=\"387.72\"/>\n      </g>\n     </g>\n     <g id=\"text_2\">\n      <!-- 0.2 -->\n      <g transform=\"translate(294.875426 402.318437)scale(0.1 -0.1)\">\n       <defs>\n        <path d=\"M 19.1875 8.296875 \nL 53.609375 8.296875 \nL 53.609375 0 \nL 7.328125 0 \nL 7.328125 8.296875 \nQ 12.9375 14.109375 22.625 23.890625 \nQ 32.328125 33.6875 34.8125 36.53125 \nQ 39.546875 41.84375 41.421875 45.53125 \nQ 43.3125 49.21875 43.3125 52.78125 \nQ 43.3125 58.59375 39.234375 62.25 \nQ 35.15625 65.921875 28.609375 65.921875 \nQ 23.96875 65.921875 18.8125 64.3125 \nQ 13.671875 62.703125 7.8125 59.421875 \nL 7.8125 69.390625 \nQ 13.765625 71.78125 18.9375 73 \nQ 24.125 74.21875 28.421875 74.21875 \nQ 39.75 74.21875 46.484375 68.546875 \nQ 53.21875 62.890625 53.21875 53.421875 \nQ 53.21875 48.921875 51.53125 44.890625 \nQ 49.859375 40.875 45.40625 35.40625 \nQ 44.1875 33.984375 37.640625 27.21875 \nQ 31.109375 20.453125 19.1875 8.296875 \nz\n\" id=\"DejaVuSans-50\"/>\n       </defs>\n       <use xlink:href=\"#DejaVuSans-48\"/>\n       <use x=\"63.623047\" xlink:href=\"#DejaVuSans-46\"/>\n       <use x=\"95.410156\" xlink:href=\"#DejaVuSans-50\"/>\n      </g>\n     </g>\n    </g>\n    <g id=\"xtick_3\">\n     <g id=\"line2d_3\">\n      <g>\n       <use style=\"stroke:#000000;stroke-width:0.8;\" x=\"505.73608\" xlink:href=\"#mcdf9a9aff7\" y=\"387.72\"/>\n      </g>\n     </g>\n     <g id=\"text_3\">\n      <!-- 0.4 -->\n      <g transform=\"translate(497.784517 402.318437)scale(0.1 -0.1)\">\n       <defs>\n        <path d=\"M 37.796875 64.3125 \nL 12.890625 25.390625 \nL 37.796875 25.390625 \nz\nM 35.203125 72.90625 \nL 47.609375 72.90625 \nL 47.609375 25.390625 \nL 58.015625 25.390625 \nL 58.015625 17.1875 \nL 47.609375 17.1875 \nL 47.609375 0 \nL 37.796875 0 \nL 37.796875 17.1875 \nL 4.890625 17.1875 \nL 4.890625 26.703125 \nz\n\" id=\"DejaVuSans-52\"/>\n       </defs>\n       <use xlink:href=\"#DejaVuSans-48\"/>\n       <use x=\"63.623047\" xlink:href=\"#DejaVuSans-46\"/>\n       <use x=\"95.410156\" xlink:href=\"#DejaVuSans-52\"/>\n      </g>\n     </g>\n    </g>\n    <g id=\"xtick_4\">\n     <g id=\"line2d_4\">\n      <g>\n       <use style=\"stroke:#000000;stroke-width:0.8;\" x=\"708.64517\" xlink:href=\"#mcdf9a9aff7\" y=\"387.72\"/>\n      </g>\n     </g>\n     <g id=\"text_4\">\n      <!-- 0.6 -->\n      <g transform=\"translate(700.693608 402.318437)scale(0.1 -0.1)\">\n       <defs>\n        <path d=\"M 33.015625 40.375 \nQ 26.375 40.375 22.484375 35.828125 \nQ 18.609375 31.296875 18.609375 23.390625 \nQ 18.609375 15.53125 22.484375 10.953125 \nQ 26.375 6.390625 33.015625 6.390625 \nQ 39.65625 6.390625 43.53125 10.953125 \nQ 47.40625 15.53125 47.40625 23.390625 \nQ 47.40625 31.296875 43.53125 35.828125 \nQ 39.65625 40.375 33.015625 40.375 \nz\nM 52.59375 71.296875 \nL 52.59375 62.3125 \nQ 48.875 64.0625 45.09375 64.984375 \nQ 41.3125 65.921875 37.59375 65.921875 \nQ 27.828125 65.921875 22.671875 59.328125 \nQ 17.53125 52.734375 16.796875 39.40625 \nQ 19.671875 43.65625 24.015625 45.921875 \nQ 28.375 48.1875 33.59375 48.1875 \nQ 44.578125 48.1875 50.953125 41.515625 \nQ 57.328125 34.859375 57.328125 23.390625 \nQ 57.328125 12.15625 50.6875 5.359375 \nQ 44.046875 -1.421875 33.015625 -1.421875 \nQ 20.359375 -1.421875 13.671875 8.265625 \nQ 6.984375 17.96875 6.984375 36.375 \nQ 6.984375 53.65625 15.1875 63.9375 \nQ 23.390625 74.21875 37.203125 74.21875 \nQ 40.921875 74.21875 44.703125 73.484375 \nQ 48.484375 72.75 52.59375 71.296875 \nz\n\" id=\"DejaVuSans-54\"/>\n       </defs>\n       <use xlink:href=\"#DejaVuSans-48\"/>\n       <use x=\"63.623047\" xlink:href=\"#DejaVuSans-46\"/>\n       <use x=\"95.410156\" xlink:href=\"#DejaVuSans-54\"/>\n      </g>\n     </g>\n    </g>\n    <g id=\"xtick_5\">\n     <g id=\"line2d_5\">\n      <g>\n       <use style=\"stroke:#000000;stroke-width:0.8;\" x=\"911.554261\" xlink:href=\"#mcdf9a9aff7\" y=\"387.72\"/>\n      </g>\n     </g>\n     <g id=\"text_5\">\n      <!-- 0.8 -->\n      <g transform=\"translate(903.602699 402.318437)scale(0.1 -0.1)\">\n       <defs>\n        <path d=\"M 31.78125 34.625 \nQ 24.75 34.625 20.71875 30.859375 \nQ 16.703125 27.09375 16.703125 20.515625 \nQ 16.703125 13.921875 20.71875 10.15625 \nQ 24.75 6.390625 31.78125 6.390625 \nQ 38.8125 6.390625 42.859375 10.171875 \nQ 46.921875 13.96875 46.921875 20.515625 \nQ 46.921875 27.09375 42.890625 30.859375 \nQ 38.875 34.625 31.78125 34.625 \nz\nM 21.921875 38.8125 \nQ 15.578125 40.375 12.03125 44.71875 \nQ 8.5 49.078125 8.5 55.328125 \nQ 8.5 64.0625 14.71875 69.140625 \nQ 20.953125 74.21875 31.78125 74.21875 \nQ 42.671875 74.21875 48.875 69.140625 \nQ 55.078125 64.0625 55.078125 55.328125 \nQ 55.078125 49.078125 51.53125 44.71875 \nQ 48 40.375 41.703125 38.8125 \nQ 48.828125 37.15625 52.796875 32.3125 \nQ 56.78125 27.484375 56.78125 20.515625 \nQ 56.78125 9.90625 50.3125 4.234375 \nQ 43.84375 -1.421875 31.78125 -1.421875 \nQ 19.734375 -1.421875 13.25 4.234375 \nQ 6.78125 9.90625 6.78125 20.515625 \nQ 6.78125 27.484375 10.78125 32.3125 \nQ 14.796875 37.15625 21.921875 38.8125 \nz\nM 18.3125 54.390625 \nQ 18.3125 48.734375 21.84375 45.5625 \nQ 25.390625 42.390625 31.78125 42.390625 \nQ 38.140625 42.390625 41.71875 45.5625 \nQ 45.3125 48.734375 45.3125 54.390625 \nQ 45.3125 60.0625 41.71875 63.234375 \nQ 38.140625 66.40625 31.78125 66.40625 \nQ 25.390625 66.40625 21.84375 63.234375 \nQ 18.3125 60.0625 18.3125 54.390625 \nz\n\" id=\"DejaVuSans-56\"/>\n       </defs>\n       <use xlink:href=\"#DejaVuSans-48\"/>\n       <use x=\"63.623047\" xlink:href=\"#DejaVuSans-46\"/>\n       <use x=\"95.410156\" xlink:href=\"#DejaVuSans-56\"/>\n      </g>\n     </g>\n    </g>\n    <g id=\"xtick_6\">\n     <g id=\"line2d_6\">\n      <g>\n       <use style=\"stroke:#000000;stroke-width:0.8;\" x=\"1114.463352\" xlink:href=\"#mcdf9a9aff7\" y=\"387.72\"/>\n      </g>\n     </g>\n     <g id=\"text_6\">\n      <!-- 1.0 -->\n      <g transform=\"translate(1106.51179 402.318437)scale(0.1 -0.1)\">\n       <defs>\n        <path d=\"M 12.40625 8.296875 \nL 28.515625 8.296875 \nL 28.515625 63.921875 \nL 10.984375 60.40625 \nL 10.984375 69.390625 \nL 28.421875 72.90625 \nL 38.28125 72.90625 \nL 38.28125 8.296875 \nL 54.390625 8.296875 \nL 54.390625 0 \nL 12.40625 0 \nz\n\" id=\"DejaVuSans-49\"/>\n       </defs>\n       <use xlink:href=\"#DejaVuSans-49\"/>\n       <use x=\"63.623047\" xlink:href=\"#DejaVuSans-46\"/>\n       <use x=\"95.410156\" xlink:href=\"#DejaVuSans-48\"/>\n      </g>\n     </g>\n    </g>\n   </g>\n   <g id=\"matplotlib.axis_2\">\n    <g id=\"ytick_1\">\n     <g id=\"line2d_7\">\n      <defs>\n       <path d=\"M 0 0 \nL -3.5 0 \n\" id=\"mc56dcd1733\" style=\"stroke:#000000;stroke-width:0.8;\"/>\n      </defs>\n      <g>\n       <use style=\"stroke:#000000;stroke-width:0.8;\" x=\"49.190625\" xlink:href=\"#mc56dcd1733\" y=\"362.119562\"/>\n      </g>\n     </g>\n     <g id=\"text_7\">\n      <!-- 0.0080 -->\n      <g transform=\"translate(7.2 365.918781)scale(0.1 -0.1)\">\n       <use xlink:href=\"#DejaVuSans-48\"/>\n       <use x=\"63.623047\" xlink:href=\"#DejaVuSans-46\"/>\n       <use x=\"95.410156\" xlink:href=\"#DejaVuSans-48\"/>\n       <use x=\"159.033203\" xlink:href=\"#DejaVuSans-48\"/>\n       <use x=\"222.65625\" xlink:href=\"#DejaVuSans-56\"/>\n       <use x=\"286.279297\" xlink:href=\"#DejaVuSans-48\"/>\n      </g>\n     </g>\n    </g>\n    <g id=\"ytick_2\">\n     <g id=\"line2d_8\">\n      <g>\n       <use style=\"stroke:#000000;stroke-width:0.8;\" x=\"49.190625\" xlink:href=\"#mc56dcd1733\" y=\"312.601763\"/>\n      </g>\n     </g>\n     <g id=\"text_8\">\n      <!-- 0.0085 -->\n      <g transform=\"translate(7.2 316.400981)scale(0.1 -0.1)\">\n       <defs>\n        <path d=\"M 10.796875 72.90625 \nL 49.515625 72.90625 \nL 49.515625 64.59375 \nL 19.828125 64.59375 \nL 19.828125 46.734375 \nQ 21.96875 47.46875 24.109375 47.828125 \nQ 26.265625 48.1875 28.421875 48.1875 \nQ 40.625 48.1875 47.75 41.5 \nQ 54.890625 34.8125 54.890625 23.390625 \nQ 54.890625 11.625 47.5625 5.09375 \nQ 40.234375 -1.421875 26.90625 -1.421875 \nQ 22.3125 -1.421875 17.546875 -0.640625 \nQ 12.796875 0.140625 7.71875 1.703125 \nL 7.71875 11.625 \nQ 12.109375 9.234375 16.796875 8.0625 \nQ 21.484375 6.890625 26.703125 6.890625 \nQ 35.15625 6.890625 40.078125 11.328125 \nQ 45.015625 15.765625 45.015625 23.390625 \nQ 45.015625 31 40.078125 35.4375 \nQ 35.15625 39.890625 26.703125 39.890625 \nQ 22.75 39.890625 18.8125 39.015625 \nQ 14.890625 38.140625 10.796875 36.28125 \nz\n\" id=\"DejaVuSans-53\"/>\n       </defs>\n       <use xlink:href=\"#DejaVuSans-48\"/>\n       <use x=\"63.623047\" xlink:href=\"#DejaVuSans-46\"/>\n       <use x=\"95.410156\" xlink:href=\"#DejaVuSans-48\"/>\n       <use x=\"159.033203\" xlink:href=\"#DejaVuSans-48\"/>\n       <use x=\"222.65625\" xlink:href=\"#DejaVuSans-56\"/>\n       <use x=\"286.279297\" xlink:href=\"#DejaVuSans-53\"/>\n      </g>\n     </g>\n    </g>\n    <g id=\"ytick_3\">\n     <g id=\"line2d_9\">\n      <g>\n       <use style=\"stroke:#000000;stroke-width:0.8;\" x=\"49.190625\" xlink:href=\"#mc56dcd1733\" y=\"263.083963\"/>\n      </g>\n     </g>\n     <g id=\"text_9\">\n      <!-- 0.0090 -->\n      <g transform=\"translate(7.2 266.883182)scale(0.1 -0.1)\">\n       <defs>\n        <path d=\"M 10.984375 1.515625 \nL 10.984375 10.5 \nQ 14.703125 8.734375 18.5 7.8125 \nQ 22.3125 6.890625 25.984375 6.890625 \nQ 35.75 6.890625 40.890625 13.453125 \nQ 46.046875 20.015625 46.78125 33.40625 \nQ 43.953125 29.203125 39.59375 26.953125 \nQ 35.25 24.703125 29.984375 24.703125 \nQ 19.046875 24.703125 12.671875 31.3125 \nQ 6.296875 37.9375 6.296875 49.421875 \nQ 6.296875 60.640625 12.9375 67.421875 \nQ 19.578125 74.21875 30.609375 74.21875 \nQ 43.265625 74.21875 49.921875 64.515625 \nQ 56.59375 54.828125 56.59375 36.375 \nQ 56.59375 19.140625 48.40625 8.859375 \nQ 40.234375 -1.421875 26.421875 -1.421875 \nQ 22.703125 -1.421875 18.890625 -0.6875 \nQ 15.09375 0.046875 10.984375 1.515625 \nz\nM 30.609375 32.421875 \nQ 37.25 32.421875 41.125 36.953125 \nQ 45.015625 41.5 45.015625 49.421875 \nQ 45.015625 57.28125 41.125 61.84375 \nQ 37.25 66.40625 30.609375 66.40625 \nQ 23.96875 66.40625 20.09375 61.84375 \nQ 16.21875 57.28125 16.21875 49.421875 \nQ 16.21875 41.5 20.09375 36.953125 \nQ 23.96875 32.421875 30.609375 32.421875 \nz\n\" id=\"DejaVuSans-57\"/>\n       </defs>\n       <use xlink:href=\"#DejaVuSans-48\"/>\n       <use x=\"63.623047\" xlink:href=\"#DejaVuSans-46\"/>\n       <use x=\"95.410156\" xlink:href=\"#DejaVuSans-48\"/>\n       <use x=\"159.033203\" xlink:href=\"#DejaVuSans-48\"/>\n       <use x=\"222.65625\" xlink:href=\"#DejaVuSans-57\"/>\n       <use x=\"286.279297\" xlink:href=\"#DejaVuSans-48\"/>\n      </g>\n     </g>\n    </g>\n    <g id=\"ytick_4\">\n     <g id=\"line2d_10\">\n      <g>\n       <use style=\"stroke:#000000;stroke-width:0.8;\" x=\"49.190625\" xlink:href=\"#mc56dcd1733\" y=\"213.566163\"/>\n      </g>\n     </g>\n     <g id=\"text_10\">\n      <!-- 0.0095 -->\n      <g transform=\"translate(7.2 217.365382)scale(0.1 -0.1)\">\n       <use xlink:href=\"#DejaVuSans-48\"/>\n       <use x=\"63.623047\" xlink:href=\"#DejaVuSans-46\"/>\n       <use x=\"95.410156\" xlink:href=\"#DejaVuSans-48\"/>\n       <use x=\"159.033203\" xlink:href=\"#DejaVuSans-48\"/>\n       <use x=\"222.65625\" xlink:href=\"#DejaVuSans-57\"/>\n       <use x=\"286.279297\" xlink:href=\"#DejaVuSans-53\"/>\n      </g>\n     </g>\n    </g>\n    <g id=\"ytick_5\">\n     <g id=\"line2d_11\">\n      <g>\n       <use style=\"stroke:#000000;stroke-width:0.8;\" x=\"49.190625\" xlink:href=\"#mc56dcd1733\" y=\"164.048363\"/>\n      </g>\n     </g>\n     <g id=\"text_11\">\n      <!-- 0.0100 -->\n      <g transform=\"translate(7.2 167.847582)scale(0.1 -0.1)\">\n       <use xlink:href=\"#DejaVuSans-48\"/>\n       <use x=\"63.623047\" xlink:href=\"#DejaVuSans-46\"/>\n       <use x=\"95.410156\" xlink:href=\"#DejaVuSans-48\"/>\n       <use x=\"159.033203\" xlink:href=\"#DejaVuSans-49\"/>\n       <use x=\"222.65625\" xlink:href=\"#DejaVuSans-48\"/>\n       <use x=\"286.279297\" xlink:href=\"#DejaVuSans-48\"/>\n      </g>\n     </g>\n    </g>\n    <g id=\"ytick_6\">\n     <g id=\"line2d_12\">\n      <g>\n       <use style=\"stroke:#000000;stroke-width:0.8;\" x=\"49.190625\" xlink:href=\"#mc56dcd1733\" y=\"114.530564\"/>\n      </g>\n     </g>\n     <g id=\"text_12\">\n      <!-- 0.0105 -->\n      <g transform=\"translate(7.2 118.329783)scale(0.1 -0.1)\">\n       <use xlink:href=\"#DejaVuSans-48\"/>\n       <use x=\"63.623047\" xlink:href=\"#DejaVuSans-46\"/>\n       <use x=\"95.410156\" xlink:href=\"#DejaVuSans-48\"/>\n       <use x=\"159.033203\" xlink:href=\"#DejaVuSans-49\"/>\n       <use x=\"222.65625\" xlink:href=\"#DejaVuSans-48\"/>\n       <use x=\"286.279297\" xlink:href=\"#DejaVuSans-53\"/>\n      </g>\n     </g>\n    </g>\n    <g id=\"ytick_7\">\n     <g id=\"line2d_13\">\n      <g>\n       <use style=\"stroke:#000000;stroke-width:0.8;\" x=\"49.190625\" xlink:href=\"#mc56dcd1733\" y=\"65.012764\"/>\n      </g>\n     </g>\n     <g id=\"text_13\">\n      <!-- 0.0110 -->\n      <g transform=\"translate(7.2 68.811983)scale(0.1 -0.1)\">\n       <use xlink:href=\"#DejaVuSans-48\"/>\n       <use x=\"63.623047\" xlink:href=\"#DejaVuSans-46\"/>\n       <use x=\"95.410156\" xlink:href=\"#DejaVuSans-48\"/>\n       <use x=\"159.033203\" xlink:href=\"#DejaVuSans-49\"/>\n       <use x=\"222.65625\" xlink:href=\"#DejaVuSans-49\"/>\n       <use x=\"286.279297\" xlink:href=\"#DejaVuSans-48\"/>\n      </g>\n     </g>\n    </g>\n    <g id=\"ytick_8\">\n     <g id=\"line2d_14\">\n      <g>\n       <use style=\"stroke:#000000;stroke-width:0.8;\" x=\"49.190625\" xlink:href=\"#mc56dcd1733\" y=\"15.494964\"/>\n      </g>\n     </g>\n     <g id=\"text_14\">\n      <!-- 0.0115 -->\n      <g transform=\"translate(7.2 19.294183)scale(0.1 -0.1)\">\n       <use xlink:href=\"#DejaVuSans-48\"/>\n       <use x=\"63.623047\" xlink:href=\"#DejaVuSans-46\"/>\n       <use x=\"95.410156\" xlink:href=\"#DejaVuSans-48\"/>\n       <use x=\"159.033203\" xlink:href=\"#DejaVuSans-49\"/>\n       <use x=\"222.65625\" xlink:href=\"#DejaVuSans-49\"/>\n       <use x=\"286.279297\" xlink:href=\"#DejaVuSans-53\"/>\n      </g>\n     </g>\n    </g>\n   </g>\n   <g id=\"line2d_15\">\n    <path clip-path=\"url(#p76bbeef850)\" d=\"M 99.917898 24.496364 \nL 1114.463352 370.423636 \n\" style=\"fill:none;stroke:#1f77b4;stroke-linecap:square;stroke-width:1.5;\"/>\n   </g>\n   <g id=\"line2d_16\">\n    <path clip-path=\"url(#p76bbeef850)\" d=\"M 99.917898 206.967767 \nL 1114.463352 162.254986 \n\" style=\"fill:none;stroke:#ff7f0e;stroke-linecap:square;stroke-width:1.5;\"/>\n   </g>\n   <g id=\"patch_3\">\n    <path d=\"M 49.190625 387.72 \nL 49.190625 7.2 \n\" style=\"fill:none;stroke:#000000;stroke-linecap:square;stroke-linejoin:miter;stroke-width:0.8;\"/>\n   </g>\n   <g id=\"patch_4\">\n    <path d=\"M 1165.190625 387.72 \nL 1165.190625 7.2 \n\" style=\"fill:none;stroke:#000000;stroke-linecap:square;stroke-linejoin:miter;stroke-width:0.8;\"/>\n   </g>\n   <g id=\"patch_5\">\n    <path d=\"M 49.190625 387.72 \nL 1165.190625 387.72 \n\" style=\"fill:none;stroke:#000000;stroke-linecap:square;stroke-linejoin:miter;stroke-width:0.8;\"/>\n   </g>\n   <g id=\"patch_6\">\n    <path d=\"M 49.190625 7.2 \nL 1165.190625 7.2 \n\" style=\"fill:none;stroke:#000000;stroke-linecap:square;stroke-linejoin:miter;stroke-width:0.8;\"/>\n   </g>\n   <g id=\"legend_1\">\n    <g id=\"patch_7\">\n     <path d=\"M 1087.05 44.834375 \nL 1158.190625 44.834375 \nQ 1160.190625 44.834375 1160.190625 42.834375 \nL 1160.190625 14.2 \nQ 1160.190625 12.2 1158.190625 12.2 \nL 1087.05 12.2 \nQ 1085.05 12.2 1085.05 14.2 \nL 1085.05 42.834375 \nQ 1085.05 44.834375 1087.05 44.834375 \nz\n\" style=\"fill:#ffffff;opacity:0.8;stroke:#cccccc;stroke-linejoin:miter;\"/>\n    </g>\n    <g id=\"line2d_17\">\n     <path d=\"M 1089.05 20.298437 \nL 1109.05 20.298437 \n\" style=\"fill:none;stroke:#1f77b4;stroke-linecap:square;stroke-width:1.5;\"/>\n    </g>\n    <g id=\"line2d_18\"/>\n    <g id=\"text_15\">\n     <!-- loss -->\n     <g transform=\"translate(1117.05 23.798437)scale(0.1 -0.1)\">\n      <defs>\n       <path d=\"M 9.421875 75.984375 \nL 18.40625 75.984375 \nL 18.40625 0 \nL 9.421875 0 \nz\n\" id=\"DejaVuSans-108\"/>\n       <path d=\"M 30.609375 48.390625 \nQ 23.390625 48.390625 19.1875 42.75 \nQ 14.984375 37.109375 14.984375 27.296875 \nQ 14.984375 17.484375 19.15625 11.84375 \nQ 23.34375 6.203125 30.609375 6.203125 \nQ 37.796875 6.203125 41.984375 11.859375 \nQ 46.1875 17.53125 46.1875 27.296875 \nQ 46.1875 37.015625 41.984375 42.703125 \nQ 37.796875 48.390625 30.609375 48.390625 \nz\nM 30.609375 56 \nQ 42.328125 56 49.015625 48.375 \nQ 55.71875 40.765625 55.71875 27.296875 \nQ 55.71875 13.875 49.015625 6.21875 \nQ 42.328125 -1.421875 30.609375 -1.421875 \nQ 18.84375 -1.421875 12.171875 6.21875 \nQ 5.515625 13.875 5.515625 27.296875 \nQ 5.515625 40.765625 12.171875 48.375 \nQ 18.84375 56 30.609375 56 \nz\n\" id=\"DejaVuSans-111\"/>\n       <path d=\"M 44.28125 53.078125 \nL 44.28125 44.578125 \nQ 40.484375 46.53125 36.375 47.5 \nQ 32.28125 48.484375 27.875 48.484375 \nQ 21.1875 48.484375 17.84375 46.4375 \nQ 14.5 44.390625 14.5 40.28125 \nQ 14.5 37.15625 16.890625 35.375 \nQ 19.28125 33.59375 26.515625 31.984375 \nL 29.59375 31.296875 \nQ 39.15625 29.25 43.1875 25.515625 \nQ 47.21875 21.78125 47.21875 15.09375 \nQ 47.21875 7.46875 41.1875 3.015625 \nQ 35.15625 -1.421875 24.609375 -1.421875 \nQ 20.21875 -1.421875 15.453125 -0.5625 \nQ 10.6875 0.296875 5.421875 2 \nL 5.421875 11.28125 \nQ 10.40625 8.6875 15.234375 7.390625 \nQ 20.0625 6.109375 24.8125 6.109375 \nQ 31.15625 6.109375 34.5625 8.28125 \nQ 37.984375 10.453125 37.984375 14.40625 \nQ 37.984375 18.0625 35.515625 20.015625 \nQ 33.0625 21.96875 24.703125 23.78125 \nL 21.578125 24.515625 \nQ 13.234375 26.265625 9.515625 29.90625 \nQ 5.8125 33.546875 5.8125 39.890625 \nQ 5.8125 47.609375 11.28125 51.796875 \nQ 16.75 56 26.8125 56 \nQ 31.78125 56 36.171875 55.265625 \nQ 40.578125 54.546875 44.28125 53.078125 \nz\n\" id=\"DejaVuSans-115\"/>\n      </defs>\n      <use xlink:href=\"#DejaVuSans-108\"/>\n      <use x=\"27.783203\" xlink:href=\"#DejaVuSans-111\"/>\n      <use x=\"88.964844\" xlink:href=\"#DejaVuSans-115\"/>\n      <use x=\"141.064453\" xlink:href=\"#DejaVuSans-115\"/>\n     </g>\n    </g>\n    <g id=\"line2d_19\">\n     <path d=\"M 1089.05 34.976562 \nL 1109.05 34.976562 \n\" style=\"fill:none;stroke:#ff7f0e;stroke-linecap:square;stroke-width:1.5;\"/>\n    </g>\n    <g id=\"line2d_20\"/>\n    <g id=\"text_16\">\n     <!-- val_loss -->\n     <g transform=\"translate(1117.05 38.476562)scale(0.1 -0.1)\">\n      <defs>\n       <path d=\"M 2.984375 54.6875 \nL 12.5 54.6875 \nL 29.59375 8.796875 \nL 46.6875 54.6875 \nL 56.203125 54.6875 \nL 35.6875 0 \nL 23.484375 0 \nz\n\" id=\"DejaVuSans-118\"/>\n       <path d=\"M 34.28125 27.484375 \nQ 23.390625 27.484375 19.1875 25 \nQ 14.984375 22.515625 14.984375 16.5 \nQ 14.984375 11.71875 18.140625 8.90625 \nQ 21.296875 6.109375 26.703125 6.109375 \nQ 34.1875 6.109375 38.703125 11.40625 \nQ 43.21875 16.703125 43.21875 25.484375 \nL 43.21875 27.484375 \nz\nM 52.203125 31.203125 \nL 52.203125 0 \nL 43.21875 0 \nL 43.21875 8.296875 \nQ 40.140625 3.328125 35.546875 0.953125 \nQ 30.953125 -1.421875 24.3125 -1.421875 \nQ 15.921875 -1.421875 10.953125 3.296875 \nQ 6 8.015625 6 15.921875 \nQ 6 25.140625 12.171875 29.828125 \nQ 18.359375 34.515625 30.609375 34.515625 \nL 43.21875 34.515625 \nL 43.21875 35.40625 \nQ 43.21875 41.609375 39.140625 45 \nQ 35.0625 48.390625 27.6875 48.390625 \nQ 23 48.390625 18.546875 47.265625 \nQ 14.109375 46.140625 10.015625 43.890625 \nL 10.015625 52.203125 \nQ 14.9375 54.109375 19.578125 55.046875 \nQ 24.21875 56 28.609375 56 \nQ 40.484375 56 46.34375 49.84375 \nQ 52.203125 43.703125 52.203125 31.203125 \nz\n\" id=\"DejaVuSans-97\"/>\n       <path d=\"M 50.984375 -16.609375 \nL 50.984375 -23.578125 \nL -0.984375 -23.578125 \nL -0.984375 -16.609375 \nz\n\" id=\"DejaVuSans-95\"/>\n      </defs>\n      <use xlink:href=\"#DejaVuSans-118\"/>\n      <use x=\"59.179688\" xlink:href=\"#DejaVuSans-97\"/>\n      <use x=\"120.458984\" xlink:href=\"#DejaVuSans-108\"/>\n      <use x=\"148.242188\" xlink:href=\"#DejaVuSans-95\"/>\n      <use x=\"198.242188\" xlink:href=\"#DejaVuSans-108\"/>\n      <use x=\"226.025391\" xlink:href=\"#DejaVuSans-111\"/>\n      <use x=\"287.207031\" xlink:href=\"#DejaVuSans-115\"/>\n      <use x=\"339.306641\" xlink:href=\"#DejaVuSans-115\"/>\n     </g>\n    </g>\n   </g>\n  </g>\n </g>\n <defs>\n  <clipPath id=\"p76bbeef850\">\n   <rect height=\"380.52\" width=\"1116\" x=\"49.190625\" y=\"7.2\"/>\n  </clipPath>\n </defs>\n</svg>\n",
      "image/png": "[encoded data removed]"
     },
     "metadata": {
      "needs_background": "light"
     }
    }
   ],
   "source": [
    "losses = pd.DataFrame(model.history.history)\n",
    "losses.plot()"
   ]
  },
  {
   "cell_type": "code",
   "execution_count": 38,
   "metadata": {},
   "outputs": [],
   "source": [
    "first_eval_batch = scaled_train[-length:]"
   ]
  },
  {
   "cell_type": "code",
   "execution_count": 39,
   "metadata": {},
   "outputs": [],
   "source": [
    "first_eval_batch = first_eval_batch.reshape((1, length, scaled_train.shape[1]))"
   ]
  },
  {
   "cell_type": "code",
   "execution_count": 40,
   "metadata": {},
   "outputs": [
    {
     "output_type": "execute_result",
     "data": {
      "text/plain": [
       "array([[ 0.09935611,  0.00604844,  0.7043987 ,  0.44379532,  0.55802983,\n",
       "         0.47906163,  0.5026858 ,  0.44853583,  0.70022744,  0.4035566 ,\n",
       "         0.30019525,  0.3569843 ,  0.66675997, -0.01557393,  0.63476324,\n",
       "         0.43859276,  0.55765665,  0.3148888 ,  0.5878094 ,  0.3788429 ,\n",
       "         0.60861146,  0.5690886 ,  0.44393027,  0.18863183,  0.53298175,\n",
       "         0.55697197,  0.5451599 ,  0.5554879 ]], dtype=float32)"
      ]
     },
     "metadata": {},
     "execution_count": 40
    }
   ],
   "source": [
    "model.predict(first_eval_batch)"
   ]
  },
  {
   "cell_type": "code",
   "execution_count": 41,
   "metadata": {},
   "outputs": [
    {
     "output_type": "execute_result",
     "data": {
      "text/plain": [
       "array([0.19480519, 0.        , 0.70017036, 0.3920434 , 0.53007217,\n",
       "       0.41064526, 0.40616246, 0.41913319, 0.72714286, 0.4115245 ,\n",
       "       0.30722892, 0.36445121, 0.66777778, 0.        , 0.61119082,\n",
       "       0.39840637, 0.51618399, 0.32953105, 0.53703704, 0.34024896,\n",
       "       0.6057377 , 0.52631579, 0.41881579, 0.2       , 0.55283333,\n",
       "       0.53372781, 0.76305783, 0.76305783])"
      ]
     },
     "metadata": {},
     "execution_count": 41
    }
   ],
   "source": [
    "scaled_test[0]"
   ]
  },
  {
   "cell_type": "code",
   "execution_count": 42,
   "metadata": {},
   "outputs": [],
   "source": [
    "n_features = scaled_train.shape[1]\n",
    "test_predictions = []\n",
    "\n",
    "first_eval_batch = scaled_train[-length:]\n",
    "current_batch = first_eval_batch.reshape((1, length, n_features))\n",
    "\n",
    "for i in range(len(test)):\n",
    "    \n",
    "    # get prediction 1 time stamp ahead ([0] is for grabbing just the number instead of [array])\n",
    "    current_pred = model.predict(current_batch)[0]\n",
    "    \n",
    "    # store prediction\n",
    "    test_predictions.append(current_pred) \n",
    "    \n",
    "    # update batch to now include prediction and drop first value\n",
    "    current_batch = np.append(current_batch[:,1:,:],[[current_pred]],axis=1)"
   ]
  },
  {
   "cell_type": "code",
   "execution_count": 43,
   "metadata": {},
   "outputs": [],
   "source": [
    "true_predictions = scaler.inverse_transform(test_predictions)"
   ]
  },
  {
   "cell_type": "code",
   "execution_count": 45,
   "metadata": {},
   "outputs": [],
   "source": [
    "true_predictions = pd.DataFrame(data=true_predictions,columns=test.columns)"
   ]
  },
  {
   "cell_type": "code",
   "execution_count": 46,
   "metadata": {},
   "outputs": [
    {
     "output_type": "execute_result",
     "data": {
      "text/plain": [
       "     Appliances    lights         T1       RH_1         T2       RH_2  \\\n",
       "0     96.504208  0.181453  24.524820  39.290941  24.348632  36.570843   \n",
       "1     97.213588  0.274241  24.597851  40.005995  24.343124  36.989647   \n",
       "2    103.269979  0.287875  24.670593  40.677500  24.356792  37.518184   \n",
       "3    109.022588  0.306488  24.743325  41.349002  24.374176  38.130079   \n",
       "4    114.264053  0.339154  24.820268  42.029739  24.396754  38.793821   \n",
       "..          ...       ...        ...        ...        ...        ...   \n",
       "283  169.913070  2.188037  28.277150  57.987183  27.426536  55.583239   \n",
       "284  169.805181  2.193806  28.272873  57.800226  27.300352  55.639450   \n",
       "285  169.581520  2.193794  28.266213  57.606700  27.172340  55.686580   \n",
       "286  169.240161  2.188104  28.257195  57.407798  27.043060  55.725098   \n",
       "287  168.780574  2.176881  28.245848  57.204611  26.912977  55.755543   \n",
       "\n",
       "            T3       RH_3         T4       RH_4  ...         T9       RH_9  \\\n",
       "0    25.689177  37.256298  24.101592  37.614387  ...  22.274171  38.067102   \n",
       "1    25.919672  37.611689  24.153513  37.957827  ...  22.404397  38.419373   \n",
       "2    26.129236  37.938235  24.206317  38.444356  ...  22.521238  38.716849   \n",
       "3    26.337216  38.247236  24.259314  38.998427  ...  22.634619  39.013760   \n",
       "4    26.547032  38.545011  24.316492  39.599485  ...  22.746987  39.309758   \n",
       "..         ...        ...        ...        ...  ...        ...        ...   \n",
       "283  30.607708  44.373075  26.185783  57.531867  ...  25.077281  48.062108   \n",
       "284  30.607802  44.333918  26.158568  57.449323  ...  25.044059  48.025854   \n",
       "285  30.604523  44.288614  26.131009  57.353852  ...  25.011373  47.993673   \n",
       "286  30.597816  44.237780  26.103101  57.246749  ...  24.979394  47.965826   \n",
       "287  30.587646  44.181996  26.074832  57.129248  ...  24.948253  47.942442   \n",
       "\n",
       "         T_out  Press_mm_hg      RH_out  Windspeed  Visibility  Tdewpoint  \\\n",
       "0    16.550120   757.075220   57.738700   1.886318   36.978905   8.012826   \n",
       "1    16.412200   757.177441   59.424500   1.876508   35.322326   8.482353   \n",
       "2    16.325853   757.315986   61.456007   1.849841   33.835194   8.925639   \n",
       "3    16.249948   757.461651   63.464529   1.820580   32.448595   9.372241   \n",
       "4    16.171396   757.609891   65.482936   1.790329   31.164552   9.824603   \n",
       "..         ...          ...         ...        ...         ...        ...   \n",
       "283  14.791904   754.714957  100.586430   3.760720   23.861226  17.852467   \n",
       "284  14.605860   754.895666  100.390926   3.950851   24.516468  17.587803   \n",
       "285  14.412612   755.074641  100.244717   4.128301   25.138737  17.325694   \n",
       "286  14.212882   755.252185  100.146218   4.293493   25.727818  17.066582   \n",
       "287  14.007381   755.428606  100.093770   4.446911   26.283826  16.810836   \n",
       "\n",
       "           rv1        rv2  \n",
       "0    27.251639  27.767729  \n",
       "1    27.667180  27.556593  \n",
       "2    27.872779  27.724631  \n",
       "3    28.089645  27.896716  \n",
       "4    28.319754  28.086422  \n",
       "..         ...        ...  \n",
       "283  35.946745  33.577324  \n",
       "284  35.988780  33.617250  \n",
       "285  36.025751  33.655297  \n",
       "286  36.058026  33.691753  \n",
       "287  36.085919  33.726872  \n",
       "\n",
       "[288 rows x 28 columns]"
      ],
      "text/html": "<div>\n<style scoped>\n    .dataframe tbody tr th:only-of-type {\n        vertical-align: middle;\n    }\n\n    .dataframe tbody tr th {\n        vertical-align: top;\n    }\n\n    .dataframe thead th {\n        text-align: right;\n    }\n</style>\n<table border=\"1\" class=\"dataframe\">\n  <thead>\n    <tr style=\"text-align: right;\">\n      <th></th>\n      <th>Appliances</th>\n      <th>lights</th>\n      <th>T1</th>\n      <th>RH_1</th>\n      <th>T2</th>\n      <th>RH_2</th>\n      <th>T3</th>\n      <th>RH_3</th>\n      <th>T4</th>\n      <th>RH_4</th>\n      <th>...</th>\n      <th>T9</th>\n      <th>RH_9</th>\n      <th>T_out</th>\n      <th>Press_mm_hg</th>\n      <th>RH_out</th>\n      <th>Windspeed</th>\n      <th>Visibility</th>\n      <th>Tdewpoint</th>\n      <th>rv1</th>\n      <th>rv2</th>\n    </tr>\n  </thead>\n  <tbody>\n    <tr>\n      <th>0</th>\n      <td>96.504208</td>\n      <td>0.181453</td>\n      <td>24.524820</td>\n      <td>39.290941</td>\n      <td>24.348632</td>\n      <td>36.570843</td>\n      <td>25.689177</td>\n      <td>37.256298</td>\n      <td>24.101592</td>\n      <td>37.614387</td>\n      <td>...</td>\n      <td>22.274171</td>\n      <td>38.067102</td>\n      <td>16.550120</td>\n      <td>757.075220</td>\n      <td>57.738700</td>\n      <td>1.886318</td>\n      <td>36.978905</td>\n      <td>8.012826</td>\n      <td>27.251639</td>\n      <td>27.767729</td>\n    </tr>\n    <tr>\n      <th>1</th>\n      <td>97.213588</td>\n      <td>0.274241</td>\n      <td>24.597851</td>\n      <td>40.005995</td>\n      <td>24.343124</td>\n      <td>36.989647</td>\n      <td>25.919672</td>\n      <td>37.611689</td>\n      <td>24.153513</td>\n      <td>37.957827</td>\n      <td>...</td>\n      <td>22.404397</td>\n      <td>38.419373</td>\n      <td>16.412200</td>\n      <td>757.177441</td>\n      <td>59.424500</td>\n      <td>1.876508</td>\n      <td>35.322326</td>\n      <td>8.482353</td>\n      <td>27.667180</td>\n      <td>27.556593</td>\n    </tr>\n    <tr>\n      <th>2</th>\n      <td>103.269979</td>\n      <td>0.287875</td>\n      <td>24.670593</td>\n      <td>40.677500</td>\n      <td>24.356792</td>\n      <td>37.518184</td>\n      <td>26.129236</td>\n      <td>37.938235</td>\n      <td>24.206317</td>\n      <td>38.444356</td>\n      <td>...</td>\n      <td>22.521238</td>\n      <td>38.716849</td>\n      <td>16.325853</td>\n      <td>757.315986</td>\n      <td>61.456007</td>\n      <td>1.849841</td>\n      <td>33.835194</td>\n      <td>8.925639</td>\n      <td>27.872779</td>\n      <td>27.724631</td>\n    </tr>\n    <tr>\n      <th>3</th>\n      <td>109.022588</td>\n      <td>0.306488</td>\n      <td>24.743325</td>\n      <td>41.349002</td>\n      <td>24.374176</td>\n      <td>38.130079</td>\n      <td>26.337216</td>\n      <td>38.247236</td>\n      <td>24.259314</td>\n      <td>38.998427</td>\n      <td>...</td>\n      <td>22.634619</td>\n      <td>39.013760</td>\n      <td>16.249948</td>\n      <td>757.461651</td>\n      <td>63.464529</td>\n      <td>1.820580</td>\n      <td>32.448595</td>\n      <td>9.372241</td>\n      <td>28.089645</td>\n      <td>27.896716</td>\n    </tr>\n    <tr>\n      <th>4</th>\n      <td>114.264053</td>\n      <td>0.339154</td>\n      <td>24.820268</td>\n      <td>42.029739</td>\n      <td>24.396754</td>\n      <td>38.793821</td>\n      <td>26.547032</td>\n      <td>38.545011</td>\n      <td>24.316492</td>\n      <td>39.599485</td>\n      <td>...</td>\n      <td>22.746987</td>\n      <td>39.309758</td>\n      <td>16.171396</td>\n      <td>757.609891</td>\n      <td>65.482936</td>\n      <td>1.790329</td>\n      <td>31.164552</td>\n      <td>9.824603</td>\n      <td>28.319754</td>\n      <td>28.086422</td>\n    </tr>\n    <tr>\n      <th>...</th>\n      <td>...</td>\n      <td>...</td>\n      <td>...</td>\n      <td>...</td>\n      <td>...</td>\n      <td>...</td>\n      <td>...</td>\n      <td>...</td>\n      <td>...</td>\n      <td>...</td>\n      <td>...</td>\n      <td>...</td>\n      <td>...</td>\n      <td>...</td>\n      <td>...</td>\n      <td>...</td>\n      <td>...</td>\n      <td>...</td>\n      <td>...</td>\n      <td>...</td>\n      <td>...</td>\n    </tr>\n    <tr>\n      <th>283</th>\n      <td>169.913070</td>\n      <td>2.188037</td>\n      <td>28.277150</td>\n      <td>57.987183</td>\n      <td>27.426536</td>\n      <td>55.583239</td>\n      <td>30.607708</td>\n      <td>44.373075</td>\n      <td>26.185783</td>\n      <td>57.531867</td>\n      <td>...</td>\n      <td>25.077281</td>\n      <td>48.062108</td>\n      <td>14.791904</td>\n      <td>754.714957</td>\n      <td>100.586430</td>\n      <td>3.760720</td>\n      <td>23.861226</td>\n      <td>17.852467</td>\n      <td>35.946745</td>\n      <td>33.577324</td>\n    </tr>\n    <tr>\n      <th>284</th>\n      <td>169.805181</td>\n      <td>2.193806</td>\n      <td>28.272873</td>\n      <td>57.800226</td>\n      <td>27.300352</td>\n      <td>55.639450</td>\n      <td>30.607802</td>\n      <td>44.333918</td>\n      <td>26.158568</td>\n      <td>57.449323</td>\n      <td>...</td>\n      <td>25.044059</td>\n      <td>48.025854</td>\n      <td>14.605860</td>\n      <td>754.895666</td>\n      <td>100.390926</td>\n      <td>3.950851</td>\n      <td>24.516468</td>\n      <td>17.587803</td>\n      <td>35.988780</td>\n      <td>33.617250</td>\n    </tr>\n    <tr>\n      <th>285</th>\n      <td>169.581520</td>\n      <td>2.193794</td>\n      <td>28.266213</td>\n      <td>57.606700</td>\n      <td>27.172340</td>\n      <td>55.686580</td>\n      <td>30.604523</td>\n      <td>44.288614</td>\n      <td>26.131009</td>\n      <td>57.353852</td>\n      <td>...</td>\n      <td>25.011373</td>\n      <td>47.993673</td>\n      <td>14.412612</td>\n      <td>755.074641</td>\n      <td>100.244717</td>\n      <td>4.128301</td>\n      <td>25.138737</td>\n      <td>17.325694</td>\n      <td>36.025751</td>\n      <td>33.655297</td>\n    </tr>\n    <tr>\n      <th>286</th>\n      <td>169.240161</td>\n      <td>2.188104</td>\n      <td>28.257195</td>\n      <td>57.407798</td>\n      <td>27.043060</td>\n      <td>55.725098</td>\n      <td>30.597816</td>\n      <td>44.237780</td>\n      <td>26.103101</td>\n      <td>57.246749</td>\n      <td>...</td>\n      <td>24.979394</td>\n      <td>47.965826</td>\n      <td>14.212882</td>\n      <td>755.252185</td>\n      <td>100.146218</td>\n      <td>4.293493</td>\n      <td>25.727818</td>\n      <td>17.066582</td>\n      <td>36.058026</td>\n      <td>33.691753</td>\n    </tr>\n    <tr>\n      <th>287</th>\n      <td>168.780574</td>\n      <td>2.176881</td>\n      <td>28.245848</td>\n      <td>57.204611</td>\n      <td>26.912977</td>\n      <td>55.755543</td>\n      <td>30.587646</td>\n      <td>44.181996</td>\n      <td>26.074832</td>\n      <td>57.129248</td>\n      <td>...</td>\n      <td>24.948253</td>\n      <td>47.942442</td>\n      <td>14.007381</td>\n      <td>755.428606</td>\n      <td>100.093770</td>\n      <td>4.446911</td>\n      <td>26.283826</td>\n      <td>16.810836</td>\n      <td>36.085919</td>\n      <td>33.726872</td>\n    </tr>\n  </tbody>\n</table>\n<p>288 rows × 28 columns</p>\n</div>"
     },
     "metadata": {},
     "execution_count": 46
    }
   ],
   "source": [
    "true_predictions"
   ]
  },
  {
   "cell_type": "code",
   "execution_count": null,
   "metadata": {},
   "outputs": [],
   "source": []
  }
 ]
}